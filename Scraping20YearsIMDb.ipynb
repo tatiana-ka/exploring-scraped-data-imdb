{
  "nbformat": 4,
  "nbformat_minor": 0,
  "metadata": {
    "colab": {
      "name": "Scraping20YearsIMDb.ipynb",
      "provenance": [],
      "collapsed_sections": [
        "8g2fqXpD9v-R",
        "jXq5wbryQw4j",
        "sN1finfhGW9q",
        "aJebLKSOYfpf",
        "w25Z1JBmCj6B"
      ],
      "authorship_tag": "ABX9TyOqwtdKXtJctVhnyDJs8BQr",
      "include_colab_link": true
    },
    "kernelspec": {
      "display_name": "Python 3",
      "name": "python3"
    },
    "language_info": {
      "name": "python"
    }
  },
  "cells": [
    {
      "cell_type": "markdown",
      "metadata": {
        "id": "view-in-github",
        "colab_type": "text"
      },
      "source": [
        "<a href=\"https://colab.research.google.com/github/tatiana-ka/exploring-scraped-data-imdb/blob/main/Scraping20YearsIMDb.ipynb\" target=\"_parent\"><img src=\"https://colab.research.google.com/assets/colab-badge.svg\" alt=\"Open In Colab\"/></a>"
      ]
    },
    {
      "cell_type": "markdown",
      "source": [
        "## **Scraping 20 years of IMDb movies**"
      ],
      "metadata": {
        "id": "m9xr0uk29HfD"
      }
    },
    {
      "cell_type": "markdown",
      "source": [
        "In this notebook I am scaping 20 years (1999-2019) of movie data from IMDb. The goal for me was two-fold. First, I have a bigger project idea that would require some somewhat objective infromation about movie quality. Second, I wanted to get back into scraping and play around with it. \n",
        "\n",
        "\n",
        "\n",
        "In this notebook I explore scraping step by step. First, applying scraping just for one page to make sure I extract all the information from html nicely. I also find it helpful to progress step by step wrapping more and more code around like matroshka. This way it goes faster when I have to get into code after a long break. Second, I try to optimize and automate scaping to get all 20 years in one dataset. \n",
        "\n",
        "I play with loops and functions to make the code more efficient. Still, there are quite a few things that can be improved (some I note in the comments to the code). Like with many things in life, things get clearer in retrospective, so some improvements are left for the next time. "
      ],
      "metadata": {
        "id": "u-DjMAZXoR0n"
      }
    },
    {
      "cell_type": "code",
      "metadata": {
        "id": "XkKJ7WzP8WBo"
      },
      "source": [
        "from requests import get\n",
        "from bs4 import BeautifulSoup\n",
        "import pandas as pd\n",
        "import numpy as np\n",
        "import re\n",
        "from time import sleep\n",
        "from random import randint\n",
        "from datetime import datetime\n",
        "from IPython.core.display import clear_output\n",
        "from warnings import warn\n",
        "import math"
      ],
      "execution_count": 1,
      "outputs": []
    },
    {
      "cell_type": "markdown",
      "source": [
        "Connect to the google drive. This will come in handy when I’ll start loading the scraped data. "
      ],
      "metadata": {
        "id": "mtBY4Krnoj6l"
      }
    },
    {
      "cell_type": "code",
      "metadata": {
        "colab": {
          "base_uri": "https://localhost:8080/"
        },
        "id": "cwTC5ub14uhm",
        "outputId": "aee3934f-0cd7-44de-dcc6-b8f3f6cf9739"
      },
      "source": [
        "from google.colab import files, drive\n",
        "\n",
        "drive.mount('/content/drive')"
      ],
      "execution_count": 2,
      "outputs": [
        {
          "output_type": "stream",
          "name": "stdout",
          "text": [
            "Mounted at /content/drive\n"
          ]
        }
      ]
    },
    {
      "cell_type": "markdown",
      "metadata": {
        "id": "8g2fqXpD9v-R"
      },
      "source": [
        "### **Working on one page**"
      ]
    },
    {
      "cell_type": "markdown",
      "metadata": {
        "id": "mJgd5Q-x91XI"
      },
      "source": [
        "Both because some things I learn as I go, and because it’s nice to have the logic parsed I start by working with the html from just one page before getting full on into scraping. \n",
        "First examining this page: \n",
        "https://www.imdb.com/search/title/?title_type=feature&release_date=1999-01-01,2019-12-31&languages=en&count=250&start=1&ref_=adv_nxt\n",
        "\n",
        "The page is already set up so that:\n",
        "* it's only feature films;\n",
        "* only between 1999 and 2019 (inclusive)\n",
        "* language - English\n",
        "* number of movies per page = 250\n",
        "\n",
        "Looking at the link it is fairly easy to see where this information pops up. Once I know the structure of the link, I can edit it. This way, for example, I can edit the link to jump to the next 250 movies, see *start=251* within the link below. Notice, in the link above *start=1*.\n",
        "\n",
        "https://www.imdb.com/search/title/?title_type=feature&release_date=1999-01-01,2019-12-31&languages=en&count=250&start=251&ref_=adv_nxt"
      ]
    },
    {
      "cell_type": "markdown",
      "metadata": {
        "id": "r5mm2LPX-SjX"
      },
      "source": [
        "**Calling the page**"
      ]
    },
    {
      "cell_type": "code",
      "metadata": {
        "colab": {
          "base_uri": "https://localhost:8080/"
        },
        "id": "CouZYhmh-Acx",
        "outputId": "90cd3610-662b-406d-e6d1-ba45be909370"
      },
      "source": [
        "url = 'https://www.imdb.com/search/title/?title_type=feature&release_date=1999-01-01,2019-12-31&languages=en&count=250&start=1&ref_=adv_nxt'\n",
        "\n",
        "response = get(url)\n",
        "\n",
        "print(response.text[:500])"
      ],
      "execution_count": null,
      "outputs": [
        {
          "output_type": "stream",
          "name": "stdout",
          "text": [
            "\n",
            "\n",
            "<!DOCTYPE html>\n",
            "<html\n",
            "    xmlns:og=\"http://ogp.me/ns#\"\n",
            "    xmlns:fb=\"http://www.facebook.com/2008/fbml\">\n",
            "    <head>\n",
            "         \n",
            "\n",
            "        <meta charset=\"utf-8\">\n",
            "        <meta http-equiv=\"X-UA-Compatible\" content=\"IE=edge\">\n",
            "\n",
            "\n",
            "\n",
            "\n",
            "        <script type=\"text/javascript\">var IMDbTimer={starttime: new Date().getTime(),pt:'java'};</script>\n",
            "\n",
            "<script>\n",
            "    if (typeof uet == 'function') {\n",
            "      uet(\"bb\", \"LoadTitle\", {wb: 1});\n",
            "    }\n",
            "</script>\n",
            "  <script>(function(t){ (t.events = t.events || {})[\"csm_head_pre_\n"
          ]
        }
      ]
    },
    {
      "cell_type": "markdown",
      "metadata": {
        "id": "yG78mqhy-OYe"
      },
      "source": [
        "**Parcing HTML**"
      ]
    },
    {
      "cell_type": "code",
      "metadata": {
        "id": "hsMnqEcE-xl5"
      },
      "source": [
        "html_soup = BeautifulSoup(response.text, 'html.parser') #changes type to BeautifulSoup"
      ],
      "execution_count": null,
      "outputs": []
    },
    {
      "cell_type": "code",
      "metadata": {
        "colab": {
          "base_uri": "https://localhost:8080/"
        },
        "id": "BGP-plme-7bv",
        "outputId": "40f654f7-98e9-44b0-febc-7a02ebb20cb4"
      },
      "source": [
        "movie_containers = html_soup.find_all('div', class_ = 'lister-item mode-advanced')\n",
        "\n",
        "print(len(movie_containers)) # N containers"
      ],
      "execution_count": null,
      "outputs": [
        {
          "output_type": "stream",
          "name": "stdout",
          "text": [
            "250\n"
          ]
        }
      ]
    },
    {
      "cell_type": "markdown",
      "source": [
        "I have 250 containers, that's good, so I managed to get 250 movies from the page. "
      ],
      "metadata": {
        "id": "8EzH4YS6qKtJ"
      }
    },
    {
      "cell_type": "markdown",
      "metadata": {
        "id": "UKZuh0Hu_fxt"
      },
      "source": [
        "These are the items that I would like to get from the page: \n",
        "* Title\n",
        "* IMDb ID \n",
        "* Duration\n",
        "* Genre\n",
        "* IMDb rating\n",
        "* Metascore\n",
        "* Synopsys\n",
        "* Votes \n",
        "* Gross"
      ]
    },
    {
      "cell_type": "markdown",
      "metadata": {
        "id": "itTITVsZAYw7"
      },
      "source": [
        "Starting with the first movie:\n",
        "\n",
        "![image.png](data:image/png;base64,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)"
      ]
    },
    {
      "cell_type": "markdown",
      "metadata": {
        "id": "UNdTe3P9IMsE"
      },
      "source": [
        "#### **For one movie**"
      ]
    },
    {
      "cell_type": "markdown",
      "source": [
        "Here is what I have if I call html that refers to the first movie.\n",
        "The 6th line says \"Murder on the Orient Express\" among other things, so it seems I'm on the right spot. "
      ],
      "metadata": {
        "id": "_q2oIgR-q1ED"
      }
    },
    {
      "cell_type": "code",
      "metadata": {
        "colab": {
          "base_uri": "https://localhost:8080/"
        },
        "id": "xusV9Zyr_emg",
        "outputId": "af8fa123-5885-4565-a27e-d7ee5d7a89f4"
      },
      "source": [
        "first_movie = movie_containers[0]\n",
        "\n",
        "first_movie"
      ],
      "execution_count": null,
      "outputs": [
        {
          "output_type": "execute_result",
          "data": {
            "text/plain": [
              "<div class=\"lister-item mode-advanced\">\n",
              "<div class=\"lister-top-right\">\n",
              "<div class=\"ribbonize\" data-caller=\"filmosearch\" data-tconst=\"tt3402236\"></div>\n",
              "</div>\n",
              "<div class=\"lister-item-image float-left\">\n",
              "<a href=\"/title/tt3402236/\"> <img alt=\"Murder on the Orient Express\" class=\"loadlate\" data-tconst=\"tt3402236\" height=\"98\" loadlate=\"https://m.media-amazon.com/images/M/MV5BMTAxNDkxODIyMDZeQTJeQWpwZ15BbWU4MDQ2Mjg4NDIy._V1_UX67_CR0,0,67,98_AL_.jpg\" src=\"https://m.media-amazon.com/images/S/sash/4FyxwxECzL-U1J8.png\" width=\"67\"/>\n",
              "</a> </div>\n",
              "<div class=\"lister-item-content\">\n",
              "<h3 class=\"lister-item-header\">\n",
              "<span class=\"lister-item-index unbold text-primary\">1.</span>\n",
              "<a href=\"/title/tt3402236/\">Murder on the Orient Express</a>\n",
              "<span class=\"lister-item-year text-muted unbold\">(2017)</span>\n",
              "</h3>\n",
              "<p class=\"text-muted \">\n",
              "<span class=\"certificate\">PG-13</span>\n",
              "<span class=\"ghost\">|</span>\n",
              "<span class=\"runtime\">114 min</span>\n",
              "<span class=\"ghost\">|</span>\n",
              "<span class=\"genre\">\n",
              "Crime, Drama, Mystery            </span>\n",
              "</p>\n",
              "<div class=\"ratings-bar\">\n",
              "<div class=\"inline-block ratings-imdb-rating\" data-value=\"6.5\" name=\"ir\">\n",
              "<span class=\"global-sprite rating-star imdb-rating\"></span>\n",
              "<strong>6.5</strong>\n",
              "</div>\n",
              "<div class=\"inline-block ratings-user-rating\">\n",
              "<span class=\"userRatingValue\" data-tconst=\"tt3402236\" id=\"urv_tt3402236\">\n",
              "<span class=\"global-sprite rating-star no-rating\"></span>\n",
              "<span class=\"rate\" data-no-rating=\"Rate this\" data-value=\"0\" name=\"ur\">Rate this</span>\n",
              "</span>\n",
              "<div class=\"starBarWidget\" id=\"sb_tt3402236\">\n",
              "<div class=\"rating rating-list\" data-csrf-token=\"\" data-ga-identifier=\"\" data-starbar-class=\"rating-list\" data-user=\"\" id=\"tt3402236|imdb|6.5|6.5|adv_li_tt||advsearch|title\" itemprop=\"aggregateRating\" itemscope=\"\" itemtype=\"http://schema.org/AggregateRating\" title=\"Users rated this 6.5/10 (242,162 votes) - click stars to rate\">\n",
              "<meta content=\"6.5\" itemprop=\"ratingValue\"/>\n",
              "<meta content=\"10\" itemprop=\"bestRating\"/>\n",
              "<meta content=\"242162\" itemprop=\"ratingCount\"/>\n",
              "<span class=\"rating-bg\"> </span>\n",
              "<span class=\"rating-imdb \" style=\"width: 91px\"> </span>\n",
              "<span class=\"rating-stars\">\n",
              "<a href=\"/register/login?why=vote\" rel=\"nofollow\" title=\"Register or login to rate this title\"><span>1</span></a>\n",
              "<a href=\"/register/login?why=vote\" rel=\"nofollow\" title=\"Register or login to rate this title\"><span>2</span></a>\n",
              "<a href=\"/register/login?why=vote\" rel=\"nofollow\" title=\"Register or login to rate this title\"><span>3</span></a>\n",
              "<a href=\"/register/login?why=vote\" rel=\"nofollow\" title=\"Register or login to rate this title\"><span>4</span></a>\n",
              "<a href=\"/register/login?why=vote\" rel=\"nofollow\" title=\"Register or login to rate this title\"><span>5</span></a>\n",
              "<a href=\"/register/login?why=vote\" rel=\"nofollow\" title=\"Register or login to rate this title\"><span>6</span></a>\n",
              "<a href=\"/register/login?why=vote\" rel=\"nofollow\" title=\"Register or login to rate this title\"><span>7</span></a>\n",
              "<a href=\"/register/login?why=vote\" rel=\"nofollow\" title=\"Register or login to rate this title\"><span>8</span></a>\n",
              "<a href=\"/register/login?why=vote\" rel=\"nofollow\" title=\"Register or login to rate this title\"><span>9</span></a>\n",
              "<a href=\"/register/login?why=vote\" rel=\"nofollow\" title=\"Register or login to rate this title\"><span>10</span></a>\n",
              "</span>\n",
              "<span class=\"rating-rating \"><span class=\"value\">6.5</span><span class=\"grey\">/</span><span class=\"grey\">10</span></span>\n",
              "<span class=\"rating-cancel \"><a href=\"/title/tt3402236/vote\" rel=\"nofollow\" title=\"Delete\"><span>X</span></a></span>\n",
              " </div>\n",
              "</div>\n",
              "</div>\n",
              "<div class=\"inline-block ratings-metascore\">\n",
              "<span class=\"metascore mixed\">52        </span>\n",
              "        Metascore\n",
              "            </div>\n",
              "</div>\n",
              "<p class=\"text-muted\">\n",
              "When a murder occurs on the train on which he's travelling, celebrated detective Hercule Poirot is recruited to solve the case.</p>\n",
              "<p class=\"\">\n",
              "    Director:\n",
              "<a href=\"/name/nm0000110/\">Kenneth Branagh</a>\n",
              "<span class=\"ghost\">|</span> \n",
              "    Stars:\n",
              "<a href=\"/name/nm0000110/\">Kenneth Branagh</a>, \n",
              "<a href=\"/name/nm0004851/\">Penélope Cruz</a>, \n",
              "<a href=\"/name/nm0000353/\">Willem Dafoe</a>, \n",
              "<a href=\"/name/nm0001132/\">Judi Dench</a>\n",
              "</p>\n",
              "<p class=\"sort-num_votes-visible\">\n",
              "<span class=\"text-muted\">Votes:</span>\n",
              "<span data-value=\"242162\" name=\"nv\">242,162</span>\n",
              "<span class=\"ghost\">|</span> <span class=\"text-muted\">Gross:</span>\n",
              "<span data-value=\"102,826,543\" name=\"nv\">$102.83M</span>\n",
              "</p>\n",
              "</div>\n",
              "</div>"
            ]
          },
          "metadata": {},
          "execution_count": 22
        }
      ]
    },
    {
      "cell_type": "markdown",
      "metadata": {
        "id": "QNSnLoGIDWHb"
      },
      "source": [
        "Calling the Movie Name"
      ]
    },
    {
      "cell_type": "code",
      "metadata": {
        "colab": {
          "base_uri": "https://localhost:8080/"
        },
        "id": "gjPxXhJrA1f3",
        "outputId": "c6af7b9e-efb5-4c83-b5c3-fe5d7aea547f"
      },
      "source": [
        "first_movie.h3.a # that's too much, need to get the text only"
      ],
      "execution_count": null,
      "outputs": [
        {
          "output_type": "execute_result",
          "data": {
            "text/plain": [
              "<a href=\"/title/tt3402236/\">Murder on the Orient Express</a>"
            ]
          },
          "metadata": {},
          "execution_count": 7
        }
      ]
    },
    {
      "cell_type": "code",
      "metadata": {
        "colab": {
          "base_uri": "https://localhost:8080/",
          "height": 36
        },
        "id": "2R-hgLxVBFic",
        "outputId": "8add8a1a-9e7e-4d14-8256-605a169bfc24"
      },
      "source": [
        "first_movie.h3.a.text"
      ],
      "execution_count": null,
      "outputs": [
        {
          "output_type": "execute_result",
          "data": {
            "text/plain": [
              "'Murder on the Orient Express'"
            ],
            "application/vnd.google.colaboratory.intrinsic+json": {
              "type": "string"
            }
          },
          "metadata": {},
          "execution_count": 23
        }
      ]
    },
    {
      "cell_type": "markdown",
      "metadata": {
        "id": "HeZzqMceDcAV"
      },
      "source": [
        "Calling Movie ID"
      ]
    },
    {
      "cell_type": "code",
      "metadata": {
        "colab": {
          "base_uri": "https://localhost:8080/",
          "height": 36
        },
        "id": "D1QvbzyNBsvc",
        "outputId": "485cbf47-11dc-4901-9b9c-d841afea532e"
      },
      "source": [
        "first_movie.div.div['data-tconst']"
      ],
      "execution_count": null,
      "outputs": [
        {
          "output_type": "execute_result",
          "data": {
            "text/plain": [
              "'tt3402236'"
            ],
            "application/vnd.google.colaboratory.intrinsic+json": {
              "type": "string"
            }
          },
          "metadata": {},
          "execution_count": 24
        }
      ]
    },
    {
      "cell_type": "markdown",
      "metadata": {
        "id": "hVxKBfZfDfN4"
      },
      "source": [
        "Calling Duration"
      ]
    },
    {
      "cell_type": "code",
      "metadata": {
        "colab": {
          "base_uri": "https://localhost:8080/",
          "height": 36
        },
        "id": "I2O0OY7kDglX",
        "outputId": "b8df9f7f-8a75-469d-b71f-0487826a499a"
      },
      "source": [
        "first_movie.find('span', class_ = 'runtime').text"
      ],
      "execution_count": null,
      "outputs": [
        {
          "output_type": "execute_result",
          "data": {
            "text/plain": [
              "'114 min'"
            ],
            "application/vnd.google.colaboratory.intrinsic+json": {
              "type": "string"
            }
          },
          "metadata": {},
          "execution_count": 25
        }
      ]
    },
    {
      "cell_type": "markdown",
      "metadata": {
        "id": "puCUYA74D_2V"
      },
      "source": [
        "Calling Genre"
      ]
    },
    {
      "cell_type": "code",
      "metadata": {
        "colab": {
          "base_uri": "https://localhost:8080/",
          "height": 36
        },
        "id": "rtpz1WsoECxH",
        "outputId": "b58c4c8e-b611-4723-831e-c70000513535"
      },
      "source": [
        "first_movie.find('span', class_ = 'genre').text"
      ],
      "execution_count": null,
      "outputs": [
        {
          "output_type": "execute_result",
          "data": {
            "text/plain": [
              "'\\nCrime, Drama, Mystery            '"
            ],
            "application/vnd.google.colaboratory.intrinsic+json": {
              "type": "string"
            }
          },
          "metadata": {},
          "execution_count": 26
        }
      ]
    },
    {
      "cell_type": "markdown",
      "metadata": {
        "id": "VCb7gge-EP1D"
      },
      "source": [
        "Calling IMDb Rating"
      ]
    },
    {
      "cell_type": "code",
      "metadata": {
        "colab": {
          "base_uri": "https://localhost:8080/",
          "height": 36
        },
        "id": "wa8_YD_RESF6",
        "outputId": "9a8a3cf9-9071-44bf-89df-0c72723adb16"
      },
      "source": [
        "first_movie.strong.text"
      ],
      "execution_count": null,
      "outputs": [
        {
          "output_type": "execute_result",
          "data": {
            "text/plain": [
              "'6.5'"
            ],
            "application/vnd.google.colaboratory.intrinsic+json": {
              "type": "string"
            }
          },
          "metadata": {},
          "execution_count": 27
        }
      ]
    },
    {
      "cell_type": "markdown",
      "metadata": {
        "id": "uPq9gMkNEb1_"
      },
      "source": [
        "Calling Metascore"
      ]
    },
    {
      "cell_type": "code",
      "metadata": {
        "colab": {
          "base_uri": "https://localhost:8080/",
          "height": 36
        },
        "id": "jxa4_n9qEfGG",
        "outputId": "14c94a1e-4be1-489c-aa04-00bfbdc7546a"
      },
      "source": [
        "first_movie.find('span', class_ = 'metascore').text "
      ],
      "execution_count": null,
      "outputs": [
        {
          "output_type": "execute_result",
          "data": {
            "text/plain": [
              "'52        '"
            ],
            "application/vnd.google.colaboratory.intrinsic+json": {
              "type": "string"
            }
          },
          "metadata": {},
          "execution_count": 28
        }
      ]
    },
    {
      "cell_type": "markdown",
      "source": [
        "Need to be careful about some missing data here: not all movies have Metascore. For example, 5th movie on the page does not have it. "
      ],
      "metadata": {
        "id": "b5CoA0r3rxQg"
      }
    },
    {
      "cell_type": "code",
      "metadata": {
        "colab": {
          "base_uri": "https://localhost:8080/",
          "height": 173
        },
        "id": "1MKVsUGfHsBc",
        "outputId": "a6cd05d4-f813-49a4-b588-df9eea7f79e0"
      },
      "source": [
        "movie_containers[5].find('span', class_ = 'metascore').text #if error"
      ],
      "execution_count": null,
      "outputs": [
        {
          "output_type": "error",
          "ename": "AttributeError",
          "evalue": "ignored",
          "traceback": [
            "\u001b[0;31m---------------------------------------------------------------------------\u001b[0m",
            "\u001b[0;31mAttributeError\u001b[0m                            Traceback (most recent call last)",
            "\u001b[0;32m<ipython-input-30-4afb4bc765c6>\u001b[0m in \u001b[0;36m<module>\u001b[0;34m()\u001b[0m\n\u001b[0;32m----> 1\u001b[0;31m \u001b[0mmovie_containers\u001b[0m\u001b[0;34m[\u001b[0m\u001b[0;36m5\u001b[0m\u001b[0;34m]\u001b[0m\u001b[0;34m.\u001b[0m\u001b[0mfind\u001b[0m\u001b[0;34m(\u001b[0m\u001b[0;34m'span'\u001b[0m\u001b[0;34m,\u001b[0m \u001b[0mclass_\u001b[0m \u001b[0;34m=\u001b[0m \u001b[0;34m'metascore'\u001b[0m\u001b[0;34m)\u001b[0m\u001b[0;34m.\u001b[0m\u001b[0mtext\u001b[0m \u001b[0;31m#if error\u001b[0m\u001b[0;34m\u001b[0m\u001b[0;34m\u001b[0m\u001b[0m\n\u001b[0m",
            "\u001b[0;31mAttributeError\u001b[0m: 'NoneType' object has no attribute 'text'"
          ]
        }
      ]
    },
    {
      "cell_type": "markdown",
      "source": [
        "Wrapping in `try` to pass the error:"
      ],
      "metadata": {
        "id": "GBXBQyACr8Fk"
      }
    },
    {
      "cell_type": "code",
      "metadata": {
        "colab": {
          "base_uri": "https://localhost:8080/"
        },
        "id": "hkuvIb1TLx8O",
        "outputId": "a5df5236-b549-4a01-8075-40a7ea59c437"
      },
      "source": [
        "try:\n",
        "  test1 = movie_containers[5].find('span', class_ = 'metascore').text\n",
        "except:\n",
        "  print(None)  "
      ],
      "execution_count": null,
      "outputs": [
        {
          "output_type": "stream",
          "name": "stdout",
          "text": [
            "None\n"
          ]
        }
      ]
    },
    {
      "cell_type": "markdown",
      "metadata": {
        "id": "BhY5l-PoE05C"
      },
      "source": [
        "Calling Synopsis"
      ]
    },
    {
      "cell_type": "code",
      "metadata": {
        "colab": {
          "base_uri": "https://localhost:8080/",
          "height": 36
        },
        "id": "8jsSwhhQFkbh",
        "outputId": "93d05fa7-1fbb-4116-fbac-79dfb4c8857d"
      },
      "source": [
        "first_movie.find_all('p', class_ = 'text-muted')[1].text"
      ],
      "execution_count": null,
      "outputs": [
        {
          "output_type": "execute_result",
          "data": {
            "text/plain": [
              "\"\\nWhen a murder occurs on the train on which he's travelling, celebrated detective Hercule Poirot is recruited to solve the case.\""
            ],
            "application/vnd.google.colaboratory.intrinsic+json": {
              "type": "string"
            }
          },
          "metadata": {},
          "execution_count": 31
        }
      ]
    },
    {
      "cell_type": "markdown",
      "metadata": {
        "id": "3w1F8wRsFwTJ"
      },
      "source": [
        "Calling N Votes"
      ]
    },
    {
      "cell_type": "code",
      "metadata": {
        "colab": {
          "base_uri": "https://localhost:8080/",
          "height": 36
        },
        "id": "FWzRuPSsFx3J",
        "outputId": "c61b07c5-c377-4a25-e79f-1baa17192d4d"
      },
      "source": [
        "first_movie.find('span', attrs = {'name':'nv'})['data-value']"
      ],
      "execution_count": null,
      "outputs": [
        {
          "output_type": "execute_result",
          "data": {
            "text/plain": [
              "'242162'"
            ],
            "application/vnd.google.colaboratory.intrinsic+json": {
              "type": "string"
            }
          },
          "metadata": {},
          "execution_count": 32
        }
      ]
    },
    {
      "cell_type": "markdown",
      "metadata": {
        "id": "DCifZLybF9JE"
      },
      "source": [
        "Calling Gross"
      ]
    },
    {
      "cell_type": "code",
      "metadata": {
        "colab": {
          "base_uri": "https://localhost:8080/",
          "height": 36
        },
        "id": "64pudPw-GAYb",
        "outputId": "cfc63f8e-911a-4de3-fe9b-a663e897d918"
      },
      "source": [
        "first_movie.find_all('span', attrs = {'name':'nv'})[1]['data-value']"
      ],
      "execution_count": null,
      "outputs": [
        {
          "output_type": "execute_result",
          "data": {
            "text/plain": [
              "'102,826,543'"
            ],
            "application/vnd.google.colaboratory.intrinsic+json": {
              "type": "string"
            }
          },
          "metadata": {},
          "execution_count": 33
        }
      ]
    },
    {
      "cell_type": "markdown",
      "source": [
        "Again, need to be careful about missing data: movie 5 has no Gross."
      ],
      "metadata": {
        "id": "PxTJh3VVsqWs"
      }
    },
    {
      "cell_type": "code",
      "metadata": {
        "colab": {
          "base_uri": "https://localhost:8080/",
          "height": 173
        },
        "id": "ipF2z1UDHSKQ",
        "outputId": "4944eb6a-78ce-4fc1-ca8e-aa249fb8acd5"
      },
      "source": [
        "print(movie_containers[5].find_all('span', attrs = {'name':'nv'})[1]['data-value']) #if error - None"
      ],
      "execution_count": null,
      "outputs": [
        {
          "output_type": "error",
          "ename": "IndexError",
          "evalue": "ignored",
          "traceback": [
            "\u001b[0;31m---------------------------------------------------------------------------\u001b[0m",
            "\u001b[0;31mIndexError\u001b[0m                                Traceback (most recent call last)",
            "\u001b[0;32m<ipython-input-34-45423f607613>\u001b[0m in \u001b[0;36m<module>\u001b[0;34m()\u001b[0m\n\u001b[0;32m----> 1\u001b[0;31m \u001b[0mprint\u001b[0m\u001b[0;34m(\u001b[0m\u001b[0mmovie_containers\u001b[0m\u001b[0;34m[\u001b[0m\u001b[0;36m5\u001b[0m\u001b[0;34m]\u001b[0m\u001b[0;34m.\u001b[0m\u001b[0mfind_all\u001b[0m\u001b[0;34m(\u001b[0m\u001b[0;34m'span'\u001b[0m\u001b[0;34m,\u001b[0m \u001b[0mattrs\u001b[0m \u001b[0;34m=\u001b[0m \u001b[0;34m{\u001b[0m\u001b[0;34m'name'\u001b[0m\u001b[0;34m:\u001b[0m\u001b[0;34m'nv'\u001b[0m\u001b[0;34m}\u001b[0m\u001b[0;34m)\u001b[0m\u001b[0;34m[\u001b[0m\u001b[0;36m1\u001b[0m\u001b[0;34m]\u001b[0m\u001b[0;34m[\u001b[0m\u001b[0;34m'data-value'\u001b[0m\u001b[0;34m]\u001b[0m\u001b[0;34m)\u001b[0m \u001b[0;31m#if error - None\u001b[0m\u001b[0;34m\u001b[0m\u001b[0;34m\u001b[0m\u001b[0m\n\u001b[0m",
            "\u001b[0;31mIndexError\u001b[0m: list index out of range"
          ]
        }
      ]
    },
    {
      "cell_type": "code",
      "metadata": {
        "colab": {
          "base_uri": "https://localhost:8080/"
        },
        "id": "no2kew5eLkf9",
        "outputId": "220337b2-38b8-4138-df05-0e591be5581d"
      },
      "source": [
        "try:\n",
        "  test = movie_containers[5].find_all('span', attrs = {'name':'nv'})[1]['data-value']\n",
        "except:\n",
        "  print(None)  \n"
      ],
      "execution_count": null,
      "outputs": [
        {
          "output_type": "stream",
          "name": "stdout",
          "text": [
            "None\n"
          ]
        }
      ]
    },
    {
      "cell_type": "markdown",
      "metadata": {
        "id": "bYdUrFxDIQHR"
      },
      "source": [
        "#### **For the whole page**"
      ]
    },
    {
      "cell_type": "markdown",
      "source": [
        "Now that I've seen how to get each variable I want for one movie, I will put it together, to get these items for all the movies on the page. \n",
        "\n",
        "I will creat an empty list for each variable. I will fill this list with the data from the movies. "
      ],
      "metadata": {
        "id": "F7DuXO1ptTTJ"
      }
    },
    {
      "cell_type": "code",
      "metadata": {
        "id": "NXniIIQcISOQ"
      },
      "source": [
        "#lists for data\n",
        "\n",
        "title = []\n",
        "imbdID = []\n",
        "duration = []\n",
        "genre = []\n",
        "imdb_rating = []\n",
        "metascore = []\n",
        "synopsys = []\n",
        "votes = []\n",
        "gross = []"
      ],
      "execution_count": null,
      "outputs": []
    },
    {
      "cell_type": "code",
      "metadata": {
        "id": "hRXmriPnJS81"
      },
      "source": [
        "for container in movie_containers:\n",
        "  title.append(container.h3.a.text) #title\n",
        "  imbdID.append(container.div.div['data-tconst'])#imdb ID\n",
        "  \n",
        "  try:\n",
        "    duration.append(container.find('span', class_ = 'runtime').text) #duration\n",
        "  except:\n",
        "    duration.append(None) \n",
        "\n",
        "  try:\n",
        "    genre.append(container.find('span', class_ = 'genre').text) #genre\n",
        "  except:\n",
        "    genre.append(None)\n",
        "\n",
        "  imdb_rating.append(container.strong.text)  #imdb rating\n",
        "\n",
        "  try:\n",
        "    metascore.append(container.find('span', class_ = 'metascore').text) #metascore\n",
        "  except:\n",
        "    metascore.append(None)\n",
        "\n",
        "  try:\n",
        "    synopsys.append(container.find_all('p', class_ = 'text-muted')[1].text)  #synopsys\n",
        "  except:\n",
        "    synopsys.append(None)\n",
        "\n",
        "  votes.append(container.find('span', attrs = {'name':'nv'})['data-value'])  #votes\n",
        "\n",
        "  try:\n",
        "    gross.append(container.find_all('span', attrs = {'name':'nv'})[1]['data-value']) #gross\n",
        "  except:\n",
        "    gross.append(None)  \n"
      ],
      "execution_count": null,
      "outputs": []
    },
    {
      "cell_type": "code",
      "metadata": {
        "id": "7Nhb7QD2MtMd"
      },
      "source": [
        "page1_df = pd.DataFrame({\n",
        "    'title': title,\n",
        "    'imdbID': imbdID,\n",
        "    'duration': duration,\n",
        "    'genre': genre,\n",
        "    'imdb_rating': imdb_rating,\n",
        "    'metascore': metascore,\n",
        "    'synopsys': synopsys,\n",
        "    'votes': votes,\n",
        "    'gross': gross\n",
        "})"
      ],
      "execution_count": null,
      "outputs": []
    },
    {
      "cell_type": "code",
      "metadata": {
        "colab": {
          "base_uri": "https://localhost:8080/",
          "height": 677
        },
        "id": "1OAJeq3lNQWr",
        "outputId": "71815327-8634-4ed2-e742-a66754279152"
      },
      "source": [
        "page1_df.head(20)"
      ],
      "execution_count": null,
      "outputs": [
        {
          "output_type": "execute_result",
          "data": {
            "text/plain": [
              "                                                title      imdbID duration  \\\n",
              "0                        Murder on the Orient Express   tt3402236  114 min   \n",
              "1         Fantastic Beasts: The Crimes of Grindelwald   tt4123430  134 min   \n",
              "2                                     The Dark Knight   tt0468569  152 min   \n",
              "3             Fantastic Beasts and Where to Find Them   tt3183660  132 min   \n",
              "4                                   Blade Runner 2049   tt1856101  164 min   \n",
              "5   Batman v Superman: Dawn of Justice Ultimate Ed...  tt18689424  182 min   \n",
              "6                                   Avengers: Endgame   tt4154796  181 min   \n",
              "7               Harry Potter and the Sorcerer's Stone   tt0241527  152 min   \n",
              "8                                        Interstellar   tt0816692  169 min   \n",
              "9                             The Wolf of Wall Street   tt0993846  180 min   \n",
              "10                   Once Upon a Time... In Hollywood   tt7131622  161 min   \n",
              "11                                     The Blind Side   tt0878804  129 min   \n",
              "12                                              Joker   tt7286456  122 min   \n",
              "13                                    American Psycho   tt0144084  102 min   \n",
              "14                 The VVitch: A New-England Folktale   tt4263482   92 min   \n",
              "15                                     The Lighthouse   tt7984734  109 min   \n",
              "16                                          Inception   tt1375666  148 min   \n",
              "17                                               Argo   tt1024648  120 min   \n",
              "18                                      6 Underground   tt8106534  128 min   \n",
              "19                               Fifty Shades of Grey   tt2322441  125 min   \n",
              "\n",
              "                                       genre imdb_rating   metascore  \\\n",
              "0        \\nCrime, Drama, Mystery                     6.5  52           \n",
              "1   \\nAdventure, Family, Fantasy                     6.5  52           \n",
              "2         \\nAction, Crime, Drama                     9.1  84           \n",
              "3   \\nAdventure, Family, Fantasy                     7.3  66           \n",
              "4       \\nAction, Drama, Mystery                     8.0  81           \n",
              "5    \\nAction, Adventure, Sci-Fi                     8.0        None   \n",
              "6     \\nAction, Adventure, Drama                     8.4  78           \n",
              "7   \\nAdventure, Family, Fantasy                     7.6  65           \n",
              "8     \\nAdventure, Drama, Sci-Fi                     8.7  74           \n",
              "9     \\nBiography, Comedy, Crime                     8.2  75           \n",
              "10               \\nComedy, Drama                     7.6  83           \n",
              "11     \\nBiography, Drama, Sport                     7.6  53           \n",
              "12      \\nCrime, Drama, Thriller                     8.4  59           \n",
              "13        \\nCrime, Drama, Horror                     7.6  64           \n",
              "14     \\nDrama, Fantasy, History                     6.9  83           \n",
              "15     \\nDrama, Fantasy, History                     7.4  83           \n",
              "16   \\nAction, Adventure, Sci-Fi                     8.8  74           \n",
              "17  \\nBiography, Drama, Thriller                     7.7  86           \n",
              "18            \\nAction, Thriller                     6.1  41           \n",
              "19    \\nDrama, Romance, Thriller                     4.2  46           \n",
              "\n",
              "                                             synopsys    votes        gross  \n",
              "0   \\nWhen a murder occurs on the train on which h...   242162  102,826,543  \n",
              "1   \\nThe second installment of the \"Fantastic Bea...   256942  159,555,901  \n",
              "2   \\nWhen the menace known as the Joker wreaks ha...  2538189  534,858,444  \n",
              "3   \\nThe adventures of writer Newt Scamander in N...   449358  234,037,575  \n",
              "4   \\nYoung Blade Runner K's discovery of a long-b...   535240   92,054,159  \n",
              "5   \\nBatman is manipulated by Lex Luthor to fear ...    15286         None  \n",
              "6   \\nAfter the devastating events of Avengers: In...  1037024  858,373,000  \n",
              "7   \\nAn orphaned boy enrolls in a school of wizar...   747568  317,575,550  \n",
              "8   \\nA team of explorers travel through a wormhol...  1716149  188,020,017  \n",
              "9   \\nBased on the true story of Jordan Belfort, f...  1331738  116,900,694  \n",
              "10  \\nA faded television actor and his stunt doubl...   681837  142,502,728  \n",
              "11  \\nThe story of Michael Oher, a homeless and tr...   321700  255,959,475  \n",
              "12  \\nA mentally troubled stand-up comedian embark...  1175512  335,451,311  \n",
              "13  \\nA wealthy New York City investment banking e...   560168   15,070,285  \n",
              "14  \\nA family in 1630s New England is torn apart ...   238195   25,138,292  \n",
              "15  \\nTwo lighthouse keepers try to maintain their...   195674      427,797  \n",
              "16  \\nA thief who steals corporate secrets through...  2257375  292,576,195  \n",
              "17  \\nActing under the cover of a Hollywood produc...   603683  136,025,503  \n",
              "18  \\nSix individuals from all around the globe, e...   167215         None  \n",
              "19  \\nLiterature student Anastasia Steele's life c...   313735  166,167,230  "
            ],
            "text/html": [
              "\n",
              "  <div id=\"df-65294a58-18e3-4ef1-8bbb-5bdc685afdf4\">\n",
              "    <div class=\"colab-df-container\">\n",
              "      <div>\n",
              "<style scoped>\n",
              "    .dataframe tbody tr th:only-of-type {\n",
              "        vertical-align: middle;\n",
              "    }\n",
              "\n",
              "    .dataframe tbody tr th {\n",
              "        vertical-align: top;\n",
              "    }\n",
              "\n",
              "    .dataframe thead th {\n",
              "        text-align: right;\n",
              "    }\n",
              "</style>\n",
              "<table border=\"1\" class=\"dataframe\">\n",
              "  <thead>\n",
              "    <tr style=\"text-align: right;\">\n",
              "      <th></th>\n",
              "      <th>title</th>\n",
              "      <th>imdbID</th>\n",
              "      <th>duration</th>\n",
              "      <th>genre</th>\n",
              "      <th>imdb_rating</th>\n",
              "      <th>metascore</th>\n",
              "      <th>synopsys</th>\n",
              "      <th>votes</th>\n",
              "      <th>gross</th>\n",
              "    </tr>\n",
              "  </thead>\n",
              "  <tbody>\n",
              "    <tr>\n",
              "      <th>0</th>\n",
              "      <td>Murder on the Orient Express</td>\n",
              "      <td>tt3402236</td>\n",
              "      <td>114 min</td>\n",
              "      <td>\\nCrime, Drama, Mystery</td>\n",
              "      <td>6.5</td>\n",
              "      <td>52</td>\n",
              "      <td>\\nWhen a murder occurs on the train on which h...</td>\n",
              "      <td>242162</td>\n",
              "      <td>102,826,543</td>\n",
              "    </tr>\n",
              "    <tr>\n",
              "      <th>1</th>\n",
              "      <td>Fantastic Beasts: The Crimes of Grindelwald</td>\n",
              "      <td>tt4123430</td>\n",
              "      <td>134 min</td>\n",
              "      <td>\\nAdventure, Family, Fantasy</td>\n",
              "      <td>6.5</td>\n",
              "      <td>52</td>\n",
              "      <td>\\nThe second installment of the \"Fantastic Bea...</td>\n",
              "      <td>256942</td>\n",
              "      <td>159,555,901</td>\n",
              "    </tr>\n",
              "    <tr>\n",
              "      <th>2</th>\n",
              "      <td>The Dark Knight</td>\n",
              "      <td>tt0468569</td>\n",
              "      <td>152 min</td>\n",
              "      <td>\\nAction, Crime, Drama</td>\n",
              "      <td>9.1</td>\n",
              "      <td>84</td>\n",
              "      <td>\\nWhen the menace known as the Joker wreaks ha...</td>\n",
              "      <td>2538189</td>\n",
              "      <td>534,858,444</td>\n",
              "    </tr>\n",
              "    <tr>\n",
              "      <th>3</th>\n",
              "      <td>Fantastic Beasts and Where to Find Them</td>\n",
              "      <td>tt3183660</td>\n",
              "      <td>132 min</td>\n",
              "      <td>\\nAdventure, Family, Fantasy</td>\n",
              "      <td>7.3</td>\n",
              "      <td>66</td>\n",
              "      <td>\\nThe adventures of writer Newt Scamander in N...</td>\n",
              "      <td>449358</td>\n",
              "      <td>234,037,575</td>\n",
              "    </tr>\n",
              "    <tr>\n",
              "      <th>4</th>\n",
              "      <td>Blade Runner 2049</td>\n",
              "      <td>tt1856101</td>\n",
              "      <td>164 min</td>\n",
              "      <td>\\nAction, Drama, Mystery</td>\n",
              "      <td>8.0</td>\n",
              "      <td>81</td>\n",
              "      <td>\\nYoung Blade Runner K's discovery of a long-b...</td>\n",
              "      <td>535240</td>\n",
              "      <td>92,054,159</td>\n",
              "    </tr>\n",
              "    <tr>\n",
              "      <th>5</th>\n",
              "      <td>Batman v Superman: Dawn of Justice Ultimate Ed...</td>\n",
              "      <td>tt18689424</td>\n",
              "      <td>182 min</td>\n",
              "      <td>\\nAction, Adventure, Sci-Fi</td>\n",
              "      <td>8.0</td>\n",
              "      <td>None</td>\n",
              "      <td>\\nBatman is manipulated by Lex Luthor to fear ...</td>\n",
              "      <td>15286</td>\n",
              "      <td>None</td>\n",
              "    </tr>\n",
              "    <tr>\n",
              "      <th>6</th>\n",
              "      <td>Avengers: Endgame</td>\n",
              "      <td>tt4154796</td>\n",
              "      <td>181 min</td>\n",
              "      <td>\\nAction, Adventure, Drama</td>\n",
              "      <td>8.4</td>\n",
              "      <td>78</td>\n",
              "      <td>\\nAfter the devastating events of Avengers: In...</td>\n",
              "      <td>1037024</td>\n",
              "      <td>858,373,000</td>\n",
              "    </tr>\n",
              "    <tr>\n",
              "      <th>7</th>\n",
              "      <td>Harry Potter and the Sorcerer's Stone</td>\n",
              "      <td>tt0241527</td>\n",
              "      <td>152 min</td>\n",
              "      <td>\\nAdventure, Family, Fantasy</td>\n",
              "      <td>7.6</td>\n",
              "      <td>65</td>\n",
              "      <td>\\nAn orphaned boy enrolls in a school of wizar...</td>\n",
              "      <td>747568</td>\n",
              "      <td>317,575,550</td>\n",
              "    </tr>\n",
              "    <tr>\n",
              "      <th>8</th>\n",
              "      <td>Interstellar</td>\n",
              "      <td>tt0816692</td>\n",
              "      <td>169 min</td>\n",
              "      <td>\\nAdventure, Drama, Sci-Fi</td>\n",
              "      <td>8.7</td>\n",
              "      <td>74</td>\n",
              "      <td>\\nA team of explorers travel through a wormhol...</td>\n",
              "      <td>1716149</td>\n",
              "      <td>188,020,017</td>\n",
              "    </tr>\n",
              "    <tr>\n",
              "      <th>9</th>\n",
              "      <td>The Wolf of Wall Street</td>\n",
              "      <td>tt0993846</td>\n",
              "      <td>180 min</td>\n",
              "      <td>\\nBiography, Comedy, Crime</td>\n",
              "      <td>8.2</td>\n",
              "      <td>75</td>\n",
              "      <td>\\nBased on the true story of Jordan Belfort, f...</td>\n",
              "      <td>1331738</td>\n",
              "      <td>116,900,694</td>\n",
              "    </tr>\n",
              "    <tr>\n",
              "      <th>10</th>\n",
              "      <td>Once Upon a Time... In Hollywood</td>\n",
              "      <td>tt7131622</td>\n",
              "      <td>161 min</td>\n",
              "      <td>\\nComedy, Drama</td>\n",
              "      <td>7.6</td>\n",
              "      <td>83</td>\n",
              "      <td>\\nA faded television actor and his stunt doubl...</td>\n",
              "      <td>681837</td>\n",
              "      <td>142,502,728</td>\n",
              "    </tr>\n",
              "    <tr>\n",
              "      <th>11</th>\n",
              "      <td>The Blind Side</td>\n",
              "      <td>tt0878804</td>\n",
              "      <td>129 min</td>\n",
              "      <td>\\nBiography, Drama, Sport</td>\n",
              "      <td>7.6</td>\n",
              "      <td>53</td>\n",
              "      <td>\\nThe story of Michael Oher, a homeless and tr...</td>\n",
              "      <td>321700</td>\n",
              "      <td>255,959,475</td>\n",
              "    </tr>\n",
              "    <tr>\n",
              "      <th>12</th>\n",
              "      <td>Joker</td>\n",
              "      <td>tt7286456</td>\n",
              "      <td>122 min</td>\n",
              "      <td>\\nCrime, Drama, Thriller</td>\n",
              "      <td>8.4</td>\n",
              "      <td>59</td>\n",
              "      <td>\\nA mentally troubled stand-up comedian embark...</td>\n",
              "      <td>1175512</td>\n",
              "      <td>335,451,311</td>\n",
              "    </tr>\n",
              "    <tr>\n",
              "      <th>13</th>\n",
              "      <td>American Psycho</td>\n",
              "      <td>tt0144084</td>\n",
              "      <td>102 min</td>\n",
              "      <td>\\nCrime, Drama, Horror</td>\n",
              "      <td>7.6</td>\n",
              "      <td>64</td>\n",
              "      <td>\\nA wealthy New York City investment banking e...</td>\n",
              "      <td>560168</td>\n",
              "      <td>15,070,285</td>\n",
              "    </tr>\n",
              "    <tr>\n",
              "      <th>14</th>\n",
              "      <td>The VVitch: A New-England Folktale</td>\n",
              "      <td>tt4263482</td>\n",
              "      <td>92 min</td>\n",
              "      <td>\\nDrama, Fantasy, History</td>\n",
              "      <td>6.9</td>\n",
              "      <td>83</td>\n",
              "      <td>\\nA family in 1630s New England is torn apart ...</td>\n",
              "      <td>238195</td>\n",
              "      <td>25,138,292</td>\n",
              "    </tr>\n",
              "    <tr>\n",
              "      <th>15</th>\n",
              "      <td>The Lighthouse</td>\n",
              "      <td>tt7984734</td>\n",
              "      <td>109 min</td>\n",
              "      <td>\\nDrama, Fantasy, History</td>\n",
              "      <td>7.4</td>\n",
              "      <td>83</td>\n",
              "      <td>\\nTwo lighthouse keepers try to maintain their...</td>\n",
              "      <td>195674</td>\n",
              "      <td>427,797</td>\n",
              "    </tr>\n",
              "    <tr>\n",
              "      <th>16</th>\n",
              "      <td>Inception</td>\n",
              "      <td>tt1375666</td>\n",
              "      <td>148 min</td>\n",
              "      <td>\\nAction, Adventure, Sci-Fi</td>\n",
              "      <td>8.8</td>\n",
              "      <td>74</td>\n",
              "      <td>\\nA thief who steals corporate secrets through...</td>\n",
              "      <td>2257375</td>\n",
              "      <td>292,576,195</td>\n",
              "    </tr>\n",
              "    <tr>\n",
              "      <th>17</th>\n",
              "      <td>Argo</td>\n",
              "      <td>tt1024648</td>\n",
              "      <td>120 min</td>\n",
              "      <td>\\nBiography, Drama, Thriller</td>\n",
              "      <td>7.7</td>\n",
              "      <td>86</td>\n",
              "      <td>\\nActing under the cover of a Hollywood produc...</td>\n",
              "      <td>603683</td>\n",
              "      <td>136,025,503</td>\n",
              "    </tr>\n",
              "    <tr>\n",
              "      <th>18</th>\n",
              "      <td>6 Underground</td>\n",
              "      <td>tt8106534</td>\n",
              "      <td>128 min</td>\n",
              "      <td>\\nAction, Thriller</td>\n",
              "      <td>6.1</td>\n",
              "      <td>41</td>\n",
              "      <td>\\nSix individuals from all around the globe, e...</td>\n",
              "      <td>167215</td>\n",
              "      <td>None</td>\n",
              "    </tr>\n",
              "    <tr>\n",
              "      <th>19</th>\n",
              "      <td>Fifty Shades of Grey</td>\n",
              "      <td>tt2322441</td>\n",
              "      <td>125 min</td>\n",
              "      <td>\\nDrama, Romance, Thriller</td>\n",
              "      <td>4.2</td>\n",
              "      <td>46</td>\n",
              "      <td>\\nLiterature student Anastasia Steele's life c...</td>\n",
              "      <td>313735</td>\n",
              "      <td>166,167,230</td>\n",
              "    </tr>\n",
              "  </tbody>\n",
              "</table>\n",
              "</div>\n",
              "      <button class=\"colab-df-convert\" onclick=\"convertToInteractive('df-65294a58-18e3-4ef1-8bbb-5bdc685afdf4')\"\n",
              "              title=\"Convert this dataframe to an interactive table.\"\n",
              "              style=\"display:none;\">\n",
              "        \n",
              "  <svg xmlns=\"http://www.w3.org/2000/svg\" height=\"24px\"viewBox=\"0 0 24 24\"\n",
              "       width=\"24px\">\n",
              "    <path d=\"M0 0h24v24H0V0z\" fill=\"none\"/>\n",
              "    <path d=\"M18.56 5.44l.94 2.06.94-2.06 2.06-.94-2.06-.94-.94-2.06-.94 2.06-2.06.94zm-11 1L8.5 8.5l.94-2.06 2.06-.94-2.06-.94L8.5 2.5l-.94 2.06-2.06.94zm10 10l.94 2.06.94-2.06 2.06-.94-2.06-.94-.94-2.06-.94 2.06-2.06.94z\"/><path d=\"M17.41 7.96l-1.37-1.37c-.4-.4-.92-.59-1.43-.59-.52 0-1.04.2-1.43.59L10.3 9.45l-7.72 7.72c-.78.78-.78 2.05 0 2.83L4 21.41c.39.39.9.59 1.41.59.51 0 1.02-.2 1.41-.59l7.78-7.78 2.81-2.81c.8-.78.8-2.07 0-2.86zM5.41 20L4 18.59l7.72-7.72 1.47 1.35L5.41 20z\"/>\n",
              "  </svg>\n",
              "      </button>\n",
              "      \n",
              "  <style>\n",
              "    .colab-df-container {\n",
              "      display:flex;\n",
              "      flex-wrap:wrap;\n",
              "      gap: 12px;\n",
              "    }\n",
              "\n",
              "    .colab-df-convert {\n",
              "      background-color: #E8F0FE;\n",
              "      border: none;\n",
              "      border-radius: 50%;\n",
              "      cursor: pointer;\n",
              "      display: none;\n",
              "      fill: #1967D2;\n",
              "      height: 32px;\n",
              "      padding: 0 0 0 0;\n",
              "      width: 32px;\n",
              "    }\n",
              "\n",
              "    .colab-df-convert:hover {\n",
              "      background-color: #E2EBFA;\n",
              "      box-shadow: 0px 1px 2px rgba(60, 64, 67, 0.3), 0px 1px 3px 1px rgba(60, 64, 67, 0.15);\n",
              "      fill: #174EA6;\n",
              "    }\n",
              "\n",
              "    [theme=dark] .colab-df-convert {\n",
              "      background-color: #3B4455;\n",
              "      fill: #D2E3FC;\n",
              "    }\n",
              "\n",
              "    [theme=dark] .colab-df-convert:hover {\n",
              "      background-color: #434B5C;\n",
              "      box-shadow: 0px 1px 3px 1px rgba(0, 0, 0, 0.15);\n",
              "      filter: drop-shadow(0px 1px 2px rgba(0, 0, 0, 0.3));\n",
              "      fill: #FFFFFF;\n",
              "    }\n",
              "  </style>\n",
              "\n",
              "      <script>\n",
              "        const buttonEl =\n",
              "          document.querySelector('#df-65294a58-18e3-4ef1-8bbb-5bdc685afdf4 button.colab-df-convert');\n",
              "        buttonEl.style.display =\n",
              "          google.colab.kernel.accessAllowed ? 'block' : 'none';\n",
              "\n",
              "        async function convertToInteractive(key) {\n",
              "          const element = document.querySelector('#df-65294a58-18e3-4ef1-8bbb-5bdc685afdf4');\n",
              "          const dataTable =\n",
              "            await google.colab.kernel.invokeFunction('convertToInteractive',\n",
              "                                                     [key], {});\n",
              "          if (!dataTable) return;\n",
              "\n",
              "          const docLinkHtml = 'Like what you see? Visit the ' +\n",
              "            '<a target=\"_blank\" href=https://colab.research.google.com/notebooks/data_table.ipynb>data table notebook</a>'\n",
              "            + ' to learn more about interactive tables.';\n",
              "          element.innerHTML = '';\n",
              "          dataTable['output_type'] = 'display_data';\n",
              "          await google.colab.output.renderOutput(dataTable, element);\n",
              "          const docLink = document.createElement('div');\n",
              "          docLink.innerHTML = docLinkHtml;\n",
              "          element.appendChild(docLink);\n",
              "        }\n",
              "      </script>\n",
              "    </div>\n",
              "  </div>\n",
              "  "
            ]
          },
          "metadata": {},
          "execution_count": 40
        }
      ]
    },
    {
      "cell_type": "code",
      "metadata": {
        "colab": {
          "base_uri": "https://localhost:8080/"
        },
        "id": "LhMViaWFNVMb",
        "outputId": "c3595791-d9d0-45cf-905e-d02d4d406634"
      },
      "source": [
        "page1_df.info()"
      ],
      "execution_count": null,
      "outputs": [
        {
          "output_type": "stream",
          "name": "stdout",
          "text": [
            "<class 'pandas.core.frame.DataFrame'>\n",
            "RangeIndex: 250 entries, 0 to 249\n",
            "Data columns (total 9 columns):\n",
            " #   Column       Non-Null Count  Dtype \n",
            "---  ------       --------------  ----- \n",
            " 0   title        250 non-null    object\n",
            " 1   imdbID       250 non-null    object\n",
            " 2   duration     250 non-null    object\n",
            " 3   genre        250 non-null    object\n",
            " 4   imdb_rating  250 non-null    object\n",
            " 5   metascore    247 non-null    object\n",
            " 6   synopsys     250 non-null    object\n",
            " 7   votes        250 non-null    object\n",
            " 8   gross        238 non-null    object\n",
            "dtypes: object(9)\n",
            "memory usage: 17.7+ KB\n"
          ]
        }
      ]
    },
    {
      "cell_type": "markdown",
      "metadata": {
        "id": "jXq5wbryQw4j"
      },
      "source": [
        "### **Creating the loop for multiple pages**"
      ]
    },
    {
      "cell_type": "markdown",
      "source": [
        "If I want to scrape multiple pages, I will be sending a lot of requests to IMDb. So there is a good chance that soon enough they will ban me for that. \n",
        "To prevent that from happening, I need to introduce sleep time between my call requests. I'm sure the people at IMDB are smart, and will be able to catch me even with the sleep times if i am not careful. I don't want to be banned, and I am not in a hurry, so to solve this, I will be generous with the sleep time. "
      ],
      "metadata": {
        "id": "IPS4ftE8uJlX"
      }
    },
    {
      "cell_type": "markdown",
      "source": [
        "First just goling to platy around with the sleep time to see how it works and what it does. "
      ],
      "metadata": {
        "id": "P8odEpyzu02i"
      }
    },
    {
      "cell_type": "code",
      "metadata": {
        "id": "h-xx7L6QOKQY"
      },
      "source": [
        "sleep_time = []\n",
        "\n",
        "for _ in range(100):\n",
        "  sleep_time.append(randint(20, 300))"
      ],
      "execution_count": null,
      "outputs": []
    },
    {
      "cell_type": "code",
      "metadata": {
        "id": "CGxR6k0sOgkq"
      },
      "source": [
        "sleep_time = np.array(sleep_time)"
      ],
      "execution_count": null,
      "outputs": []
    },
    {
      "cell_type": "code",
      "metadata": {
        "colab": {
          "base_uri": "https://localhost:8080/"
        },
        "id": "Im0OyygdOsRB",
        "outputId": "5fda9866-aa4d-4823-d7f2-d74e3ed3490e"
      },
      "source": [
        "np.mean(sleep_time)"
      ],
      "execution_count": null,
      "outputs": [
        {
          "data": {
            "text/plain": [
              "168.23"
            ]
          },
          "execution_count": 85,
          "metadata": {
            "tags": []
          },
          "output_type": "execute_result"
        }
      ]
    },
    {
      "cell_type": "code",
      "metadata": {
        "id": "wVaOl6e5O__u"
      },
      "source": [
        "import matplotlib.pyplot as plt"
      ],
      "execution_count": null,
      "outputs": []
    },
    {
      "cell_type": "code",
      "metadata": {
        "colab": {
          "base_uri": "https://localhost:8080/",
          "height": 265
        },
        "id": "XoBRYpKqOuXF",
        "outputId": "ff6e0ba1-226e-42a1-e824-45d2058a65d9"
      },
      "source": [
        "plt.hist(sleep_time)\n",
        "plt.show()"
      ],
      "execution_count": null,
      "outputs": [
        {
          "data": {
            "image/png": "[encoded data removed]",
            "text/plain": [
              "<Figure size 432x288 with 1 Axes>"
            ]
          },
          "metadata": {
            "tags": []
          },
          "output_type": "display_data"
        }
      ]
    },
    {
      "cell_type": "markdown",
      "source": [
        "I need to call in every next page with new 250 movies. That means that I need to be changing the *start=* part of the link: e.g. *start = 1, start = 251, start = 501, etc.*.\n",
        "\n",
        "Like this: \n",
        "https://www.imdb.com/search/title/?title_type=feature&release_date=1999-01-01,2019-12-31&languages=en&count=250&start=1&ref_=adv_nxt\n",
        "\n",
        "https://www.imdb.com/search/title/?title_type=feature&release_date=1999-01-01,2019-12-31&languages=en&count=250&start=251&ref_=adv_nxt\n",
        "\n",
        "https://www.imdb.com/search/title/?title_type=feature&release_date=1999-01-01,2019-12-31&languages=en&count=250&start=501&ref_=adv_nxt\n",
        "\n",
        "For this I will first create a list of values for start. \n",
        "I will start with a list for the first 50 links. With the sleep time included that already will take a while to collect. I'm working in a free version of Google Colab which means that at some point the notebook will terminate. Therefore, I should not run the code that will take longer than the notebook will stay active. "
      ],
      "metadata": {
        "id": "gYEGzepju-0l"
      }
    },
    {
      "cell_type": "code",
      "metadata": {
        "colab": {
          "base_uri": "https://localhost:8080/"
        },
        "id": "VGBEQIyaR5r2",
        "outputId": "c1596e4f-367c-4183-abeb-7baed5fd7974"
      },
      "source": [
        "start = [1]\n",
        "\n",
        "for i in range(50):\n",
        "  if i == 1:\n",
        "    print('first')\n",
        "  else:\n",
        "    start.append((start[i-1] + 250))\n"
      ],
      "execution_count": null,
      "outputs": [
        {
          "name": "stdout",
          "output_type": "stream",
          "text": [
            "first\n"
          ]
        }
      ]
    },
    {
      "cell_type": "code",
      "metadata": {
        "colab": {
          "base_uri": "https://localhost:8080/"
        },
        "id": "sLhzQfLSSYE7",
        "outputId": "4953efe5-1274-49a8-ed7b-0fc1604b62b3"
      },
      "source": [
        "start[49]"
      ],
      "execution_count": null,
      "outputs": [
        {
          "data": {
            "text/plain": [
              "12251"
            ]
          },
          "execution_count": 104,
          "metadata": {
            "tags": []
          },
          "output_type": "execute_result"
        }
      ]
    },
    {
      "cell_type": "code",
      "metadata": {
        "colab": {
          "base_uri": "https://localhost:8080/"
        },
        "id": "c6hCcsoxSb4h",
        "outputId": "38718f94-1832-480d-b2f1-e78f2530ce09"
      },
      "source": [
        "len(start) #got 50 starting pints"
      ],
      "execution_count": null,
      "outputs": [
        {
          "data": {
            "text/plain": [
              "50"
            ]
          },
          "execution_count": 105,
          "metadata": {
            "tags": []
          },
          "output_type": "execute_result"
        }
      ]
    },
    {
      "cell_type": "markdown",
      "source": [
        "Actions:\n",
        "1.  I first create an empty list for each variable. \n",
        "2. I create an outer loop that generates a new link for the page that should be requested.\n",
        "3. Go to sleep.\n",
        "4. Call the page. \n",
        "5. Parse the content and feed it into the lists"
      ],
      "metadata": {
        "id": "aKUYRw6_6t9K"
      }
    },
    {
      "cell_type": "code",
      "metadata": {
        "id": "d6bhbzdNTGL7"
      },
      "source": [
        "#creating empty lists for each variable\n",
        "title = []\n",
        "imbdID = []\n",
        "duration = []\n",
        "genre = []\n",
        "imdb_rating = []\n",
        "metascore = []\n",
        "synopsys = []\n",
        "votes = []\n",
        "gross = []"
      ],
      "execution_count": null,
      "outputs": []
    },
    {
      "cell_type": "code",
      "metadata": {
        "colab": {
          "base_uri": "https://localhost:8080/",
          "height": 246
        },
        "id": "BHDO45z8TI30",
        "outputId": "47493e86-d3c1-44b8-992a-14a02acdf913"
      },
      "source": [
        "requests = 0\n",
        "time1 = datetime.now()\n",
        "\n",
        "for start_number in start:\n",
        "  #request\n",
        "  response = get('https://www.imdb.com/search/title/?title_type=feature&release_date=1999-01-01,2019-12-31&languages=en&count=250&start=' + str(start_number) + '&ref_=adv_nxt')\n",
        "\n",
        "  \n",
        "  #break time\n",
        "  requests += 1 #which request\n",
        "  sleep(randint(20, 420)) #make a pause\n",
        "  elapsed_time = datetime.now() - time1 #what was the length of the pause\n",
        "  print('Request: {}; Sleep time: {} second(s)'.format(requests, elapsed_time.seconds))\n",
        "  time1 = datetime.now() #reset loop counter to start now\n",
        "  \n",
        "  clear_output(wait = True) # clean out the output after each iteration\n",
        "\n",
        "\n",
        "  page_html = BeautifulSoup(response.text, 'html.parser')\n",
        "\n",
        "  movie_containers = page_html.find_all('div', class_ = 'lister-item mode-advanced') # create movie containers\n",
        "\n",
        "\n",
        "  for container in movie_containers:\n",
        "    title.append(container.h3.a.text) #title\n",
        "    imbdID.append(container.div.div['data-tconst'])#imdb ID\n",
        "  \n",
        "    try:\n",
        "      duration.append(container.find('span', class_ = 'runtime').text) #duration\n",
        "    except:\n",
        "      duration.append(None) \n",
        "\n",
        "    try:\n",
        "      genre.append(container.find('span', class_ = 'genre').text) #genre\n",
        "    except:\n",
        "      genre.append(None)\n",
        "\n",
        "    imdb_rating.append(container.strong.text)  #imdb rating\n",
        "\n",
        "    try:\n",
        "      metascore.append(container.find('span', class_ = 'metascore').text) #metascore\n",
        "    except:\n",
        "      metascore.append(None)\n",
        "\n",
        "    try:\n",
        "      synopsys.append(container.find_all('p', class_ = 'text-muted')[1].text)  #synopsys\n",
        "    except:\n",
        "      synopsys.append(None)\n",
        "\n",
        "    votes.append(container.find('span', attrs = {'name':'nv'})['data-value'])  #votes\n",
        "\n",
        "    try:\n",
        "      gross.append(container.find_all('span', attrs = {'name':'nv'})[1]['data-value']) #gross\n",
        "    except:\n",
        "      gross.append(None)  \n",
        "\n"
      ],
      "execution_count": null,
      "outputs": [
        {
          "ename": "KeyboardInterrupt",
          "evalue": "ignored",
          "output_type": "error",
          "traceback": [
            "\u001b[0;31m---------------------------------------------------------------------------\u001b[0m",
            "\u001b[0;31mKeyboardInterrupt\u001b[0m                         Traceback (most recent call last)",
            "\u001b[0;32m<ipython-input-107-dfc949265e1d>\u001b[0m in \u001b[0;36m<module>\u001b[0;34m()\u001b[0m\n\u001b[1;32m      9\u001b[0m   \u001b[0;31m#break time\u001b[0m\u001b[0;34m\u001b[0m\u001b[0;34m\u001b[0m\u001b[0;34m\u001b[0m\u001b[0m\n\u001b[1;32m     10\u001b[0m   \u001b[0mrequests\u001b[0m \u001b[0;34m+=\u001b[0m \u001b[0;36m1\u001b[0m \u001b[0;31m#which request\u001b[0m\u001b[0;34m\u001b[0m\u001b[0;34m\u001b[0m\u001b[0m\n\u001b[0;32m---> 11\u001b[0;31m   \u001b[0msleep\u001b[0m\u001b[0;34m(\u001b[0m\u001b[0mrandint\u001b[0m\u001b[0;34m(\u001b[0m\u001b[0;36m20\u001b[0m\u001b[0;34m,\u001b[0m \u001b[0;36m420\u001b[0m\u001b[0;34m)\u001b[0m\u001b[0;34m)\u001b[0m \u001b[0;31m#make a pause\u001b[0m\u001b[0;34m\u001b[0m\u001b[0;34m\u001b[0m\u001b[0m\n\u001b[0m\u001b[1;32m     12\u001b[0m   \u001b[0melapsed_time\u001b[0m \u001b[0;34m=\u001b[0m \u001b[0mdatetime\u001b[0m\u001b[0;34m.\u001b[0m\u001b[0mnow\u001b[0m\u001b[0;34m(\u001b[0m\u001b[0;34m)\u001b[0m \u001b[0;34m-\u001b[0m \u001b[0mtime1\u001b[0m \u001b[0;31m#what was the length of the paus\u001b[0m\u001b[0;34m\u001b[0m\u001b[0;34m\u001b[0m\u001b[0m\n\u001b[1;32m     13\u001b[0m   \u001b[0mprint\u001b[0m\u001b[0;34m(\u001b[0m\u001b[0;34m'Request: {}; Sleep time: {} second(s)'\u001b[0m\u001b[0;34m.\u001b[0m\u001b[0mformat\u001b[0m\u001b[0;34m(\u001b[0m\u001b[0mrequests\u001b[0m\u001b[0;34m,\u001b[0m \u001b[0melapsed_time\u001b[0m\u001b[0;34m.\u001b[0m\u001b[0mseconds\u001b[0m\u001b[0;34m)\u001b[0m\u001b[0;34m)\u001b[0m\u001b[0;34m\u001b[0m\u001b[0;34m\u001b[0m\u001b[0m\n",
            "\u001b[0;31mKeyboardInterrupt\u001b[0m: "
          ]
        }
      ]
    },
    {
      "cell_type": "markdown",
      "metadata": {
        "id": "HhVL_yPiF_cJ"
      },
      "source": [
        "It seems that the scraper crashed after 37 pages for not finding imdb rating of a movie. The way I collect now, i cannot skip over the error if title, ID, rating or votes information is missing. It seems that it crashed because there was no rating information. Will add missing values and put together into the dataframe what I have collected for now. "
      ]
    },
    {
      "cell_type": "code",
      "metadata": {
        "id": "E7jbem9dVue1"
      },
      "source": [
        "first50_df = pd.DataFrame({\n",
        "    'title': title,\n",
        "    'imdbID': imbdID,\n",
        "    'duration': duration,\n",
        "    'genre': genre,\n",
        "    'imdb_rating': imdb_rating,\n",
        "    'metascore': metascore,\n",
        "    'synopsys': synopsys,\n",
        "    'votes': votes,\n",
        "    'gross': gross\n",
        "})"
      ],
      "execution_count": null,
      "outputs": []
    },
    {
      "cell_type": "code",
      "metadata": {
        "id": "jHsqM8Vs28SS"
      },
      "source": [
        "imdb_rating.append(None)"
      ],
      "execution_count": null,
      "outputs": []
    },
    {
      "cell_type": "code",
      "metadata": {
        "id": "73qBeOy_3BpI"
      },
      "source": [
        "metascore.append(None)"
      ],
      "execution_count": null,
      "outputs": []
    },
    {
      "cell_type": "code",
      "metadata": {
        "id": "lKuy0KzQ3Epr"
      },
      "source": [
        "synopsys.append(None)"
      ],
      "execution_count": null,
      "outputs": []
    },
    {
      "cell_type": "code",
      "metadata": {
        "id": "OZzx3-xr3GzZ"
      },
      "source": [
        "votes.append(None)"
      ],
      "execution_count": null,
      "outputs": []
    },
    {
      "cell_type": "code",
      "metadata": {
        "id": "eHjfhuL73KHS"
      },
      "source": [
        "gross.append(None)"
      ],
      "execution_count": null,
      "outputs": []
    },
    {
      "cell_type": "code",
      "metadata": {
        "colab": {
          "base_uri": "https://localhost:8080/"
        },
        "id": "KuzFxdvS2oeE",
        "outputId": "44cbaa5d-5b18-4f76-d188-52ded4b28199"
      },
      "source": [
        "len(synopsys)"
      ],
      "execution_count": null,
      "outputs": [
        {
          "data": {
            "text/plain": [
              "9317"
            ]
          },
          "execution_count": 28,
          "metadata": {
            "tags": []
          },
          "output_type": "execute_result"
        }
      ]
    },
    {
      "cell_type": "code",
      "metadata": {
        "colab": {
          "base_uri": "https://localhost:8080/"
        },
        "id": "N4qUN-hj2rXp",
        "outputId": "cb9eff69-2302-451e-ca30-0ea8226523a7"
      },
      "source": [
        "len(votes)"
      ],
      "execution_count": null,
      "outputs": [
        {
          "data": {
            "text/plain": [
              "9317"
            ]
          },
          "execution_count": 29,
          "metadata": {
            "tags": []
          },
          "output_type": "execute_result"
        }
      ]
    },
    {
      "cell_type": "code",
      "metadata": {
        "colab": {
          "base_uri": "https://localhost:8080/"
        },
        "id": "cq5-Vs1f3V1d",
        "outputId": "b3ae8853-817c-4abf-a19a-68157c4d1e7e"
      },
      "source": [
        "9317/250"
      ],
      "execution_count": null,
      "outputs": [
        {
          "data": {
            "text/plain": [
              "37.268"
            ]
          },
          "execution_count": 41,
          "metadata": {
            "tags": []
          },
          "output_type": "execute_result"
        }
      ]
    },
    {
      "cell_type": "markdown",
      "source": [
        "So i have managed 37 full pages and a bit of 36th"
      ],
      "metadata": {
        "id": "AZehhKFl8Ty_"
      }
    },
    {
      "cell_type": "code",
      "metadata": {
        "colab": {
          "base_uri": "https://localhost:8080/"
        },
        "id": "YjLDv2YB2jIf",
        "outputId": "700e4274-8708-4b07-900a-b82f3ff081d5"
      },
      "source": [
        "print(len(title))\n",
        "print(len(imbdID))\n",
        "print(len(duration))\n",
        "print(len(genre))\n",
        "print(len(imdb_rating))\n",
        "print(len(metascore))\n",
        "print(len(synopsys))\n",
        "print(len(votes))\n",
        "print(len(gross))"
      ],
      "execution_count": null,
      "outputs": [
        {
          "name": "stdout",
          "output_type": "stream",
          "text": [
            "9318\n",
            "9318\n",
            "9318\n",
            "9318\n",
            "9318\n",
            "9318\n",
            "9318\n",
            "9318\n",
            "9318\n"
          ]
        }
      ]
    },
    {
      "cell_type": "code",
      "metadata": {
        "colab": {
          "base_uri": "https://localhost:8080/",
          "height": 677
        },
        "id": "k8Vw3ug7XTI1",
        "outputId": "858b539f-7c83-4c5e-dc6f-f5fb5e73b4b6"
      },
      "source": [
        "first50_df.tail(20)"
      ],
      "execution_count": null,
      "outputs": [
        {
          "data": {
            "text/html": [
              "<div>\n",
              "<style scoped>\n",
              "    .dataframe tbody tr th:only-of-type {\n",
              "        vertical-align: middle;\n",
              "    }\n",
              "\n",
              "    .dataframe tbody tr th {\n",
              "        vertical-align: top;\n",
              "    }\n",
              "\n",
              "    .dataframe thead th {\n",
              "        text-align: right;\n",
              "    }\n",
              "</style>\n",
              "<table border=\"1\" class=\"dataframe\">\n",
              "  <thead>\n",
              "    <tr style=\"text-align: right;\">\n",
              "      <th></th>\n",
              "      <th>title</th>\n",
              "      <th>imdbID</th>\n",
              "      <th>duration</th>\n",
              "      <th>genre</th>\n",
              "      <th>imdb_rating</th>\n",
              "      <th>metascore</th>\n",
              "      <th>synopsys</th>\n",
              "      <th>votes</th>\n",
              "      <th>gross</th>\n",
              "    </tr>\n",
              "  </thead>\n",
              "  <tbody>\n",
              "    <tr>\n",
              "      <th>9298</th>\n",
              "      <td>Don Peyote</td>\n",
              "      <td>tt1828968</td>\n",
              "      <td>98 min</td>\n",
              "      <td>\\nComedy, Drama</td>\n",
              "      <td>3.6</td>\n",
              "      <td>14</td>\n",
              "      <td>\\nDON PEYOTE tells the story Warren Allman, an...</td>\n",
              "      <td>880</td>\n",
              "      <td>None</td>\n",
              "    </tr>\n",
              "    <tr>\n",
              "      <th>9299</th>\n",
              "      <td>Lymelife</td>\n",
              "      <td>tt0363780</td>\n",
              "      <td>95 min</td>\n",
              "      <td>\\nComedy, Drama, Romance</td>\n",
              "      <td>6.9</td>\n",
              "      <td>64</td>\n",
              "      <td>\\nA family unit begins to bow under the pressu...</td>\n",
              "      <td>14094</td>\n",
              "      <td>429,307</td>\n",
              "    </tr>\n",
              "    <tr>\n",
              "      <th>9300</th>\n",
              "      <td>Mohawk</td>\n",
              "      <td>tt5189828</td>\n",
              "      <td>91 min</td>\n",
              "      <td>\\nAction, Drama, History</td>\n",
              "      <td>4.6</td>\n",
              "      <td>70</td>\n",
              "      <td>\\nLate in the War of 1812, a young Mohawk woma...</td>\n",
              "      <td>1475</td>\n",
              "      <td>None</td>\n",
              "    </tr>\n",
              "    <tr>\n",
              "      <th>9301</th>\n",
              "      <td>Lonesome Jim</td>\n",
              "      <td>tt0385056</td>\n",
              "      <td>91 min</td>\n",
              "      <td>\\nComedy, Drama</td>\n",
              "      <td>6.6</td>\n",
              "      <td>54</td>\n",
              "      <td>\\nFailing to make it on his own, twenty-seven-...</td>\n",
              "      <td>7797</td>\n",
              "      <td>154,077</td>\n",
              "    </tr>\n",
              "    <tr>\n",
              "      <th>9302</th>\n",
              "      <td>Girl Fever</td>\n",
              "      <td>tt0265010</td>\n",
              "      <td>98 min</td>\n",
              "      <td>\\nComedy, Romance</td>\n",
              "      <td>5.0</td>\n",
              "      <td>None</td>\n",
              "      <td>\\nSam is a dexterity-challenged art student ha...</td>\n",
              "      <td>2503</td>\n",
              "      <td>None</td>\n",
              "    </tr>\n",
              "    <tr>\n",
              "      <th>9303</th>\n",
              "      <td>Happily Ever After</td>\n",
              "      <td>tt0381270</td>\n",
              "      <td>100 min</td>\n",
              "      <td>\\nComedy, Drama, Music</td>\n",
              "      <td>6.5</td>\n",
              "      <td>58</td>\n",
              "      <td>\\nIs the love compatible with coupledom? And w...</td>\n",
              "      <td>4968</td>\n",
              "      <td>252,341</td>\n",
              "    </tr>\n",
              "    <tr>\n",
              "      <th>9304</th>\n",
              "      <td>Columbus Circle</td>\n",
              "      <td>tt1465533</td>\n",
              "      <td>82 min</td>\n",
              "      <td>\\nCrime, Drama, Mystery</td>\n",
              "      <td>6.0</td>\n",
              "      <td>None</td>\n",
              "      <td>\\nAn heiress who's been shut inside her apartm...</td>\n",
              "      <td>10539</td>\n",
              "      <td>None</td>\n",
              "    </tr>\n",
              "    <tr>\n",
              "      <th>9305</th>\n",
              "      <td>Awakening the Zodiac</td>\n",
              "      <td>tt6294892</td>\n",
              "      <td>100 min</td>\n",
              "      <td>\\nCrime, Drama, Mystery</td>\n",
              "      <td>4.8</td>\n",
              "      <td>None</td>\n",
              "      <td>\\nOver 40 years since the infamous Zodiac kill...</td>\n",
              "      <td>1961</td>\n",
              "      <td>None</td>\n",
              "    </tr>\n",
              "    <tr>\n",
              "      <th>9306</th>\n",
              "      <td>Blood Orange</td>\n",
              "      <td>tt4145108</td>\n",
              "      <td>85 min</td>\n",
              "      <td>\\nThriller</td>\n",
              "      <td>4.3</td>\n",
              "      <td>None</td>\n",
              "      <td>\\nBlood Orange stars Iggy Pop as Bill, an agei...</td>\n",
              "      <td>806</td>\n",
              "      <td>None</td>\n",
              "    </tr>\n",
              "    <tr>\n",
              "      <th>9307</th>\n",
              "      <td>Trois</td>\n",
              "      <td>tt0217107</td>\n",
              "      <td>93 min</td>\n",
              "      <td>\\nDrama, Romance, Thriller</td>\n",
              "      <td>4.0</td>\n",
              "      <td>None</td>\n",
              "      <td>\\nTrouble erupts when a happily married couple...</td>\n",
              "      <td>646</td>\n",
              "      <td>1,160,268</td>\n",
              "    </tr>\n",
              "    <tr>\n",
              "      <th>9308</th>\n",
              "      <td>Dear God No!</td>\n",
              "      <td>tt1947998</td>\n",
              "      <td>81 min</td>\n",
              "      <td>\\nComedy, Horror</td>\n",
              "      <td>4.1</td>\n",
              "      <td>None</td>\n",
              "      <td>\\nA gang of outlaw bikers pull a home invasion...</td>\n",
              "      <td>1701</td>\n",
              "      <td>None</td>\n",
              "    </tr>\n",
              "    <tr>\n",
              "      <th>9309</th>\n",
              "      <td>Rangoon</td>\n",
              "      <td>tt4909752</td>\n",
              "      <td>170 min</td>\n",
              "      <td>\\nAction, Drama, History</td>\n",
              "      <td>5.6</td>\n",
              "      <td>None</td>\n",
              "      <td>\\nJulia travels to the Indo-Burma border to pe...</td>\n",
              "      <td>4059</td>\n",
              "      <td>None</td>\n",
              "    </tr>\n",
              "    <tr>\n",
              "      <th>9310</th>\n",
              "      <td>The Ever After</td>\n",
              "      <td>tt2966754</td>\n",
              "      <td>87 min</td>\n",
              "      <td>\\nDrama</td>\n",
              "      <td>5.8</td>\n",
              "      <td>None</td>\n",
              "      <td>\\nLovers struggle to overcome the everyday tem...</td>\n",
              "      <td>364</td>\n",
              "      <td>None</td>\n",
              "    </tr>\n",
              "    <tr>\n",
              "      <th>9311</th>\n",
              "      <td>That Good Night</td>\n",
              "      <td>tt5271794</td>\n",
              "      <td>92 min</td>\n",
              "      <td>\\nDrama</td>\n",
              "      <td>6.6</td>\n",
              "      <td>None</td>\n",
              "      <td>\\nRalph, a once-famous screenwriter, is in his...</td>\n",
              "      <td>530</td>\n",
              "      <td>None</td>\n",
              "    </tr>\n",
              "    <tr>\n",
              "      <th>9312</th>\n",
              "      <td>Fractured</td>\n",
              "      <td>tt8297300</td>\n",
              "      <td>80 min</td>\n",
              "      <td>\\nMystery, Thriller</td>\n",
              "      <td>5.6</td>\n",
              "      <td>None</td>\n",
              "      <td>\\nWhen Rebecca and Michael decide to take a we...</td>\n",
              "      <td>990</td>\n",
              "      <td>None</td>\n",
              "    </tr>\n",
              "    <tr>\n",
              "      <th>9313</th>\n",
              "      <td>Chloe &amp; Theo</td>\n",
              "      <td>tt1754736</td>\n",
              "      <td>81 min</td>\n",
              "      <td>\\nComedy, Drama</td>\n",
              "      <td>5.9</td>\n",
              "      <td>24</td>\n",
              "      <td>\\nFrom the northern ice comes a gentler kind o...</td>\n",
              "      <td>1576</td>\n",
              "      <td>None</td>\n",
              "    </tr>\n",
              "    <tr>\n",
              "      <th>9314</th>\n",
              "      <td>Crazy</td>\n",
              "      <td>tt0443474</td>\n",
              "      <td>106 min</td>\n",
              "      <td>\\nBiography, Drama, Music</td>\n",
              "      <td>6.5</td>\n",
              "      <td>None</td>\n",
              "      <td>\\nInspired by the life of Hank Garland, CRAZY ...</td>\n",
              "      <td>670</td>\n",
              "      <td>None</td>\n",
              "    </tr>\n",
              "    <tr>\n",
              "      <th>9315</th>\n",
              "      <td>Loco Love</td>\n",
              "      <td>tt0293452</td>\n",
              "      <td>94 min</td>\n",
              "      <td>\\nComedy, Romance</td>\n",
              "      <td>5.3</td>\n",
              "      <td>26</td>\n",
              "      <td>\\nAfter losing his restaurant to his ex-wife, ...</td>\n",
              "      <td>583</td>\n",
              "      <td>None</td>\n",
              "    </tr>\n",
              "    <tr>\n",
              "      <th>9316</th>\n",
              "      <td>I Hate Valentine's Day</td>\n",
              "      <td>tt0762105</td>\n",
              "      <td>98 min</td>\n",
              "      <td>\\nComedy, Romance</td>\n",
              "      <td>4.7</td>\n",
              "      <td>17</td>\n",
              "      <td>\\nA florist, who abides by a strict five-date-...</td>\n",
              "      <td>8403</td>\n",
              "      <td>10,060</td>\n",
              "    </tr>\n",
              "    <tr>\n",
              "      <th>9317</th>\n",
              "      <td>Sunshine of Your Love: A Concert for Jack Bruce</td>\n",
              "      <td>tt8232576</td>\n",
              "      <td>120 min</td>\n",
              "      <td>\\nMusic</td>\n",
              "      <td>None</td>\n",
              "      <td>None</td>\n",
              "      <td>None</td>\n",
              "      <td>None</td>\n",
              "      <td>None</td>\n",
              "    </tr>\n",
              "  </tbody>\n",
              "</table>\n",
              "</div>"
            ],
            "text/plain": [
              "                                                title  ...      gross\n",
              "9298                                       Don Peyote  ...       None\n",
              "9299                                         Lymelife  ...    429,307\n",
              "9300                                           Mohawk  ...       None\n",
              "9301                                     Lonesome Jim  ...    154,077\n",
              "9302                                       Girl Fever  ...       None\n",
              "9303                               Happily Ever After  ...    252,341\n",
              "9304                                  Columbus Circle  ...       None\n",
              "9305                             Awakening the Zodiac  ...       None\n",
              "9306                                     Blood Orange  ...       None\n",
              "9307                                            Trois  ...  1,160,268\n",
              "9308                                     Dear God No!  ...       None\n",
              "9309                                          Rangoon  ...       None\n",
              "9310                                   The Ever After  ...       None\n",
              "9311                                  That Good Night  ...       None\n",
              "9312                                        Fractured  ...       None\n",
              "9313                                     Chloe & Theo  ...       None\n",
              "9314                                            Crazy  ...       None\n",
              "9315                                        Loco Love  ...       None\n",
              "9316                           I Hate Valentine's Day  ...     10,060\n",
              "9317  Sunshine of Your Love: A Concert for Jack Bruce  ...       None\n",
              "\n",
              "[20 rows x 9 columns]"
            ]
          },
          "execution_count": 38,
          "metadata": {
            "tags": []
          },
          "output_type": "execute_result"
        }
      ]
    },
    {
      "cell_type": "markdown",
      "metadata": {
        "id": "ky_nuMkgGHZN"
      },
      "source": [
        "**Saving the intermit result**"
      ]
    },
    {
      "cell_type": "code",
      "metadata": {
        "id": "CB7UhTPxV6Z4"
      },
      "source": [
        "first50_df.to_csv('first50_df.csv')\n",
        "\n",
        "!cp first50_df.csv \"/content/drive/MyDrive/movies_scraped\""
      ],
      "execution_count": null,
      "outputs": []
    },
    {
      "cell_type": "code",
      "metadata": {
        "id": "YFoJmRyT3F4x"
      },
      "source": [
        "first50_df = pd.read_csv('/content/drive/MyDrive/movies_scraped/first50_df.csv')"
      ],
      "execution_count": null,
      "outputs": []
    },
    {
      "cell_type": "code",
      "metadata": {
        "colab": {
          "base_uri": "https://localhost:8080/",
          "height": 206
        },
        "id": "H5eR5Ewu3V7u",
        "outputId": "aad40dc2-0819-4639-a582-c87e6a0c2890"
      },
      "source": [
        "first50_df.tail()"
      ],
      "execution_count": null,
      "outputs": [
        {
          "data": {
            "text/html": [
              "<div>\n",
              "<style scoped>\n",
              "    .dataframe tbody tr th:only-of-type {\n",
              "        vertical-align: middle;\n",
              "    }\n",
              "\n",
              "    .dataframe tbody tr th {\n",
              "        vertical-align: top;\n",
              "    }\n",
              "\n",
              "    .dataframe thead th {\n",
              "        text-align: right;\n",
              "    }\n",
              "</style>\n",
              "<table border=\"1\" class=\"dataframe\">\n",
              "  <thead>\n",
              "    <tr style=\"text-align: right;\">\n",
              "      <th></th>\n",
              "      <th>Unnamed: 0</th>\n",
              "      <th>title</th>\n",
              "      <th>imdbID</th>\n",
              "      <th>duration</th>\n",
              "      <th>genre</th>\n",
              "      <th>imdb_rating</th>\n",
              "      <th>metascore</th>\n",
              "      <th>synopsys</th>\n",
              "      <th>votes</th>\n",
              "      <th>gross</th>\n",
              "    </tr>\n",
              "  </thead>\n",
              "  <tbody>\n",
              "    <tr>\n",
              "      <th>9313</th>\n",
              "      <td>9313</td>\n",
              "      <td>Chloe &amp; Theo</td>\n",
              "      <td>tt1754736</td>\n",
              "      <td>81 min</td>\n",
              "      <td>\\nComedy, Drama</td>\n",
              "      <td>5.9</td>\n",
              "      <td>24.0</td>\n",
              "      <td>\\nFrom the northern ice comes a gentler kind o...</td>\n",
              "      <td>1576.0</td>\n",
              "      <td>NaN</td>\n",
              "    </tr>\n",
              "    <tr>\n",
              "      <th>9314</th>\n",
              "      <td>9314</td>\n",
              "      <td>Crazy</td>\n",
              "      <td>tt0443474</td>\n",
              "      <td>106 min</td>\n",
              "      <td>\\nBiography, Drama, Music</td>\n",
              "      <td>6.5</td>\n",
              "      <td>NaN</td>\n",
              "      <td>\\nInspired by the life of Hank Garland, CRAZY ...</td>\n",
              "      <td>670.0</td>\n",
              "      <td>NaN</td>\n",
              "    </tr>\n",
              "    <tr>\n",
              "      <th>9315</th>\n",
              "      <td>9315</td>\n",
              "      <td>Loco Love</td>\n",
              "      <td>tt0293452</td>\n",
              "      <td>94 min</td>\n",
              "      <td>\\nComedy, Romance</td>\n",
              "      <td>5.3</td>\n",
              "      <td>26.0</td>\n",
              "      <td>\\nAfter losing his restaurant to his ex-wife, ...</td>\n",
              "      <td>583.0</td>\n",
              "      <td>NaN</td>\n",
              "    </tr>\n",
              "    <tr>\n",
              "      <th>9316</th>\n",
              "      <td>9316</td>\n",
              "      <td>I Hate Valentine's Day</td>\n",
              "      <td>tt0762105</td>\n",
              "      <td>98 min</td>\n",
              "      <td>\\nComedy, Romance</td>\n",
              "      <td>4.7</td>\n",
              "      <td>17.0</td>\n",
              "      <td>\\nA florist, who abides by a strict five-date-...</td>\n",
              "      <td>8403.0</td>\n",
              "      <td>10,060</td>\n",
              "    </tr>\n",
              "    <tr>\n",
              "      <th>9317</th>\n",
              "      <td>9317</td>\n",
              "      <td>Sunshine of Your Love: A Concert for Jack Bruce</td>\n",
              "      <td>tt8232576</td>\n",
              "      <td>120 min</td>\n",
              "      <td>\\nMusic</td>\n",
              "      <td>NaN</td>\n",
              "      <td>NaN</td>\n",
              "      <td>NaN</td>\n",
              "      <td>NaN</td>\n",
              "      <td>NaN</td>\n",
              "    </tr>\n",
              "  </tbody>\n",
              "</table>\n",
              "</div>"
            ],
            "text/plain": [
              "      Unnamed: 0  ...   gross\n",
              "9313        9313  ...     NaN\n",
              "9314        9314  ...     NaN\n",
              "9315        9315  ...     NaN\n",
              "9316        9316  ...  10,060\n",
              "9317        9317  ...     NaN\n",
              "\n",
              "[5 rows x 10 columns]"
            ]
          },
          "execution_count": 7,
          "metadata": {
            "tags": []
          },
          "output_type": "execute_result"
        }
      ]
    },
    {
      "cell_type": "code",
      "metadata": {
        "colab": {
          "base_uri": "https://localhost:8080/"
        },
        "id": "N1cLMop830o1",
        "outputId": "93b94a93-249f-4bfc-e836-1266017d555f"
      },
      "source": [
        "start[37]"
      ],
      "execution_count": null,
      "outputs": [
        {
          "data": {
            "text/plain": [
              "9251"
            ]
          },
          "execution_count": 13,
          "metadata": {
            "tags": []
          },
          "output_type": "execute_result"
        }
      ]
    },
    {
      "cell_type": "code",
      "metadata": {
        "colab": {
          "base_uri": "https://localhost:8080/"
        },
        "id": "jRJHTmAQ5aFM",
        "outputId": "e822a3ee-34c8-4e74-fa06-845c3a289b31"
      },
      "source": [
        "start[37:50]"
      ],
      "execution_count": null,
      "outputs": [
        {
          "data": {
            "text/plain": [
              "[9251,\n",
              " 9501,\n",
              " 9751,\n",
              " 10001,\n",
              " 10251,\n",
              " 10501,\n",
              " 10751,\n",
              " 11001,\n",
              " 11251,\n",
              " 11501,\n",
              " 11751,\n",
              " 12001,\n",
              " 12251]"
            ]
          },
          "execution_count": 20,
          "metadata": {
            "tags": []
          },
          "output_type": "execute_result"
        }
      ]
    },
    {
      "cell_type": "code",
      "metadata": {
        "colab": {
          "base_uri": "https://localhost:8080/",
          "height": 206
        },
        "id": "J3Vle83Q53p4",
        "outputId": "2305f35c-9295-49da-8dd6-c6319dc27ddb"
      },
      "source": [
        "first50_df.head()"
      ],
      "execution_count": null,
      "outputs": [
        {
          "data": {
            "text/html": [
              "<div>\n",
              "<style scoped>\n",
              "    .dataframe tbody tr th:only-of-type {\n",
              "        vertical-align: middle;\n",
              "    }\n",
              "\n",
              "    .dataframe tbody tr th {\n",
              "        vertical-align: top;\n",
              "    }\n",
              "\n",
              "    .dataframe thead th {\n",
              "        text-align: right;\n",
              "    }\n",
              "</style>\n",
              "<table border=\"1\" class=\"dataframe\">\n",
              "  <thead>\n",
              "    <tr style=\"text-align: right;\">\n",
              "      <th></th>\n",
              "      <th>Unnamed: 0</th>\n",
              "      <th>title</th>\n",
              "      <th>imdbID</th>\n",
              "      <th>duration</th>\n",
              "      <th>genre</th>\n",
              "      <th>imdb_rating</th>\n",
              "      <th>metascore</th>\n",
              "      <th>synopsys</th>\n",
              "      <th>votes</th>\n",
              "      <th>gross</th>\n",
              "    </tr>\n",
              "  </thead>\n",
              "  <tbody>\n",
              "    <tr>\n",
              "      <th>0</th>\n",
              "      <td>0</td>\n",
              "      <td>Suicide Squad</td>\n",
              "      <td>tt1386697</td>\n",
              "      <td>123 min</td>\n",
              "      <td>\\nAction, Adventure, Fantasy</td>\n",
              "      <td>5.9</td>\n",
              "      <td>40.0</td>\n",
              "      <td>\\nA secret government agency recruits some of ...</td>\n",
              "      <td>640035.0</td>\n",
              "      <td>325,100,054</td>\n",
              "    </tr>\n",
              "    <tr>\n",
              "      <th>1</th>\n",
              "      <td>1</td>\n",
              "      <td>Midsommar</td>\n",
              "      <td>tt8772262</td>\n",
              "      <td>148 min</td>\n",
              "      <td>\\nDrama, Horror, Mystery</td>\n",
              "      <td>7.1</td>\n",
              "      <td>72.0</td>\n",
              "      <td>\\nA couple travels to Scandinavia to visit a r...</td>\n",
              "      <td>244466.0</td>\n",
              "      <td>27,331,977</td>\n",
              "    </tr>\n",
              "    <tr>\n",
              "      <th>2</th>\n",
              "      <td>2</td>\n",
              "      <td>Once Upon a Time... In Hollywood</td>\n",
              "      <td>tt7131622</td>\n",
              "      <td>161 min</td>\n",
              "      <td>\\nComedy, Drama</td>\n",
              "      <td>7.6</td>\n",
              "      <td>83.0</td>\n",
              "      <td>\\nA faded television actor and his stunt doubl...</td>\n",
              "      <td>622443.0</td>\n",
              "      <td>142,502,728</td>\n",
              "    </tr>\n",
              "    <tr>\n",
              "      <th>3</th>\n",
              "      <td>3</td>\n",
              "      <td>Don't Breathe</td>\n",
              "      <td>tt4160708</td>\n",
              "      <td>88 min</td>\n",
              "      <td>\\nCrime, Horror, Thriller</td>\n",
              "      <td>7.1</td>\n",
              "      <td>71.0</td>\n",
              "      <td>\\nHoping to walk away with a massive fortune, ...</td>\n",
              "      <td>240946.0</td>\n",
              "      <td>89,217,875</td>\n",
              "    </tr>\n",
              "    <tr>\n",
              "      <th>4</th>\n",
              "      <td>4</td>\n",
              "      <td>The Losers</td>\n",
              "      <td>tt0480255</td>\n",
              "      <td>97 min</td>\n",
              "      <td>\\nAction, Adventure, Crime</td>\n",
              "      <td>6.3</td>\n",
              "      <td>44.0</td>\n",
              "      <td>\\nA CIA special forces team is betrayed and le...</td>\n",
              "      <td>95954.0</td>\n",
              "      <td>23,580,735</td>\n",
              "    </tr>\n",
              "  </tbody>\n",
              "</table>\n",
              "</div>"
            ],
            "text/plain": [
              "   Unnamed: 0                             title  ...     votes        gross\n",
              "0           0                     Suicide Squad  ...  640035.0  325,100,054\n",
              "1           1                         Midsommar  ...  244466.0   27,331,977\n",
              "2           2  Once Upon a Time... In Hollywood  ...  622443.0  142,502,728\n",
              "3           3                     Don't Breathe  ...  240946.0   89,217,875\n",
              "4           4                        The Losers  ...   95954.0   23,580,735\n",
              "\n",
              "[5 rows x 10 columns]"
            ]
          },
          "execution_count": 21,
          "metadata": {
            "tags": []
          },
          "output_type": "execute_result"
        }
      ]
    },
    {
      "cell_type": "code",
      "metadata": {
        "colab": {
          "base_uri": "https://localhost:8080/"
        },
        "id": "FKnELHup6XEn",
        "outputId": "cd426fe8-b99b-4835-998b-87c93bfdb335"
      },
      "source": [
        "len(first50_df.loc[:9250])"
      ],
      "execution_count": null,
      "outputs": [
        {
          "data": {
            "text/plain": [
              "9251"
            ]
          },
          "execution_count": 23,
          "metadata": {
            "tags": []
          },
          "output_type": "execute_result"
        }
      ]
    },
    {
      "cell_type": "code",
      "metadata": {
        "colab": {
          "base_uri": "https://localhost:8080/"
        },
        "id": "CVc4ALcaKT8D",
        "outputId": "e5998f4b-f062-4245-d004-66dd349c8da3"
      },
      "source": [
        "9251/250"
      ],
      "execution_count": null,
      "outputs": [
        {
          "data": {
            "text/plain": [
              "37.004"
            ]
          },
          "execution_count": 33,
          "metadata": {
            "tags": []
          },
          "output_type": "execute_result"
        }
      ]
    },
    {
      "cell_type": "markdown",
      "metadata": {
        "id": "ayPb8zooGQ7_"
      },
      "source": [
        "**Saving for 37 full pages**\n",
        "\n",
        "To scrape by full pages in this first chunk I'll save only full 37 pages that I have collected and continue with 38th."
      ]
    },
    {
      "cell_type": "code",
      "metadata": {
        "id": "fYNHo8VU6fuY"
      },
      "source": [
        "first50_df['order_movie_count'] = first50_df['Unnamed: 0'] + 1"
      ],
      "execution_count": null,
      "outputs": []
    },
    {
      "cell_type": "code",
      "metadata": {
        "id": "0yLDnvUn6wLZ"
      },
      "source": [
        "first37_df = first50_df[first50_df.order_movie_count <9251].copy()"
      ],
      "execution_count": null,
      "outputs": []
    },
    {
      "cell_type": "code",
      "metadata": {
        "id": "Go-nPBIa7WKH"
      },
      "source": [
        "first37_df.to_csv('first37_df.csv')\n",
        "\n",
        "!cp first37_df.csv \"/content/drive/MyDrive/movies_scraped\""
      ],
      "execution_count": null,
      "outputs": []
    },
    {
      "cell_type": "markdown",
      "metadata": {
        "id": "sN1finfhGW9q"
      },
      "source": [
        "### **Creating a function for scraping**"
      ]
    },
    {
      "cell_type": "markdown",
      "metadata": {
        "id": "evfLY0vLJakA"
      },
      "source": [
        "To make the process more efficient, I will wrap the code above into a function. \n",
        "Because of the limitation of running time for the free Colab version, I also should chunk my requests so that I don't try to call too many movies in one go. If I do that the notebook will stop working before I manage to save what I've collected. Another reason is because after 9999 movies the link changes its format. \n",
        "I chunk by number of movies rather than by even time periods because the number of movies produced in a year increases as I get closer to now. \n",
        "This way I end up with 11 batches. With the generous sleep time it takes quite a while to collect that. I was casually running batches of code below over a couple of days always saving the dataframe for each batch separately (if I had to do it again I would include the saving part of the code in the function). \n",
        "\n"
      ]
    },
    {
      "cell_type": "markdown",
      "source": [
        "The function that takes the imdb link chuncked in 3 pieses, start year and end year. Pools title, imdbID, duration, genre, imdb rating, metascore, synopsys, votes and gross from those pages and forms into a data frame. The final result is data frame. The selected time range should not include more than 9999 titles. After 9999 titles, imdb link changes. \n",
        "\n",
        "\n",
        "* The finction prints number of requests it is going to make and estimated time for completion.\n",
        "* The finction prints \"Let's roll!\", just because. \n",
        "* The function prints an error message and breaks if it cannot get a requested page.\n",
        "* The function prints sleep time after request X. Only last request is always printed (previously printed information is cleared). This way there is not too much text and I know what is going on now when I check in on the code. \n",
        "* The function pauses the requests, introducing random sleep time between 20 and 420 secons. \n"
      ],
      "metadata": {
        "id": "MlGoCWin952d"
      }
    },
    {
      "cell_type": "code",
      "metadata": {
        "id": "M0H-9EDeHxjR"
      },
      "source": [
        "def scrape_250_pages(year_start, year_end, link1, link2, link3):\n",
        "  title = []\n",
        "  imbdID = []\n",
        "  duration = []\n",
        "  genre = []\n",
        "  imdb_rating = []\n",
        "  metascore = []\n",
        "  synopsys = []\n",
        "  votes = []\n",
        "  gross = []\n",
        "  year = []\n",
        "\n",
        "  #defining the number of titles\n",
        "  response = get(link1 + str(year_start) + '-01-01,' + str(year_end) + link2 + str(1) + link3, headers = {\"Accept-Language\": \"en-US, en;q=0.5\"})\n",
        "  page_html = BeautifulSoup(response.text, 'html.parser')\n",
        "\n",
        "  n_titles = re.findall(r'\\d+,\\d+', page_html.find('div', class_ = 'desc').span.text)[0]\n",
        "  n_titles = int(re.sub(r',', '', n_titles))\n",
        "\n",
        "  #defining the list of start pages\n",
        "  start = [1]\n",
        "  n_pages = math.ceil(n_titles/250)# divide number of titles by 250 and round up to integer\n",
        "\n",
        "  print('Will make ' + str(n_pages) + ' requests')\n",
        "  print('Estimated time for completion is ' + str(math.ceil(218.5*n_pages/60)) + ' minutes')\n",
        "  \n",
        "  for i in range(n_pages):\n",
        "    if i == 1:\n",
        "      print('Lets Roll!')\n",
        "    else:\n",
        "      start.append((start[i-1] + 250))\n",
        "\n",
        "  requests = 0\n",
        "  time1 = datetime.now()\n",
        "\n",
        "  for start_number in start:\n",
        "  #request\n",
        "    try:\n",
        "      response = get(link1 + str(year_start) + '-01-01,' + str(year_end) + link2 + str(start_number) + link3, headers = {\"Accept-Language\": \"en-US, en;q=0.5\"}) #to get english language titles use headers argument\n",
        "    except:\n",
        "      print('ERROR!!!: Cannot get the response from IMDb')\n",
        "\n",
        "      break  \n",
        "\n",
        "  \n",
        "    #break time\n",
        "    requests += 1 #which request\n",
        "    sleep(randint(20, 420)) #make a pause between 20 seconds and 7 minutes\n",
        "    elapsed_time = datetime.now() - time1 #what was the length of the pause\n",
        "    print('Request: {}; Sleep time: {} second(s)'.format(requests, elapsed_time.seconds))\n",
        "    time1 = datetime.now() #reset loop counter to start now\n",
        "  \n",
        "    clear_output(wait = True) # clean out the output after each iteration\n",
        "\n",
        "\n",
        "    page_html = BeautifulSoup(response.text, 'html.parser')\n",
        "\n",
        "    movie_containers = page_html.find_all('div', class_ = 'lister-item mode-advanced') # create movie containers\n",
        "\n",
        "\n",
        "    for container in movie_containers:\n",
        "      title.append(container.h3.a.text) #title\n",
        "      imbdID.append(container.div.div['data-tconst'])#imdb ID\n",
        "  \n",
        "      try:\n",
        "        duration.append(container.find('span', class_ = 'runtime').text) #duration\n",
        "      except:\n",
        "        duration.append(None) \n",
        "\n",
        "      try:\n",
        "        genre.append(container.find('span', class_ = 'genre').text) #genre\n",
        "      except:\n",
        "        genre.append(None)\n",
        "\n",
        "      try:\n",
        "        imdb_rating.append(container.strong.text)  #imdb rating\n",
        "      except:\n",
        "        imdb_rating.append(None)  \n",
        "\n",
        "      try:\n",
        "        metascore.append(container.find('span', class_ = 'metascore').text) #metascore\n",
        "      except:\n",
        "        metascore.append(None)\n",
        "\n",
        "      try:\n",
        "        synopsys.append(container.find_all('p', class_ = 'text-muted')[1].text)  #synopsys\n",
        "      except:\n",
        "        synopsys.append(None)\n",
        "\n",
        "      try:\n",
        "        votes.append(container.find('span', attrs = {'name':'nv'})['data-value'])  #votes\n",
        "      except:\n",
        "        votes.append(None)\n",
        "\n",
        "      try:\n",
        "        gross.append(container.find_all('span', attrs = {'name':'nv'})[1]['data-value']) #gross\n",
        "      except:\n",
        "        gross.append(None)\n",
        "\n",
        "      try:\n",
        "        year.append(container.h3.find('span', class_ = 'lister-item-year text-muted unbold')) #year\n",
        "      except:\n",
        "        year.append(None)\n",
        "\n",
        "\n",
        "\n",
        "  df = pd.DataFrame({\n",
        "      'title': title,\n",
        "      'imdbID': imbdID,\n",
        "      'duration': duration,\n",
        "      'genre': genre,\n",
        "      'imdb_rating': imdb_rating,\n",
        "      'metascore': metascore,\n",
        "      'synopsys': synopsys,\n",
        "      'votes': votes,\n",
        "      'gross': gross,\n",
        "      'year': year\n",
        "  })\n",
        "  \n",
        "  print('Number of movies retrieved: ' + str(n_titles))\n",
        "\n",
        "  return df        "
      ],
      "execution_count": null,
      "outputs": []
    },
    {
      "cell_type": "markdown",
      "metadata": {
        "id": "g_S9zI9ur6X9"
      },
      "source": [
        "**Applying the function**"
      ]
    },
    {
      "cell_type": "code",
      "metadata": {
        "id": "Ei3mzb-Ki2yS"
      },
      "source": [
        "#'https://www.imdb.com/search/title/?title_type=feature&release_date=1999-01-01,2019-12-31&languages=en&count=250&start=1&ref_=adv_nxt'\n",
        "\n",
        "link1 = 'https://www.imdb.com/search/title/?title_type=feature&release_date='\n",
        "link2 = '-12-31&languages=en&count=250&start='\n",
        "link3 = '&ref_=adv_nxt'"
      ],
      "execution_count": null,
      "outputs": []
    },
    {
      "cell_type": "code",
      "metadata": {
        "id": "ceH8gYWJjed-"
      },
      "source": [
        "#split so that no group is exceeding 9999 titles if exceding the link is different\n",
        "start_year = [1999, 2004, 2008, 2010, 2012, 2014, 2015, 2016, 2017, 2018, 2019]\n",
        "finish_year = [2003, 2007, 2009, 2011, 2013, 2014, 2015, 2016, 2017, 2018, 2019]"
      ],
      "execution_count": null,
      "outputs": []
    },
    {
      "cell_type": "markdown",
      "metadata": {
        "id": "4n79soytm_Fh"
      },
      "source": [
        "\n",
        "\n",
        "1.   1999-2003 = 8173 titles\n",
        "2.   2004-2007 = 9210 titles\n",
        "3.   2008-2009 = 6939 titles\n",
        "4.   2010-2011 = 8193 titles \n",
        "5.   2012-2013 = 9500 titles \n",
        "6.   2014-2014 = 5063 titles \n",
        "7.   2015-2015 = 5258 titles \n",
        "8.   2016-2016 = 5637 titles \n",
        "9.   2017-2017 = 6152 titles \n",
        "10.   2018-2018 = 6168 titles \n",
        "11.   2019-2019 = 5357 titles \n",
        "\n"
      ]
    },
    {
      "cell_type": "markdown",
      "metadata": {
        "id": "WojevjlnI9L5"
      },
      "source": [
        "**First Batch**: 1999-2003"
      ]
    },
    {
      "cell_type": "code",
      "metadata": {
        "colab": {
          "base_uri": "https://localhost:8080/"
        },
        "id": "e_mpRYMHlVg0",
        "outputId": "aa69d53b-2bbc-49be-866d-1759b2eeb116"
      },
      "source": [
        "y_99_03_df = scrape_250_pages(year_start = start_year[0], year_end = finish_year[0], link1 = link1, link2 = link2, link3 = link3)"
      ],
      "execution_count": null,
      "outputs": [
        {
          "name": "stdout",
          "output_type": "stream",
          "text": [
            "Number of movies retrieved: 8172\n"
          ]
        }
      ]
    },
    {
      "cell_type": "code",
      "metadata": {
        "colab": {
          "base_uri": "https://localhost:8080/",
          "height": 328
        },
        "id": "6dJh-1_suRv2",
        "outputId": "7d31b640-d51a-4973-bfd3-2074f4243172"
      },
      "source": [
        "y_99_03_df.head()"
      ],
      "execution_count": null,
      "outputs": [
        {
          "data": {
            "text/html": [
              "<div>\n",
              "<style scoped>\n",
              "    .dataframe tbody tr th:only-of-type {\n",
              "        vertical-align: middle;\n",
              "    }\n",
              "\n",
              "    .dataframe tbody tr th {\n",
              "        vertical-align: top;\n",
              "    }\n",
              "\n",
              "    .dataframe thead th {\n",
              "        text-align: right;\n",
              "    }\n",
              "</style>\n",
              "<table border=\"1\" class=\"dataframe\">\n",
              "  <thead>\n",
              "    <tr style=\"text-align: right;\">\n",
              "      <th></th>\n",
              "      <th>title</th>\n",
              "      <th>imdbID</th>\n",
              "      <th>duration</th>\n",
              "      <th>genre</th>\n",
              "      <th>imdb_rating</th>\n",
              "      <th>metascore</th>\n",
              "      <th>synopsys</th>\n",
              "      <th>votes</th>\n",
              "      <th>gross</th>\n",
              "      <th>year</th>\n",
              "    </tr>\n",
              "  </thead>\n",
              "  <tbody>\n",
              "    <tr>\n",
              "      <th>0</th>\n",
              "      <td>Harry Potter and the Sorcerer's Stone</td>\n",
              "      <td>tt0241527</td>\n",
              "      <td>152 min</td>\n",
              "      <td>\\nAdventure, Family, Fantasy</td>\n",
              "      <td>7.6</td>\n",
              "      <td>64</td>\n",
              "      <td>\\nAn orphaned boy enrolls in a school of wizar...</td>\n",
              "      <td>693017</td>\n",
              "      <td>317,575,550</td>\n",
              "      <td>[(2001)]</td>\n",
              "    </tr>\n",
              "    <tr>\n",
              "      <th>1</th>\n",
              "      <td>The Lord of the Rings: The Fellowship of the Ring</td>\n",
              "      <td>tt0120737</td>\n",
              "      <td>178 min</td>\n",
              "      <td>\\nAction, Adventure, Drama</td>\n",
              "      <td>8.8</td>\n",
              "      <td>92</td>\n",
              "      <td>\\nA meek Hobbit from the Shire and eight compa...</td>\n",
              "      <td>1721432</td>\n",
              "      <td>315,544,750</td>\n",
              "      <td>[(2001)]</td>\n",
              "    </tr>\n",
              "    <tr>\n",
              "      <th>2</th>\n",
              "      <td>The Matrix</td>\n",
              "      <td>tt0133093</td>\n",
              "      <td>136 min</td>\n",
              "      <td>\\nAction, Sci-Fi</td>\n",
              "      <td>8.7</td>\n",
              "      <td>73</td>\n",
              "      <td>\\nWhen a beautiful stranger leads computer hac...</td>\n",
              "      <td>1741678</td>\n",
              "      <td>171,479,930</td>\n",
              "      <td>[(1999)]</td>\n",
              "    </tr>\n",
              "    <tr>\n",
              "      <th>3</th>\n",
              "      <td>Fight Club</td>\n",
              "      <td>tt0137523</td>\n",
              "      <td>139 min</td>\n",
              "      <td>\\nDrama</td>\n",
              "      <td>8.8</td>\n",
              "      <td>66</td>\n",
              "      <td>\\nAn insomniac office worker and a devil-may-c...</td>\n",
              "      <td>1928126</td>\n",
              "      <td>37,030,102</td>\n",
              "      <td>[(1999)]</td>\n",
              "    </tr>\n",
              "    <tr>\n",
              "      <th>4</th>\n",
              "      <td>Catch Me If You Can</td>\n",
              "      <td>tt0264464</td>\n",
              "      <td>141 min</td>\n",
              "      <td>\\nBiography, Crime, Drama</td>\n",
              "      <td>8.1</td>\n",
              "      <td>75</td>\n",
              "      <td>\\nBarely 21 yet, Frank is a skilled forger who...</td>\n",
              "      <td>877182</td>\n",
              "      <td>164,615,351</td>\n",
              "      <td>[(2002)]</td>\n",
              "    </tr>\n",
              "  </tbody>\n",
              "</table>\n",
              "</div>"
            ],
            "text/plain": [
              "                                               title  ...      year\n",
              "0              Harry Potter and the Sorcerer's Stone  ...  [(2001)]\n",
              "1  The Lord of the Rings: The Fellowship of the Ring  ...  [(2001)]\n",
              "2                                         The Matrix  ...  [(1999)]\n",
              "3                                         Fight Club  ...  [(1999)]\n",
              "4                                Catch Me If You Can  ...  [(2002)]\n",
              "\n",
              "[5 rows x 10 columns]"
            ]
          },
          "execution_count": 9,
          "metadata": {
            "tags": []
          },
          "output_type": "execute_result"
        }
      ]
    },
    {
      "cell_type": "code",
      "metadata": {
        "colab": {
          "base_uri": "https://localhost:8080/"
        },
        "id": "DcXn0DIvESQp",
        "outputId": "3a3ebacb-bca8-412c-8b98-7a863f8a1725"
      },
      "source": [
        "len(y_99_03_df)"
      ],
      "execution_count": null,
      "outputs": [
        {
          "data": {
            "text/plain": [
              "8172"
            ]
          },
          "execution_count": 10,
          "metadata": {
            "tags": []
          },
          "output_type": "execute_result"
        }
      ]
    },
    {
      "cell_type": "code",
      "metadata": {
        "id": "hO9KAk9iFMtS"
      },
      "source": [
        "y_99_03_df.to_csv('y_99_03_df.csv') #save the subset\n",
        "\n",
        "!cp y_99_03_df.csv \"/content/drive/MyDrive/movies_scraped\""
      ],
      "execution_count": null,
      "outputs": []
    },
    {
      "cell_type": "markdown",
      "metadata": {
        "id": "OViiX88Dzz1r"
      },
      "source": [
        "**Second Batch: 2004-2007**"
      ]
    },
    {
      "cell_type": "code",
      "metadata": {
        "colab": {
          "base_uri": "https://localhost:8080/"
        },
        "id": "HqiUXjY8z5XZ",
        "outputId": "5218ef9a-121f-493a-c36a-074b2049876d"
      },
      "source": [
        "y_04_07_df = scrape_250_pages(year_start = start_year[1], year_end = finish_year[1], link1 = link1, link2 = link2, link3 = link3)"
      ],
      "execution_count": null,
      "outputs": [
        {
          "name": "stdout",
          "output_type": "stream",
          "text": [
            "Number of movies retrieved: 9210\n"
          ]
        }
      ]
    },
    {
      "cell_type": "code",
      "metadata": {
        "colab": {
          "base_uri": "https://localhost:8080/"
        },
        "id": "8G3JCecIj2-I",
        "outputId": "8b6aabcd-bbcc-40de-809d-fdda26856435"
      },
      "source": [
        "len(y_04_07_df)"
      ],
      "execution_count": null,
      "outputs": [
        {
          "data": {
            "text/plain": [
              "9210"
            ]
          },
          "execution_count": 13,
          "metadata": {
            "tags": []
          },
          "output_type": "execute_result"
        }
      ]
    },
    {
      "cell_type": "code",
      "metadata": {
        "colab": {
          "base_uri": "https://localhost:8080/",
          "height": 293
        },
        "id": "8_m38i-Hj4vE",
        "outputId": "a0a081db-464a-4c32-c767-a64db31686d7"
      },
      "source": [
        "y_04_07_df.head()"
      ],
      "execution_count": null,
      "outputs": [
        {
          "data": {
            "text/html": [
              "<div>\n",
              "<style scoped>\n",
              "    .dataframe tbody tr th:only-of-type {\n",
              "        vertical-align: middle;\n",
              "    }\n",
              "\n",
              "    .dataframe tbody tr th {\n",
              "        vertical-align: top;\n",
              "    }\n",
              "\n",
              "    .dataframe thead th {\n",
              "        text-align: right;\n",
              "    }\n",
              "</style>\n",
              "<table border=\"1\" class=\"dataframe\">\n",
              "  <thead>\n",
              "    <tr style=\"text-align: right;\">\n",
              "      <th></th>\n",
              "      <th>title</th>\n",
              "      <th>imdbID</th>\n",
              "      <th>duration</th>\n",
              "      <th>genre</th>\n",
              "      <th>imdb_rating</th>\n",
              "      <th>metascore</th>\n",
              "      <th>synopsys</th>\n",
              "      <th>votes</th>\n",
              "      <th>gross</th>\n",
              "      <th>year</th>\n",
              "    </tr>\n",
              "  </thead>\n",
              "  <tbody>\n",
              "    <tr>\n",
              "      <th>0</th>\n",
              "      <td>Superbad</td>\n",
              "      <td>tt0829482</td>\n",
              "      <td>113 min</td>\n",
              "      <td>\\nComedy</td>\n",
              "      <td>7.6</td>\n",
              "      <td>76</td>\n",
              "      <td>\\nTwo co-dependent high school seniors are for...</td>\n",
              "      <td>539621</td>\n",
              "      <td>121,463,226</td>\n",
              "      <td>[(2007)]</td>\n",
              "    </tr>\n",
              "    <tr>\n",
              "      <th>1</th>\n",
              "      <td>The Departed</td>\n",
              "      <td>tt0407887</td>\n",
              "      <td>151 min</td>\n",
              "      <td>\\nCrime, Drama, Thriller</td>\n",
              "      <td>8.5</td>\n",
              "      <td>85</td>\n",
              "      <td>\\nAn undercover cop and a mole in the police a...</td>\n",
              "      <td>1233359</td>\n",
              "      <td>132,384,315</td>\n",
              "      <td>[(2006)]</td>\n",
              "    </tr>\n",
              "    <tr>\n",
              "      <th>2</th>\n",
              "      <td>Munich</td>\n",
              "      <td>tt0408306</td>\n",
              "      <td>164 min</td>\n",
              "      <td>\\nAction, Drama, History</td>\n",
              "      <td>7.5</td>\n",
              "      <td>74</td>\n",
              "      <td>\\nBased on the true story of the Black Septemb...</td>\n",
              "      <td>217982</td>\n",
              "      <td>47,403,685</td>\n",
              "      <td>[(2005)]</td>\n",
              "    </tr>\n",
              "    <tr>\n",
              "      <th>3</th>\n",
              "      <td>No Country for Old Men</td>\n",
              "      <td>tt0477348</td>\n",
              "      <td>122 min</td>\n",
              "      <td>\\nCrime, Drama, Thriller</td>\n",
              "      <td>8.1</td>\n",
              "      <td>91</td>\n",
              "      <td>\\nViolence and mayhem ensue after a hunter stu...</td>\n",
              "      <td>894447</td>\n",
              "      <td>74,283,625</td>\n",
              "      <td>[(2007)]</td>\n",
              "    </tr>\n",
              "    <tr>\n",
              "      <th>4</th>\n",
              "      <td>Death Proof</td>\n",
              "      <td>tt1028528</td>\n",
              "      <td>127 min</td>\n",
              "      <td>\\nAction, Adventure, Thriller</td>\n",
              "      <td>7.0</td>\n",
              "      <td>None</td>\n",
              "      <td>\\nTwo separate sets of voluptuous women are st...</td>\n",
              "      <td>277514</td>\n",
              "      <td>None</td>\n",
              "      <td>[(2007)]</td>\n",
              "    </tr>\n",
              "  </tbody>\n",
              "</table>\n",
              "</div>"
            ],
            "text/plain": [
              "                    title     imdbID duration  ...    votes        gross      year\n",
              "0                Superbad  tt0829482  113 min  ...   539621  121,463,226  [(2007)]\n",
              "1            The Departed  tt0407887  151 min  ...  1233359  132,384,315  [(2006)]\n",
              "2                  Munich  tt0408306  164 min  ...   217982   47,403,685  [(2005)]\n",
              "3  No Country for Old Men  tt0477348  122 min  ...   894447   74,283,625  [(2007)]\n",
              "4             Death Proof  tt1028528  127 min  ...   277514         None  [(2007)]\n",
              "\n",
              "[5 rows x 10 columns]"
            ]
          },
          "execution_count": 14,
          "metadata": {
            "tags": []
          },
          "output_type": "execute_result"
        }
      ]
    },
    {
      "cell_type": "code",
      "metadata": {
        "id": "_wn6e7xF0BVC"
      },
      "source": [
        "y_04_07_df.to_csv('y_04_07_df.csv') #save the subset\n",
        "\n",
        "!cp y_04_07_df.csv \"/content/drive/MyDrive/movies_scraped\""
      ],
      "execution_count": null,
      "outputs": []
    },
    {
      "cell_type": "markdown",
      "metadata": {
        "id": "umibHThfHOYF"
      },
      "source": [
        "**Third Batch: 2008-2009**"
      ]
    },
    {
      "cell_type": "code",
      "metadata": {
        "colab": {
          "base_uri": "https://localhost:8080/"
        },
        "id": "QyFEZ0d6HUPK",
        "outputId": "39c13620-d973-4463-daae-896c1a6f274f"
      },
      "source": [
        "start_year[2]"
      ],
      "execution_count": null,
      "outputs": [
        {
          "data": {
            "text/plain": [
              "2008"
            ]
          },
          "execution_count": 10,
          "metadata": {},
          "output_type": "execute_result"
        }
      ]
    },
    {
      "cell_type": "code",
      "metadata": {
        "colab": {
          "base_uri": "https://localhost:8080/"
        },
        "id": "tLzgaQawHWlu",
        "outputId": "bfc7c0d6-5025-4582-ac32-7b647d7be5ce"
      },
      "source": [
        "finish_year[2]"
      ],
      "execution_count": null,
      "outputs": [
        {
          "data": {
            "text/plain": [
              "2009"
            ]
          },
          "execution_count": 11,
          "metadata": {},
          "output_type": "execute_result"
        }
      ]
    },
    {
      "cell_type": "code",
      "metadata": {
        "colab": {
          "base_uri": "https://localhost:8080/"
        },
        "id": "5fE0wz83HYiN",
        "outputId": "bfd24940-bffe-4feb-fa8b-d5c05d63724e"
      },
      "source": [
        "y_08_09_df = scrape_250_pages(year_start = start_year[2], year_end = finish_year[2], link1 = link1, link2 = link2, link3 = link3)"
      ],
      "execution_count": null,
      "outputs": [
        {
          "name": "stdout",
          "output_type": "stream",
          "text": [
            "Number of movies retrieved: 6939\n"
          ]
        }
      ]
    },
    {
      "cell_type": "code",
      "metadata": {
        "colab": {
          "base_uri": "https://localhost:8080/"
        },
        "id": "jHJfST8SHfLY",
        "outputId": "080b39cd-7520-40ef-cef0-d1bcdd4726fe"
      },
      "source": [
        "len(y_08_09_df)"
      ],
      "execution_count": null,
      "outputs": [
        {
          "data": {
            "text/plain": [
              "6939"
            ]
          },
          "execution_count": 13,
          "metadata": {},
          "output_type": "execute_result"
        }
      ]
    },
    {
      "cell_type": "code",
      "metadata": {
        "colab": {
          "base_uri": "https://localhost:8080/",
          "height": 206
        },
        "id": "-VU6Ebw6Hft3",
        "outputId": "9af489c4-4427-4423-ef05-849a437ad59c"
      },
      "source": [
        "y_08_09_df.head()"
      ],
      "execution_count": null,
      "outputs": [
        {
          "data": {
            "text/html": [
              "<div>\n",
              "<style scoped>\n",
              "    .dataframe tbody tr th:only-of-type {\n",
              "        vertical-align: middle;\n",
              "    }\n",
              "\n",
              "    .dataframe tbody tr th {\n",
              "        vertical-align: top;\n",
              "    }\n",
              "\n",
              "    .dataframe thead th {\n",
              "        text-align: right;\n",
              "    }\n",
              "</style>\n",
              "<table border=\"1\" class=\"dataframe\">\n",
              "  <thead>\n",
              "    <tr style=\"text-align: right;\">\n",
              "      <th></th>\n",
              "      <th>title</th>\n",
              "      <th>imdbID</th>\n",
              "      <th>duration</th>\n",
              "      <th>genre</th>\n",
              "      <th>imdb_rating</th>\n",
              "      <th>metascore</th>\n",
              "      <th>synopsys</th>\n",
              "      <th>votes</th>\n",
              "      <th>gross</th>\n",
              "      <th>year</th>\n",
              "    </tr>\n",
              "  </thead>\n",
              "  <tbody>\n",
              "    <tr>\n",
              "      <th>0</th>\n",
              "      <td>The Dark Knight</td>\n",
              "      <td>tt0468569</td>\n",
              "      <td>152 min</td>\n",
              "      <td>\\nAction, Crime, Drama</td>\n",
              "      <td>9.0</td>\n",
              "      <td>84</td>\n",
              "      <td>\\nWhen the menace known as the Joker wreaks ha...</td>\n",
              "      <td>2402742</td>\n",
              "      <td>534,858,444</td>\n",
              "      <td>[(2008)]</td>\n",
              "    </tr>\n",
              "    <tr>\n",
              "      <th>1</th>\n",
              "      <td>Twilight</td>\n",
              "      <td>tt1099212</td>\n",
              "      <td>122 min</td>\n",
              "      <td>\\nDrama, Fantasy, Romance</td>\n",
              "      <td>5.2</td>\n",
              "      <td>56</td>\n",
              "      <td>\\nWhen Bella Swan moves to a small town in the...</td>\n",
              "      <td>440871</td>\n",
              "      <td>191,465,414</td>\n",
              "      <td>[(I) (2008)]</td>\n",
              "    </tr>\n",
              "    <tr>\n",
              "      <th>2</th>\n",
              "      <td>Inglourious Basterds</td>\n",
              "      <td>tt0361748</td>\n",
              "      <td>153 min</td>\n",
              "      <td>\\nAdventure, Drama, War</td>\n",
              "      <td>8.3</td>\n",
              "      <td>69</td>\n",
              "      <td>\\nIn Nazi-occupied France during World War II,...</td>\n",
              "      <td>1323494</td>\n",
              "      <td>120,540,719</td>\n",
              "      <td>[(2009)]</td>\n",
              "    </tr>\n",
              "    <tr>\n",
              "      <th>3</th>\n",
              "      <td>Star Trek</td>\n",
              "      <td>tt0796366</td>\n",
              "      <td>127 min</td>\n",
              "      <td>\\nAction, Adventure, Sci-Fi</td>\n",
              "      <td>7.9</td>\n",
              "      <td>82</td>\n",
              "      <td>\\nThe brash James T. Kirk tries to live up to ...</td>\n",
              "      <td>588022</td>\n",
              "      <td>257,730,019</td>\n",
              "      <td>[(2009)]</td>\n",
              "    </tr>\n",
              "    <tr>\n",
              "      <th>4</th>\n",
              "      <td>Watchmen</td>\n",
              "      <td>tt0409459</td>\n",
              "      <td>162 min</td>\n",
              "      <td>\\nAction, Drama, Mystery</td>\n",
              "      <td>7.6</td>\n",
              "      <td>56</td>\n",
              "      <td>\\nIn 1985 where former superheroes exist, the ...</td>\n",
              "      <td>523804</td>\n",
              "      <td>107,509,799</td>\n",
              "      <td>[(2009)]</td>\n",
              "    </tr>\n",
              "  </tbody>\n",
              "</table>\n",
              "</div>"
            ],
            "text/plain": [
              "                  title     imdbID duration  ...    votes        gross          year\n",
              "0       The Dark Knight  tt0468569  152 min  ...  2402742  534,858,444      [(2008)]\n",
              "1              Twilight  tt1099212  122 min  ...   440871  191,465,414  [(I) (2008)]\n",
              "2  Inglourious Basterds  tt0361748  153 min  ...  1323494  120,540,719      [(2009)]\n",
              "3             Star Trek  tt0796366  127 min  ...   588022  257,730,019      [(2009)]\n",
              "4              Watchmen  tt0409459  162 min  ...   523804  107,509,799      [(2009)]\n",
              "\n",
              "[5 rows x 10 columns]"
            ]
          },
          "execution_count": 14,
          "metadata": {},
          "output_type": "execute_result"
        }
      ]
    },
    {
      "cell_type": "code",
      "metadata": {
        "id": "28bsDaG6HpiY"
      },
      "source": [
        "y_08_09_df.to_csv('y_08_09_df.csv') #save the subset\n",
        "\n",
        "!cp y_08_09_df.csv \"/content/drive/MyDrive/movies_scraped\""
      ],
      "execution_count": null,
      "outputs": []
    },
    {
      "cell_type": "markdown",
      "metadata": {
        "id": "kg68t9DDgKxl"
      },
      "source": [
        "**Fourth Batch: 2010-2011**"
      ]
    },
    {
      "cell_type": "code",
      "metadata": {
        "colab": {
          "base_uri": "https://localhost:8080/"
        },
        "id": "QRrSuveMgQR3",
        "outputId": "cc3df4ab-68f2-4be6-ee5f-d6f443e02935"
      },
      "source": [
        "start_year[3]"
      ],
      "execution_count": null,
      "outputs": [
        {
          "data": {
            "text/plain": [
              "2010"
            ]
          },
          "execution_count": 26,
          "metadata": {},
          "output_type": "execute_result"
        }
      ]
    },
    {
      "cell_type": "code",
      "metadata": {
        "colab": {
          "base_uri": "https://localhost:8080/"
        },
        "id": "gYaVxLZqgTJu",
        "outputId": "9f1ddc1c-ce61-4669-d1d1-d41cd9644ccf"
      },
      "source": [
        "finish_year[3]"
      ],
      "execution_count": null,
      "outputs": [
        {
          "data": {
            "text/plain": [
              "2011"
            ]
          },
          "execution_count": 27,
          "metadata": {},
          "output_type": "execute_result"
        }
      ]
    },
    {
      "cell_type": "code",
      "metadata": {
        "colab": {
          "base_uri": "https://localhost:8080/"
        },
        "id": "IwOXRXcZgXBE",
        "outputId": "69bd2fe9-b428-439c-e7e1-8eb83e0591f1"
      },
      "source": [
        "y_10_11_df = scrape_250_pages(year_start = start_year[3], year_end = finish_year[3], link1 = link1, link2 = link2, link3 = link3)"
      ],
      "execution_count": null,
      "outputs": [
        {
          "name": "stdout",
          "output_type": "stream",
          "text": [
            "Number of movies retrieved: 8194\n"
          ]
        }
      ]
    },
    {
      "cell_type": "code",
      "metadata": {
        "colab": {
          "base_uri": "https://localhost:8080/"
        },
        "id": "fFY9OB88gZT7",
        "outputId": "ed8bcab7-1ba3-41fc-b20d-955d04debb00"
      },
      "source": [
        "len(y_10_11_df)"
      ],
      "execution_count": null,
      "outputs": [
        {
          "data": {
            "text/plain": [
              "8194"
            ]
          },
          "execution_count": 29,
          "metadata": {},
          "output_type": "execute_result"
        }
      ]
    },
    {
      "cell_type": "code",
      "metadata": {
        "colab": {
          "base_uri": "https://localhost:8080/",
          "height": 206
        },
        "id": "0CB7Ji6YgdZQ",
        "outputId": "86fe902b-fbe2-44da-a1a0-648cf50050cc"
      },
      "source": [
        "y_10_11_df.head()"
      ],
      "execution_count": null,
      "outputs": [
        {
          "data": {
            "text/html": [
              "<div>\n",
              "<style scoped>\n",
              "    .dataframe tbody tr th:only-of-type {\n",
              "        vertical-align: middle;\n",
              "    }\n",
              "\n",
              "    .dataframe tbody tr th {\n",
              "        vertical-align: top;\n",
              "    }\n",
              "\n",
              "    .dataframe thead th {\n",
              "        text-align: right;\n",
              "    }\n",
              "</style>\n",
              "<table border=\"1\" class=\"dataframe\">\n",
              "  <thead>\n",
              "    <tr style=\"text-align: right;\">\n",
              "      <th></th>\n",
              "      <th>title</th>\n",
              "      <th>imdbID</th>\n",
              "      <th>duration</th>\n",
              "      <th>genre</th>\n",
              "      <th>imdb_rating</th>\n",
              "      <th>metascore</th>\n",
              "      <th>synopsys</th>\n",
              "      <th>votes</th>\n",
              "      <th>gross</th>\n",
              "      <th>year</th>\n",
              "    </tr>\n",
              "  </thead>\n",
              "  <tbody>\n",
              "    <tr>\n",
              "      <th>0</th>\n",
              "      <td>The Losers</td>\n",
              "      <td>tt0480255</td>\n",
              "      <td>97 min</td>\n",
              "      <td>\\nAction, Adventure, Crime</td>\n",
              "      <td>6.3</td>\n",
              "      <td>44</td>\n",
              "      <td>\\nA CIA special forces team is betrayed and le...</td>\n",
              "      <td>96095</td>\n",
              "      <td>23,580,735</td>\n",
              "      <td>[(I) (2010)]</td>\n",
              "    </tr>\n",
              "    <tr>\n",
              "      <th>1</th>\n",
              "      <td>Inception</td>\n",
              "      <td>tt1375666</td>\n",
              "      <td>148 min</td>\n",
              "      <td>\\nAction, Adventure, Sci-Fi</td>\n",
              "      <td>8.8</td>\n",
              "      <td>74</td>\n",
              "      <td>\\nA thief who steals corporate secrets through...</td>\n",
              "      <td>2155408</td>\n",
              "      <td>292,576,195</td>\n",
              "      <td>[(2010)]</td>\n",
              "    </tr>\n",
              "    <tr>\n",
              "      <th>2</th>\n",
              "      <td>Captain America: The First Avenger</td>\n",
              "      <td>tt0458339</td>\n",
              "      <td>124 min</td>\n",
              "      <td>\\nAction, Adventure, Sci-Fi</td>\n",
              "      <td>6.9</td>\n",
              "      <td>66</td>\n",
              "      <td>\\nSteve Rogers, a rejected military soldier, t...</td>\n",
              "      <td>777067</td>\n",
              "      <td>176,654,505</td>\n",
              "      <td>[(2011)]</td>\n",
              "    </tr>\n",
              "    <tr>\n",
              "      <th>3</th>\n",
              "      <td>Shutter Island</td>\n",
              "      <td>tt1130884</td>\n",
              "      <td>138 min</td>\n",
              "      <td>\\nMystery, Thriller</td>\n",
              "      <td>8.2</td>\n",
              "      <td>63</td>\n",
              "      <td>\\nIn 1954, a U.S. Marshal investigates the dis...</td>\n",
              "      <td>1186486</td>\n",
              "      <td>128,012,934</td>\n",
              "      <td>[(2010)]</td>\n",
              "    </tr>\n",
              "    <tr>\n",
              "      <th>4</th>\n",
              "      <td>Harry Potter and the Deathly Hallows: Part 2</td>\n",
              "      <td>tt1201607</td>\n",
              "      <td>130 min</td>\n",
              "      <td>\\nAdventure, Drama, Fantasy</td>\n",
              "      <td>8.1</td>\n",
              "      <td>85</td>\n",
              "      <td>\\nHarry, Ron, and Hermione search for Voldemor...</td>\n",
              "      <td>797408</td>\n",
              "      <td>381,011,219</td>\n",
              "      <td>[(2011)]</td>\n",
              "    </tr>\n",
              "  </tbody>\n",
              "</table>\n",
              "</div>"
            ],
            "text/plain": [
              "                                          title  ...          year\n",
              "0                                    The Losers  ...  [(I) (2010)]\n",
              "1                                     Inception  ...      [(2010)]\n",
              "2            Captain America: The First Avenger  ...      [(2011)]\n",
              "3                                Shutter Island  ...      [(2010)]\n",
              "4  Harry Potter and the Deathly Hallows: Part 2  ...      [(2011)]\n",
              "\n",
              "[5 rows x 10 columns]"
            ]
          },
          "execution_count": 30,
          "metadata": {},
          "output_type": "execute_result"
        }
      ]
    },
    {
      "cell_type": "code",
      "metadata": {
        "id": "F7Dv0PYrggxn"
      },
      "source": [
        "y_10_11_df.to_csv('y_10_11_df.csv') #save the subset\n",
        "\n",
        "!cp y_10_11_df.csv \"/content/drive/MyDrive/movies_scraped\""
      ],
      "execution_count": null,
      "outputs": []
    },
    {
      "cell_type": "markdown",
      "metadata": {
        "id": "0j5oXr79DHlO"
      },
      "source": [
        "**Fifth Batch:2012-2013**"
      ]
    },
    {
      "cell_type": "code",
      "metadata": {
        "colab": {
          "base_uri": "https://localhost:8080/"
        },
        "id": "t0RtV6kyDMiO",
        "outputId": "27482b80-7818-46c1-ee47-2bbb9f25baf0"
      },
      "source": [
        "start_year[4]"
      ],
      "execution_count": null,
      "outputs": [
        {
          "data": {
            "text/plain": [
              "2012"
            ]
          },
          "execution_count": 32,
          "metadata": {},
          "output_type": "execute_result"
        }
      ]
    },
    {
      "cell_type": "code",
      "metadata": {
        "colab": {
          "base_uri": "https://localhost:8080/"
        },
        "id": "jPmGoaZlDQA5",
        "outputId": "32fff958-2993-471a-f9d8-50d26dca2c74"
      },
      "source": [
        "finish_year[4]"
      ],
      "execution_count": null,
      "outputs": [
        {
          "data": {
            "text/plain": [
              "2013"
            ]
          },
          "execution_count": 34,
          "metadata": {},
          "output_type": "execute_result"
        }
      ]
    },
    {
      "cell_type": "code",
      "metadata": {
        "colab": {
          "base_uri": "https://localhost:8080/"
        },
        "id": "QPtKW4V8DUus",
        "outputId": "144c407a-bf92-4a0a-ee77-54411854178a"
      },
      "source": [
        "y_12_13_df = scrape_250_pages(year_start = start_year[4], year_end = finish_year[4], link1 = link1, link2 = link2, link3 = link3)"
      ],
      "execution_count": null,
      "outputs": [
        {
          "name": "stdout",
          "output_type": "stream",
          "text": [
            "Number of movies retrieved: 9500\n"
          ]
        }
      ]
    },
    {
      "cell_type": "code",
      "metadata": {
        "colab": {
          "base_uri": "https://localhost:8080/"
        },
        "id": "B7WPyFXCDZZL",
        "outputId": "0706e3b0-8434-42a7-eaa2-ea48d38bb27f"
      },
      "source": [
        "len(y_12_13_df)"
      ],
      "execution_count": null,
      "outputs": [
        {
          "data": {
            "text/plain": [
              "9500"
            ]
          },
          "execution_count": 36,
          "metadata": {},
          "output_type": "execute_result"
        }
      ]
    },
    {
      "cell_type": "code",
      "metadata": {
        "colab": {
          "base_uri": "https://localhost:8080/",
          "height": 206
        },
        "id": "zFbSkRV6DanP",
        "outputId": "f4881459-de38-422c-b7c5-4db2ed428728"
      },
      "source": [
        "y_12_13_df.head()"
      ],
      "execution_count": null,
      "outputs": [
        {
          "data": {
            "text/html": [
              "<div>\n",
              "<style scoped>\n",
              "    .dataframe tbody tr th:only-of-type {\n",
              "        vertical-align: middle;\n",
              "    }\n",
              "\n",
              "    .dataframe tbody tr th {\n",
              "        vertical-align: top;\n",
              "    }\n",
              "\n",
              "    .dataframe thead th {\n",
              "        text-align: right;\n",
              "    }\n",
              "</style>\n",
              "<table border=\"1\" class=\"dataframe\">\n",
              "  <thead>\n",
              "    <tr style=\"text-align: right;\">\n",
              "      <th></th>\n",
              "      <th>title</th>\n",
              "      <th>imdbID</th>\n",
              "      <th>duration</th>\n",
              "      <th>genre</th>\n",
              "      <th>imdb_rating</th>\n",
              "      <th>metascore</th>\n",
              "      <th>synopsys</th>\n",
              "      <th>votes</th>\n",
              "      <th>gross</th>\n",
              "      <th>year</th>\n",
              "    </tr>\n",
              "  </thead>\n",
              "  <tbody>\n",
              "    <tr>\n",
              "      <th>0</th>\n",
              "      <td>The Wolf of Wall Street</td>\n",
              "      <td>tt0993846</td>\n",
              "      <td>180 min</td>\n",
              "      <td>\\nBiography, Crime, Drama</td>\n",
              "      <td>8.2</td>\n",
              "      <td>75</td>\n",
              "      <td>\\nBased on the true story of Jordan Belfort, f...</td>\n",
              "      <td>1253070</td>\n",
              "      <td>116,900,694</td>\n",
              "      <td>[(2013)]</td>\n",
              "    </tr>\n",
              "    <tr>\n",
              "      <th>1</th>\n",
              "      <td>Django Unchained</td>\n",
              "      <td>tt1853728</td>\n",
              "      <td>165 min</td>\n",
              "      <td>\\nDrama, Western</td>\n",
              "      <td>8.4</td>\n",
              "      <td>81</td>\n",
              "      <td>\\nWith the help of a German bounty-hunter, a f...</td>\n",
              "      <td>1416504</td>\n",
              "      <td>162,805,434</td>\n",
              "      <td>[(2012)]</td>\n",
              "    </tr>\n",
              "    <tr>\n",
              "      <th>2</th>\n",
              "      <td>The Great Gatsby</td>\n",
              "      <td>tt1343092</td>\n",
              "      <td>143 min</td>\n",
              "      <td>\\nDrama, Romance</td>\n",
              "      <td>7.2</td>\n",
              "      <td>55</td>\n",
              "      <td>\\nA writer and wall street trader, Nick, finds...</td>\n",
              "      <td>499179</td>\n",
              "      <td>144,840,419</td>\n",
              "      <td>[(2013)]</td>\n",
              "    </tr>\n",
              "    <tr>\n",
              "      <th>3</th>\n",
              "      <td>Prisoners</td>\n",
              "      <td>tt1392214</td>\n",
              "      <td>153 min</td>\n",
              "      <td>\\nCrime, Drama, Mystery</td>\n",
              "      <td>8.1</td>\n",
              "      <td>70</td>\n",
              "      <td>\\nWhen Keller Dover's daughter and her friend ...</td>\n",
              "      <td>631577</td>\n",
              "      <td>61,002,302</td>\n",
              "      <td>[(2013)]</td>\n",
              "    </tr>\n",
              "    <tr>\n",
              "      <th>4</th>\n",
              "      <td>The Dark Knight Rises</td>\n",
              "      <td>tt1345836</td>\n",
              "      <td>164 min</td>\n",
              "      <td>\\nAction, Adventure</td>\n",
              "      <td>8.4</td>\n",
              "      <td>78</td>\n",
              "      <td>\\nEight years after the Joker's reign of anarc...</td>\n",
              "      <td>1569233</td>\n",
              "      <td>448,139,099</td>\n",
              "      <td>[(2012)]</td>\n",
              "    </tr>\n",
              "  </tbody>\n",
              "</table>\n",
              "</div>"
            ],
            "text/plain": [
              "                     title     imdbID duration  ...    votes        gross      year\n",
              "0  The Wolf of Wall Street  tt0993846  180 min  ...  1253070  116,900,694  [(2013)]\n",
              "1         Django Unchained  tt1853728  165 min  ...  1416504  162,805,434  [(2012)]\n",
              "2         The Great Gatsby  tt1343092  143 min  ...   499179  144,840,419  [(2013)]\n",
              "3                Prisoners  tt1392214  153 min  ...   631577   61,002,302  [(2013)]\n",
              "4    The Dark Knight Rises  tt1345836  164 min  ...  1569233  448,139,099  [(2012)]\n",
              "\n",
              "[5 rows x 10 columns]"
            ]
          },
          "execution_count": 37,
          "metadata": {},
          "output_type": "execute_result"
        }
      ]
    },
    {
      "cell_type": "code",
      "metadata": {
        "id": "hMIbL4htDcOZ"
      },
      "source": [
        "y_12_13_df.to_csv('y_12_13_df.csv') #save the subset\n",
        "\n",
        "!cp y_12_13_df.csv \"/content/drive/MyDrive/movies_scraped\""
      ],
      "execution_count": null,
      "outputs": []
    },
    {
      "cell_type": "markdown",
      "metadata": {
        "id": "OpQZd-BSkoBa"
      },
      "source": [
        "**Sixth Batch: 2014-2014**"
      ]
    },
    {
      "cell_type": "code",
      "metadata": {
        "colab": {
          "base_uri": "https://localhost:8080/"
        },
        "id": "aOBQosO2kwA_",
        "outputId": "e680489a-f954-45dd-e40c-2227140b856e"
      },
      "source": [
        "start_year[5]"
      ],
      "execution_count": null,
      "outputs": [
        {
          "data": {
            "text/plain": [
              "2014"
            ]
          },
          "execution_count": 16,
          "metadata": {
            "tags": []
          },
          "output_type": "execute_result"
        }
      ]
    },
    {
      "cell_type": "code",
      "metadata": {
        "colab": {
          "base_uri": "https://localhost:8080/"
        },
        "id": "Shz4spZDky7t",
        "outputId": "cce41204-2eb4-4774-807d-6d4ff9b96bf9"
      },
      "source": [
        "finish_year[5]"
      ],
      "execution_count": null,
      "outputs": [
        {
          "data": {
            "text/plain": [
              "2014"
            ]
          },
          "execution_count": 17,
          "metadata": {
            "tags": []
          },
          "output_type": "execute_result"
        }
      ]
    },
    {
      "cell_type": "code",
      "metadata": {
        "colab": {
          "base_uri": "https://localhost:8080/"
        },
        "id": "A-fFfUR6kt0i",
        "outputId": "479ecea8-1c1a-4a44-b560-7721f552c2aa"
      },
      "source": [
        "y_14_14_df = scrape_250_pages(year_start = start_year[5], year_end = finish_year[5], link1 = link1, link2 = link2, link3 = link3)"
      ],
      "execution_count": null,
      "outputs": [
        {
          "name": "stdout",
          "output_type": "stream",
          "text": [
            "Number of movies retrieved: 5063\n"
          ]
        }
      ]
    },
    {
      "cell_type": "code",
      "metadata": {
        "colab": {
          "base_uri": "https://localhost:8080/"
        },
        "id": "FiQjfLvxk8A_",
        "outputId": "73447f36-d54c-4bc7-bd2b-7c72d67254fe"
      },
      "source": [
        "len(y_14_14_df)"
      ],
      "execution_count": null,
      "outputs": [
        {
          "data": {
            "text/plain": [
              "5063"
            ]
          },
          "execution_count": 7,
          "metadata": {},
          "output_type": "execute_result"
        }
      ]
    },
    {
      "cell_type": "code",
      "metadata": {
        "colab": {
          "base_uri": "https://localhost:8080/",
          "height": 206
        },
        "id": "K0VChOG7k93_",
        "outputId": "26b915d1-bd87-4ea0-d613-9e1530f61511"
      },
      "source": [
        "y_14_14_df.head()"
      ],
      "execution_count": null,
      "outputs": [
        {
          "data": {
            "text/html": [
              "<div>\n",
              "<style scoped>\n",
              "    .dataframe tbody tr th:only-of-type {\n",
              "        vertical-align: middle;\n",
              "    }\n",
              "\n",
              "    .dataframe tbody tr th {\n",
              "        vertical-align: top;\n",
              "    }\n",
              "\n",
              "    .dataframe thead th {\n",
              "        text-align: right;\n",
              "    }\n",
              "</style>\n",
              "<table border=\"1\" class=\"dataframe\">\n",
              "  <thead>\n",
              "    <tr style=\"text-align: right;\">\n",
              "      <th></th>\n",
              "      <th>title</th>\n",
              "      <th>imdbID</th>\n",
              "      <th>duration</th>\n",
              "      <th>genre</th>\n",
              "      <th>imdb_rating</th>\n",
              "      <th>metascore</th>\n",
              "      <th>synopsys</th>\n",
              "      <th>votes</th>\n",
              "      <th>gross</th>\n",
              "      <th>year</th>\n",
              "    </tr>\n",
              "  </thead>\n",
              "  <tbody>\n",
              "    <tr>\n",
              "      <th>0</th>\n",
              "      <td>Guardians of the Galaxy</td>\n",
              "      <td>tt2015381</td>\n",
              "      <td>121 min</td>\n",
              "      <td>\\nAction, Adventure, Comedy</td>\n",
              "      <td>8.0</td>\n",
              "      <td>76</td>\n",
              "      <td>\\nA group of intergalactic criminals must pull...</td>\n",
              "      <td>1085795</td>\n",
              "      <td>333,176,600</td>\n",
              "      <td>[(2014)]</td>\n",
              "    </tr>\n",
              "    <tr>\n",
              "      <th>1</th>\n",
              "      <td>Interstellar</td>\n",
              "      <td>tt0816692</td>\n",
              "      <td>169 min</td>\n",
              "      <td>\\nAdventure, Drama, Sci-Fi</td>\n",
              "      <td>8.6</td>\n",
              "      <td>74</td>\n",
              "      <td>\\nA team of explorers travel through a wormhol...</td>\n",
              "      <td>1599799</td>\n",
              "      <td>188,020,017</td>\n",
              "      <td>[(2014)]</td>\n",
              "    </tr>\n",
              "    <tr>\n",
              "      <th>2</th>\n",
              "      <td>John Wick</td>\n",
              "      <td>tt2911666</td>\n",
              "      <td>101 min</td>\n",
              "      <td>\\nAction, Crime, Thriller</td>\n",
              "      <td>7.4</td>\n",
              "      <td>68</td>\n",
              "      <td>\\nAn ex-hit-man comes out of retirement to tra...</td>\n",
              "      <td>571253</td>\n",
              "      <td>43,037,835</td>\n",
              "      <td>[(2014)]</td>\n",
              "    </tr>\n",
              "    <tr>\n",
              "      <th>3</th>\n",
              "      <td>Gone Girl</td>\n",
              "      <td>tt2267998</td>\n",
              "      <td>149 min</td>\n",
              "      <td>\\nDrama, Mystery, Thriller</td>\n",
              "      <td>8.1</td>\n",
              "      <td>79</td>\n",
              "      <td>\\nWith his wife's disappearance having become ...</td>\n",
              "      <td>900711</td>\n",
              "      <td>167,767,189</td>\n",
              "      <td>[(2014)]</td>\n",
              "    </tr>\n",
              "    <tr>\n",
              "      <th>4</th>\n",
              "      <td>Kingsman: The Secret Service</td>\n",
              "      <td>tt2802144</td>\n",
              "      <td>129 min</td>\n",
              "      <td>\\nAction, Adventure, Comedy</td>\n",
              "      <td>7.7</td>\n",
              "      <td>60</td>\n",
              "      <td>\\nA spy organisation recruits a promising stre...</td>\n",
              "      <td>612521</td>\n",
              "      <td>128,261,724</td>\n",
              "      <td>[(2014)]</td>\n",
              "    </tr>\n",
              "  </tbody>\n",
              "</table>\n",
              "</div>"
            ],
            "text/plain": [
              "                          title     imdbID  ...        gross      year\n",
              "0       Guardians of the Galaxy  tt2015381  ...  333,176,600  [(2014)]\n",
              "1                  Interstellar  tt0816692  ...  188,020,017  [(2014)]\n",
              "2                     John Wick  tt2911666  ...   43,037,835  [(2014)]\n",
              "3                     Gone Girl  tt2267998  ...  167,767,189  [(2014)]\n",
              "4  Kingsman: The Secret Service  tt2802144  ...  128,261,724  [(2014)]\n",
              "\n",
              "[5 rows x 10 columns]"
            ]
          },
          "execution_count": 8,
          "metadata": {},
          "output_type": "execute_result"
        }
      ]
    },
    {
      "cell_type": "code",
      "metadata": {
        "id": "8yr6ox-ilB2C"
      },
      "source": [
        "y_14_14_df.to_csv('y_14_14_df.csv') #save the subset\n",
        "\n",
        "!cp y_14_14_df.csv \"/content/drive/MyDrive/movies_scraped\""
      ],
      "execution_count": null,
      "outputs": []
    },
    {
      "cell_type": "markdown",
      "metadata": {
        "id": "GEAc5GDEleMq"
      },
      "source": [
        "**Seventh Batch: 2015**"
      ]
    },
    {
      "cell_type": "code",
      "metadata": {
        "colab": {
          "base_uri": "https://localhost:8080/"
        },
        "id": "BMOZpDt1lh4j",
        "outputId": "5b1ee2cf-12b9-459a-8eab-e1ce46b4ad67"
      },
      "source": [
        "start_year[6]"
      ],
      "execution_count": null,
      "outputs": [
        {
          "data": {
            "text/plain": [
              "2015"
            ]
          },
          "execution_count": 39,
          "metadata": {},
          "output_type": "execute_result"
        }
      ]
    },
    {
      "cell_type": "code",
      "metadata": {
        "colab": {
          "base_uri": "https://localhost:8080/"
        },
        "id": "FGezG95ylkaK",
        "outputId": "c3f2c828-6bef-4886-f75b-7b6210abaff4"
      },
      "source": [
        "finish_year[6]"
      ],
      "execution_count": null,
      "outputs": [
        {
          "data": {
            "text/plain": [
              "2015"
            ]
          },
          "execution_count": 40,
          "metadata": {},
          "output_type": "execute_result"
        }
      ]
    },
    {
      "cell_type": "code",
      "metadata": {
        "colab": {
          "base_uri": "https://localhost:8080/"
        },
        "id": "XsDZCZgmlo32",
        "outputId": "6128a137-88eb-4265-a127-28b0a2fe3d11"
      },
      "source": [
        "y_15_15_df = scrape_250_pages(year_start = start_year[6], year_end = finish_year[6], link1 = link1, link2 = link2, link3 = link3)"
      ],
      "execution_count": null,
      "outputs": [
        {
          "name": "stdout",
          "output_type": "stream",
          "text": [
            "Number of movies retrieved: 5258\n"
          ]
        }
      ]
    },
    {
      "cell_type": "code",
      "metadata": {
        "colab": {
          "base_uri": "https://localhost:8080/"
        },
        "id": "f9r2sa6Wlv4w",
        "outputId": "337382ee-dbc9-4e88-cd7b-17441f1a668d"
      },
      "source": [
        "len(y_15_15_df)"
      ],
      "execution_count": null,
      "outputs": [
        {
          "data": {
            "text/plain": [
              "5258"
            ]
          },
          "execution_count": 42,
          "metadata": {},
          "output_type": "execute_result"
        }
      ]
    },
    {
      "cell_type": "code",
      "metadata": {
        "colab": {
          "base_uri": "https://localhost:8080/",
          "height": 206
        },
        "id": "Y86vNSI2l2aB",
        "outputId": "ae2a63af-2bae-43f9-fe6a-13773cd8da5d"
      },
      "source": [
        "y_15_15_df.head()"
      ],
      "execution_count": null,
      "outputs": [
        {
          "data": {
            "text/html": [
              "<div>\n",
              "<style scoped>\n",
              "    .dataframe tbody tr th:only-of-type {\n",
              "        vertical-align: middle;\n",
              "    }\n",
              "\n",
              "    .dataframe tbody tr th {\n",
              "        vertical-align: top;\n",
              "    }\n",
              "\n",
              "    .dataframe thead th {\n",
              "        text-align: right;\n",
              "    }\n",
              "</style>\n",
              "<table border=\"1\" class=\"dataframe\">\n",
              "  <thead>\n",
              "    <tr style=\"text-align: right;\">\n",
              "      <th></th>\n",
              "      <th>title</th>\n",
              "      <th>imdbID</th>\n",
              "      <th>duration</th>\n",
              "      <th>genre</th>\n",
              "      <th>imdb_rating</th>\n",
              "      <th>metascore</th>\n",
              "      <th>synopsys</th>\n",
              "      <th>votes</th>\n",
              "      <th>gross</th>\n",
              "      <th>year</th>\n",
              "    </tr>\n",
              "  </thead>\n",
              "  <tbody>\n",
              "    <tr>\n",
              "      <th>0</th>\n",
              "      <td>Love</td>\n",
              "      <td>tt3774694</td>\n",
              "      <td>135 min</td>\n",
              "      <td>\\nDrama, Romance</td>\n",
              "      <td>6.1</td>\n",
              "      <td>51</td>\n",
              "      <td>\\nMurphy is an American living in Paris who en...</td>\n",
              "      <td>52566</td>\n",
              "      <td>None</td>\n",
              "      <td>[(II) (2015)]</td>\n",
              "    </tr>\n",
              "    <tr>\n",
              "      <th>1</th>\n",
              "      <td>Mad Max: Fury Road</td>\n",
              "      <td>tt1392190</td>\n",
              "      <td>120 min</td>\n",
              "      <td>\\nAction, Adventure, Sci-Fi</td>\n",
              "      <td>8.1</td>\n",
              "      <td>90</td>\n",
              "      <td>\\nIn a post-apocalyptic wasteland, a woman reb...</td>\n",
              "      <td>920886</td>\n",
              "      <td>154,058,340</td>\n",
              "      <td>[(2015)]</td>\n",
              "    </tr>\n",
              "    <tr>\n",
              "      <th>2</th>\n",
              "      <td>Fifty Shades of Grey</td>\n",
              "      <td>tt2322441</td>\n",
              "      <td>125 min</td>\n",
              "      <td>\\nDrama, Romance, Thriller</td>\n",
              "      <td>4.1</td>\n",
              "      <td>46</td>\n",
              "      <td>\\nLiterature student Anastasia Steele's life c...</td>\n",
              "      <td>305526</td>\n",
              "      <td>166,167,230</td>\n",
              "      <td>[(2015)]</td>\n",
              "    </tr>\n",
              "    <tr>\n",
              "      <th>3</th>\n",
              "      <td>Sicario</td>\n",
              "      <td>tt3397884</td>\n",
              "      <td>121 min</td>\n",
              "      <td>\\nAction, Crime, Drama</td>\n",
              "      <td>7.6</td>\n",
              "      <td>82</td>\n",
              "      <td>\\nAn idealistic FBI agent is enlisted by a gov...</td>\n",
              "      <td>390263</td>\n",
              "      <td>46,889,293</td>\n",
              "      <td>[(2015)]</td>\n",
              "    </tr>\n",
              "    <tr>\n",
              "      <th>4</th>\n",
              "      <td>The Hateful Eight</td>\n",
              "      <td>tt3460252</td>\n",
              "      <td>168 min</td>\n",
              "      <td>\\nCrime, Drama, Mystery</td>\n",
              "      <td>7.8</td>\n",
              "      <td>68</td>\n",
              "      <td>\\nIn the dead of a Wyoming winter, a bounty hu...</td>\n",
              "      <td>546010</td>\n",
              "      <td>54,117,416</td>\n",
              "      <td>[(2015)]</td>\n",
              "    </tr>\n",
              "  </tbody>\n",
              "</table>\n",
              "</div>"
            ],
            "text/plain": [
              "                  title     imdbID duration  ...   votes        gross           year\n",
              "0                  Love  tt3774694  135 min  ...   52566         None  [(II) (2015)]\n",
              "1    Mad Max: Fury Road  tt1392190  120 min  ...  920886  154,058,340       [(2015)]\n",
              "2  Fifty Shades of Grey  tt2322441  125 min  ...  305526  166,167,230       [(2015)]\n",
              "3               Sicario  tt3397884  121 min  ...  390263   46,889,293       [(2015)]\n",
              "4     The Hateful Eight  tt3460252  168 min  ...  546010   54,117,416       [(2015)]\n",
              "\n",
              "[5 rows x 10 columns]"
            ]
          },
          "execution_count": 43,
          "metadata": {},
          "output_type": "execute_result"
        }
      ]
    },
    {
      "cell_type": "code",
      "metadata": {
        "id": "m3Oy0TS2l4kg"
      },
      "source": [
        "y_15_15_df.to_csv('y_15_15_df.csv') #save the subset\n",
        "\n",
        "!cp y_15_15_df.csv \"/content/drive/MyDrive/movies_scraped\""
      ],
      "execution_count": null,
      "outputs": []
    },
    {
      "cell_type": "markdown",
      "metadata": {
        "id": "QSpgGSQY6EMS"
      },
      "source": [
        "**Eighth Batch: 2016**"
      ]
    },
    {
      "cell_type": "code",
      "metadata": {
        "colab": {
          "base_uri": "https://localhost:8080/"
        },
        "id": "pnvJ0NCE6G3N",
        "outputId": "cc505bf9-45ca-41b1-d0a7-a5afc65017e9"
      },
      "source": [
        "start_year[7]"
      ],
      "execution_count": null,
      "outputs": [
        {
          "data": {
            "text/plain": [
              "2016"
            ]
          },
          "execution_count": 45,
          "metadata": {},
          "output_type": "execute_result"
        }
      ]
    },
    {
      "cell_type": "code",
      "metadata": {
        "colab": {
          "base_uri": "https://localhost:8080/"
        },
        "id": "6UFpC_Sf6JJh",
        "outputId": "b808be8a-c971-469c-8fac-d6df0a2b59d4"
      },
      "source": [
        "finish_year[7]"
      ],
      "execution_count": null,
      "outputs": [
        {
          "data": {
            "text/plain": [
              "2016"
            ]
          },
          "execution_count": 46,
          "metadata": {},
          "output_type": "execute_result"
        }
      ]
    },
    {
      "cell_type": "code",
      "metadata": {
        "colab": {
          "base_uri": "https://localhost:8080/"
        },
        "id": "4UOW5OOt6NEz",
        "outputId": "31af8186-678d-4bc8-e259-648a4028ca53"
      },
      "source": [
        "y_16_16_df = scrape_250_pages(year_start = start_year[7], year_end = finish_year[7], link1 = link1, link2 = link2, link3 = link3)"
      ],
      "execution_count": null,
      "outputs": [
        {
          "name": "stdout",
          "output_type": "stream",
          "text": [
            "Number of movies retrieved: 5638\n"
          ]
        }
      ]
    },
    {
      "cell_type": "code",
      "metadata": {
        "colab": {
          "base_uri": "https://localhost:8080/"
        },
        "id": "bpRGzLf56QrE",
        "outputId": "b6bfe2fd-d41e-41e7-f1f1-0a8c83714e94"
      },
      "source": [
        "len(y_16_16_df)"
      ],
      "execution_count": null,
      "outputs": [
        {
          "data": {
            "text/plain": [
              "5637"
            ]
          },
          "execution_count": 48,
          "metadata": {},
          "output_type": "execute_result"
        }
      ]
    },
    {
      "cell_type": "code",
      "metadata": {
        "colab": {
          "base_uri": "https://localhost:8080/",
          "height": 206
        },
        "id": "6C2GvOtL6TEt",
        "outputId": "df1f555d-f317-4eb2-b22b-ff3f39ca557f"
      },
      "source": [
        "y_16_16_df.head()"
      ],
      "execution_count": null,
      "outputs": [
        {
          "data": {
            "text/html": [
              "<div>\n",
              "<style scoped>\n",
              "    .dataframe tbody tr th:only-of-type {\n",
              "        vertical-align: middle;\n",
              "    }\n",
              "\n",
              "    .dataframe tbody tr th {\n",
              "        vertical-align: top;\n",
              "    }\n",
              "\n",
              "    .dataframe thead th {\n",
              "        text-align: right;\n",
              "    }\n",
              "</style>\n",
              "<table border=\"1\" class=\"dataframe\">\n",
              "  <thead>\n",
              "    <tr style=\"text-align: right;\">\n",
              "      <th></th>\n",
              "      <th>title</th>\n",
              "      <th>imdbID</th>\n",
              "      <th>duration</th>\n",
              "      <th>genre</th>\n",
              "      <th>imdb_rating</th>\n",
              "      <th>metascore</th>\n",
              "      <th>synopsys</th>\n",
              "      <th>votes</th>\n",
              "      <th>gross</th>\n",
              "      <th>year</th>\n",
              "    </tr>\n",
              "  </thead>\n",
              "  <tbody>\n",
              "    <tr>\n",
              "      <th>0</th>\n",
              "      <td>Suicide Squad</td>\n",
              "      <td>tt1386697</td>\n",
              "      <td>123 min</td>\n",
              "      <td>\\nAction, Adventure, Fantasy</td>\n",
              "      <td>5.9</td>\n",
              "      <td>40</td>\n",
              "      <td>\\nA secret government agency recruits some of ...</td>\n",
              "      <td>641029</td>\n",
              "      <td>325,100,054</td>\n",
              "      <td>[(2016)]</td>\n",
              "    </tr>\n",
              "    <tr>\n",
              "      <th>1</th>\n",
              "      <td>Don't Breathe</td>\n",
              "      <td>tt4160708</td>\n",
              "      <td>88 min</td>\n",
              "      <td>\\nCrime, Horror, Thriller</td>\n",
              "      <td>7.1</td>\n",
              "      <td>71</td>\n",
              "      <td>\\nHoping to walk away with a massive fortune, ...</td>\n",
              "      <td>241398</td>\n",
              "      <td>89,217,875</td>\n",
              "      <td>[(2016)]</td>\n",
              "    </tr>\n",
              "    <tr>\n",
              "      <th>2</th>\n",
              "      <td>Deadpool</td>\n",
              "      <td>tt1431045</td>\n",
              "      <td>108 min</td>\n",
              "      <td>\\nAction, Adventure, Comedy</td>\n",
              "      <td>8.0</td>\n",
              "      <td>65</td>\n",
              "      <td>\\nA wisecracking mercenary gets experimented o...</td>\n",
              "      <td>941597</td>\n",
              "      <td>363,070,709</td>\n",
              "      <td>[(2016)]</td>\n",
              "    </tr>\n",
              "    <tr>\n",
              "      <th>3</th>\n",
              "      <td>The Magnificent Seven</td>\n",
              "      <td>tt2404435</td>\n",
              "      <td>132 min</td>\n",
              "      <td>\\nAction, Adventure, Western</td>\n",
              "      <td>6.9</td>\n",
              "      <td>54</td>\n",
              "      <td>\\nSeven gunmen from a variety of backgrounds a...</td>\n",
              "      <td>197190</td>\n",
              "      <td>93,432,655</td>\n",
              "      <td>[(2016)]</td>\n",
              "    </tr>\n",
              "    <tr>\n",
              "      <th>4</th>\n",
              "      <td>Moana</td>\n",
              "      <td>tt3521164</td>\n",
              "      <td>107 min</td>\n",
              "      <td>\\nAnimation, Adventure, Comedy</td>\n",
              "      <td>7.6</td>\n",
              "      <td>81</td>\n",
              "      <td>\\nIn Ancient Polynesia, when a terrible curse ...</td>\n",
              "      <td>293666</td>\n",
              "      <td>248,757,044</td>\n",
              "      <td>[(I) (2016)]</td>\n",
              "    </tr>\n",
              "  </tbody>\n",
              "</table>\n",
              "</div>"
            ],
            "text/plain": [
              "                   title     imdbID duration  ...   votes        gross          year\n",
              "0          Suicide Squad  tt1386697  123 min  ...  641029  325,100,054      [(2016)]\n",
              "1          Don't Breathe  tt4160708   88 min  ...  241398   89,217,875      [(2016)]\n",
              "2               Deadpool  tt1431045  108 min  ...  941597  363,070,709      [(2016)]\n",
              "3  The Magnificent Seven  tt2404435  132 min  ...  197190   93,432,655      [(2016)]\n",
              "4                  Moana  tt3521164  107 min  ...  293666  248,757,044  [(I) (2016)]\n",
              "\n",
              "[5 rows x 10 columns]"
            ]
          },
          "execution_count": 49,
          "metadata": {},
          "output_type": "execute_result"
        }
      ]
    },
    {
      "cell_type": "code",
      "metadata": {
        "id": "4uLOFE7M6VnT"
      },
      "source": [
        "y_16_16_df.to_csv('y_16_16_df.csv') #save the subset\n",
        "\n",
        "!cp y_16_16_df.csv \"/content/drive/MyDrive/movies_scraped\""
      ],
      "execution_count": null,
      "outputs": []
    },
    {
      "cell_type": "markdown",
      "metadata": {
        "id": "MiY2dng5RQRE"
      },
      "source": [
        "**Nineth Batch: 2017**"
      ]
    },
    {
      "cell_type": "code",
      "metadata": {
        "colab": {
          "base_uri": "https://localhost:8080/"
        },
        "id": "ljXVoTNHRPYv",
        "outputId": "bedc45f8-9908-4129-9860-28707ffca303"
      },
      "source": [
        "start_year[8]"
      ],
      "execution_count": null,
      "outputs": [
        {
          "data": {
            "text/plain": [
              "2017"
            ]
          },
          "execution_count": 9,
          "metadata": {},
          "output_type": "execute_result"
        }
      ]
    },
    {
      "cell_type": "code",
      "metadata": {
        "colab": {
          "base_uri": "https://localhost:8080/"
        },
        "id": "QgHFyFb2RUnN",
        "outputId": "f734909c-1ac8-486d-ae3c-19ddece5e78f"
      },
      "source": [
        "finish_year[8]"
      ],
      "execution_count": null,
      "outputs": [
        {
          "data": {
            "text/plain": [
              "2017"
            ]
          },
          "execution_count": 10,
          "metadata": {},
          "output_type": "execute_result"
        }
      ]
    },
    {
      "cell_type": "code",
      "metadata": {
        "colab": {
          "background_save": true,
          "base_uri": "https://localhost:8080/"
        },
        "id": "O7ltJYGzRWoM",
        "outputId": "7b959243-8785-482c-908c-a07c2eefeac5"
      },
      "source": [
        "y_17_17_df = scrape_250_pages(year_start = start_year[8], year_end = finish_year[8], link1 = link1, link2 = link2, link3 = link3)"
      ],
      "execution_count": null,
      "outputs": [
        {
          "name": "stdout",
          "output_type": "stream",
          "text": [
            "Will make 25 requests\n",
            "Estimated time for completion is 92 minutes\n",
            "Lets Roll!\n",
            "Request: 1; Sleep time: 139 second(s)\n",
            "Request: 2; Sleep time: 150 second(s)\n",
            "Request: 3; Sleep time: 194 second(s)\n",
            "Request: 4; Sleep time: 205 second(s)\n",
            "Request: 5; Sleep time: 273 second(s)\n",
            "Request: 6; Sleep time: 382 second(s)\n",
            "Request: 7; Sleep time: 393 second(s)\n",
            "Request: 8; Sleep time: 334 second(s)\n",
            "Request: 9; Sleep time: 425 second(s)\n",
            "Request: 10; Sleep time: 146 second(s)\n",
            "Request: 11; Sleep time: 202 second(s)\n",
            "Request: 12; Sleep time: 194 second(s)\n",
            "Request: 13; Sleep time: 209 second(s)\n",
            "Request: 14; Sleep time: 249 second(s)\n",
            "Request: 15; Sleep time: 208 second(s)\n",
            "Request: 16; Sleep time: 223 second(s)\n",
            "Request: 17; Sleep time: 307 second(s)\n",
            "Request: 18; Sleep time: 101 second(s)\n",
            "Request: 19; Sleep time: 50 second(s)\n",
            "Request: 20; Sleep time: 252 second(s)\n",
            "Request: 21; Sleep time: 384 second(s)\n",
            "Request: 22; Sleep time: 65 second(s)\n",
            "Request: 23; Sleep time: 286 second(s)\n",
            "Request: 24; Sleep time: 396 second(s)\n",
            "Request: 25; Sleep time: 104 second(s)\n",
            "Number of movies retrieved: 6152\n"
          ]
        }
      ]
    },
    {
      "cell_type": "code",
      "metadata": {
        "colab": {
          "background_save": true
        },
        "id": "7dG3WlYeRbrq",
        "outputId": "03b7ecf0-ffc1-4b2d-b740-ce54fd816d50"
      },
      "source": [
        "len(y_17_17_df)"
      ],
      "execution_count": null,
      "outputs": [
        {
          "data": {
            "text/plain": [
              "6152"
            ]
          },
          "execution_count": null,
          "metadata": {},
          "output_type": "execute_result"
        }
      ]
    },
    {
      "cell_type": "code",
      "metadata": {
        "colab": {
          "background_save": true
        },
        "id": "5iHBYcHkRed_",
        "outputId": "34b6975e-3e49-4df8-94a1-581f97e990a0"
      },
      "source": [
        "y_17_17_df.head()"
      ],
      "execution_count": null,
      "outputs": [
        {
          "data": {
            "text/html": [
              "<div>\n",
              "<style scoped>\n",
              "    .dataframe tbody tr th:only-of-type {\n",
              "        vertical-align: middle;\n",
              "    }\n",
              "\n",
              "    .dataframe tbody tr th {\n",
              "        vertical-align: top;\n",
              "    }\n",
              "\n",
              "    .dataframe thead th {\n",
              "        text-align: right;\n",
              "    }\n",
              "</style>\n",
              "<table border=\"1\" class=\"dataframe\">\n",
              "  <thead>\n",
              "    <tr style=\"text-align: right;\">\n",
              "      <th></th>\n",
              "      <th>title</th>\n",
              "      <th>imdbID</th>\n",
              "      <th>duration</th>\n",
              "      <th>genre</th>\n",
              "      <th>imdb_rating</th>\n",
              "      <th>metascore</th>\n",
              "      <th>synopsys</th>\n",
              "      <th>votes</th>\n",
              "      <th>gross</th>\n",
              "      <th>year</th>\n",
              "    </tr>\n",
              "  </thead>\n",
              "  <tbody>\n",
              "    <tr>\n",
              "      <th>0</th>\n",
              "      <td>Guardians of the Galaxy Vol. 2</td>\n",
              "      <td>tt3896198</td>\n",
              "      <td>136 min</td>\n",
              "      <td>\\nAction, Adventure, Comedy</td>\n",
              "      <td>7.6</td>\n",
              "      <td>67</td>\n",
              "      <td>\\nThe Guardians struggle to keep together as a...</td>\n",
              "      <td>604920</td>\n",
              "      <td>389,813,101</td>\n",
              "      <td>[(2017)]</td>\n",
              "    </tr>\n",
              "    <tr>\n",
              "      <th>1</th>\n",
              "      <td>Thor: Ragnarok</td>\n",
              "      <td>tt3501632</td>\n",
              "      <td>130 min</td>\n",
              "      <td>\\nAction, Adventure, Comedy</td>\n",
              "      <td>7.9</td>\n",
              "      <td>74</td>\n",
              "      <td>\\nImprisoned on the planet Sakaar, Thor must r...</td>\n",
              "      <td>639493</td>\n",
              "      <td>315,058,289</td>\n",
              "      <td>[(2017)]</td>\n",
              "    </tr>\n",
              "    <tr>\n",
              "      <th>2</th>\n",
              "      <td>Blade Runner 2049</td>\n",
              "      <td>tt1856101</td>\n",
              "      <td>164 min</td>\n",
              "      <td>\\nAction, Drama, Mystery</td>\n",
              "      <td>8.0</td>\n",
              "      <td>81</td>\n",
              "      <td>\\nYoung Blade Runner K's discovery of a long-b...</td>\n",
              "      <td>493033</td>\n",
              "      <td>92,054,159</td>\n",
              "      <td>[(2017)]</td>\n",
              "    </tr>\n",
              "    <tr>\n",
              "      <th>3</th>\n",
              "      <td>The Greatest Showman</td>\n",
              "      <td>tt1485796</td>\n",
              "      <td>105 min</td>\n",
              "      <td>\\nBiography, Drama, Musical</td>\n",
              "      <td>7.6</td>\n",
              "      <td>48</td>\n",
              "      <td>\\nCelebrates the birth of show business and te...</td>\n",
              "      <td>253549</td>\n",
              "      <td>174,340,174</td>\n",
              "      <td>[(2017)]</td>\n",
              "    </tr>\n",
              "    <tr>\n",
              "      <th>4</th>\n",
              "      <td>The Hitman's Bodyguard</td>\n",
              "      <td>tt1959563</td>\n",
              "      <td>118 min</td>\n",
              "      <td>\\nAction, Comedy, Crime</td>\n",
              "      <td>6.9</td>\n",
              "      <td>47</td>\n",
              "      <td>\\nThe world's top bodyguard gets a new client,...</td>\n",
              "      <td>208930</td>\n",
              "      <td>75,468,583</td>\n",
              "      <td>[(2017)]</td>\n",
              "    </tr>\n",
              "  </tbody>\n",
              "</table>\n",
              "</div>"
            ],
            "text/plain": [
              "                            title     imdbID  ...        gross      year\n",
              "0  Guardians of the Galaxy Vol. 2  tt3896198  ...  389,813,101  [(2017)]\n",
              "1                  Thor: Ragnarok  tt3501632  ...  315,058,289  [(2017)]\n",
              "2               Blade Runner 2049  tt1856101  ...   92,054,159  [(2017)]\n",
              "3            The Greatest Showman  tt1485796  ...  174,340,174  [(2017)]\n",
              "4          The Hitman's Bodyguard  tt1959563  ...   75,468,583  [(2017)]\n",
              "\n",
              "[5 rows x 10 columns]"
            ]
          },
          "execution_count": null,
          "metadata": {},
          "output_type": "execute_result"
        }
      ]
    },
    {
      "cell_type": "code",
      "metadata": {
        "colab": {
          "background_save": true
        },
        "id": "8wB7epVXRgkF"
      },
      "source": [
        "y_17_17_df.to_csv('y_17_17_df.csv') #save the subset\n",
        "\n",
        "!cp y_17_17_df.csv \"/content/drive/MyDrive/movies_scraped\""
      ],
      "execution_count": null,
      "outputs": []
    },
    {
      "cell_type": "markdown",
      "metadata": {
        "id": "pfL3ZuLKxEl8"
      },
      "source": [
        "**Tenth Batch: 2018**"
      ]
    },
    {
      "cell_type": "code",
      "metadata": {
        "colab": {
          "base_uri": "https://localhost:8080/"
        },
        "id": "ao2GjE8SEZdB",
        "outputId": "1ccf3e2e-d1da-459c-d0f7-221cdfde5630"
      },
      "source": [
        "start_year[9]"
      ],
      "execution_count": null,
      "outputs": [
        {
          "output_type": "execute_result",
          "data": {
            "text/plain": [
              "2018"
            ]
          },
          "metadata": {},
          "execution_count": 12
        }
      ]
    },
    {
      "cell_type": "code",
      "metadata": {
        "colab": {
          "base_uri": "https://localhost:8080/"
        },
        "id": "jXxpS1WTEbHl",
        "outputId": "4c91c899-74aa-481b-f44e-21bfa998e781"
      },
      "source": [
        "finish_year[9]"
      ],
      "execution_count": null,
      "outputs": [
        {
          "output_type": "execute_result",
          "data": {
            "text/plain": [
              "2018"
            ]
          },
          "metadata": {},
          "execution_count": 13
        }
      ]
    },
    {
      "cell_type": "code",
      "metadata": {
        "colab": {
          "base_uri": "https://localhost:8080/"
        },
        "id": "VSqYCly8EdHb",
        "outputId": "56ca5509-6322-4e8c-9671-41136d9226dc"
      },
      "source": [
        "y_18_18_df = scrape_250_pages(year_start = start_year[9], year_end = finish_year[9], link1 = link1, link2 = link2, link3 = link3)"
      ],
      "execution_count": null,
      "outputs": [
        {
          "output_type": "stream",
          "text": [
            "Number of movies retrieved: 6166\n"
          ],
          "name": "stdout"
        }
      ]
    },
    {
      "cell_type": "code",
      "metadata": {
        "colab": {
          "base_uri": "https://localhost:8080/"
        },
        "id": "l5fXIOFMEhWb",
        "outputId": "345b1c03-a56f-42a6-8d47-f8ae1fe03ddc"
      },
      "source": [
        "len(y_18_18_df)"
      ],
      "execution_count": null,
      "outputs": [
        {
          "output_type": "execute_result",
          "data": {
            "text/plain": [
              "6166"
            ]
          },
          "metadata": {},
          "execution_count": 15
        }
      ]
    },
    {
      "cell_type": "code",
      "metadata": {
        "colab": {
          "base_uri": "https://localhost:8080/",
          "height": 206
        },
        "id": "lMABrPILEkIG",
        "outputId": "e2c3d964-8d9e-4c0d-cff0-1370b5f08ecf"
      },
      "source": [
        "y_18_18_df.head()"
      ],
      "execution_count": null,
      "outputs": [
        {
          "output_type": "execute_result",
          "data": {
            "text/html": [
              "<div>\n",
              "<style scoped>\n",
              "    .dataframe tbody tr th:only-of-type {\n",
              "        vertical-align: middle;\n",
              "    }\n",
              "\n",
              "    .dataframe tbody tr th {\n",
              "        vertical-align: top;\n",
              "    }\n",
              "\n",
              "    .dataframe thead th {\n",
              "        text-align: right;\n",
              "    }\n",
              "</style>\n",
              "<table border=\"1\" class=\"dataframe\">\n",
              "  <thead>\n",
              "    <tr style=\"text-align: right;\">\n",
              "      <th></th>\n",
              "      <th>title</th>\n",
              "      <th>imdbID</th>\n",
              "      <th>duration</th>\n",
              "      <th>genre</th>\n",
              "      <th>imdb_rating</th>\n",
              "      <th>metascore</th>\n",
              "      <th>synopsys</th>\n",
              "      <th>votes</th>\n",
              "      <th>gross</th>\n",
              "      <th>year</th>\n",
              "    </tr>\n",
              "  </thead>\n",
              "  <tbody>\n",
              "    <tr>\n",
              "      <th>0</th>\n",
              "      <td>The Kissing Booth</td>\n",
              "      <td>tt3799232</td>\n",
              "      <td>105 min</td>\n",
              "      <td>\\nComedy, Romance</td>\n",
              "      <td>6.0</td>\n",
              "      <td>None</td>\n",
              "      <td>\\nA high school student is forced to confront ...</td>\n",
              "      <td>74627</td>\n",
              "      <td>None</td>\n",
              "      <td>[(2018)]</td>\n",
              "    </tr>\n",
              "    <tr>\n",
              "      <th>1</th>\n",
              "      <td>A Quiet Place</td>\n",
              "      <td>tt6644200</td>\n",
              "      <td>90 min</td>\n",
              "      <td>\\nDrama, Horror, Sci-Fi</td>\n",
              "      <td>7.5</td>\n",
              "      <td>82</td>\n",
              "      <td>\\nIn a post-apocalyptic world, a family is for...</td>\n",
              "      <td>474381</td>\n",
              "      <td>188,024,361</td>\n",
              "      <td>[(2018)]</td>\n",
              "    </tr>\n",
              "    <tr>\n",
              "      <th>2</th>\n",
              "      <td>Venom</td>\n",
              "      <td>tt1270797</td>\n",
              "      <td>112 min</td>\n",
              "      <td>\\nAction, Adventure, Sci-Fi</td>\n",
              "      <td>6.7</td>\n",
              "      <td>35</td>\n",
              "      <td>\\nA failed reporter is bonded to an alien enti...</td>\n",
              "      <td>396537</td>\n",
              "      <td>213,515,506</td>\n",
              "      <td>[(2018)]</td>\n",
              "    </tr>\n",
              "    <tr>\n",
              "      <th>3</th>\n",
              "      <td>Hereditary</td>\n",
              "      <td>tt7784604</td>\n",
              "      <td>127 min</td>\n",
              "      <td>\\nDrama, Horror, Mystery</td>\n",
              "      <td>7.3</td>\n",
              "      <td>87</td>\n",
              "      <td>\\nA grieving family is haunted by tragic and d...</td>\n",
              "      <td>264612</td>\n",
              "      <td>44,069,456</td>\n",
              "      <td>[(2018)]</td>\n",
              "    </tr>\n",
              "    <tr>\n",
              "      <th>4</th>\n",
              "      <td>Avengers: Infinity War</td>\n",
              "      <td>tt4154756</td>\n",
              "      <td>149 min</td>\n",
              "      <td>\\nAction, Adventure, Sci-Fi</td>\n",
              "      <td>8.4</td>\n",
              "      <td>68</td>\n",
              "      <td>\\nThe Avengers and their allies must be willin...</td>\n",
              "      <td>913921</td>\n",
              "      <td>678,815,482</td>\n",
              "      <td>[(2018)]</td>\n",
              "    </tr>\n",
              "  </tbody>\n",
              "</table>\n",
              "</div>"
            ],
            "text/plain": [
              "                    title     imdbID duration  ...   votes        gross      year\n",
              "0       The Kissing Booth  tt3799232  105 min  ...   74627         None  [(2018)]\n",
              "1           A Quiet Place  tt6644200   90 min  ...  474381  188,024,361  [(2018)]\n",
              "2                   Venom  tt1270797  112 min  ...  396537  213,515,506  [(2018)]\n",
              "3              Hereditary  tt7784604  127 min  ...  264612   44,069,456  [(2018)]\n",
              "4  Avengers: Infinity War  tt4154756  149 min  ...  913921  678,815,482  [(2018)]\n",
              "\n",
              "[5 rows x 10 columns]"
            ]
          },
          "metadata": {},
          "execution_count": 16
        }
      ]
    },
    {
      "cell_type": "code",
      "metadata": {
        "id": "l1ImxA6HEmzb"
      },
      "source": [
        "y_18_18_df.to_csv('y_18_18_df.csv') #save the subset\n",
        "\n",
        "!cp y_18_18_df.csv \"/content/drive/MyDrive/movies_scraped\""
      ],
      "execution_count": null,
      "outputs": []
    },
    {
      "cell_type": "markdown",
      "metadata": {
        "id": "o7QsKV-jxQ0X"
      },
      "source": [
        "**Eleventh Batch: 2019**"
      ]
    },
    {
      "cell_type": "code",
      "metadata": {
        "colab": {
          "base_uri": "https://localhost:8080/"
        },
        "id": "54RoA40axKiV",
        "outputId": "6b74c219-b57a-41a3-e44a-1702b573fdf1"
      },
      "source": [
        "start_year[10]"
      ],
      "execution_count": null,
      "outputs": [
        {
          "output_type": "execute_result",
          "data": {
            "text/plain": [
              "2019"
            ]
          },
          "metadata": {},
          "execution_count": 6
        }
      ]
    },
    {
      "cell_type": "code",
      "metadata": {
        "colab": {
          "base_uri": "https://localhost:8080/"
        },
        "id": "sDCqVoLLxDnh",
        "outputId": "c49d2629-ed7a-4ac4-a256-af822b93c765"
      },
      "source": [
        "finish_year[10]"
      ],
      "execution_count": null,
      "outputs": [
        {
          "output_type": "execute_result",
          "data": {
            "text/plain": [
              "2019"
            ]
          },
          "metadata": {},
          "execution_count": 7
        }
      ]
    },
    {
      "cell_type": "code",
      "metadata": {
        "colab": {
          "base_uri": "https://localhost:8080/"
        },
        "id": "hG_pSbzwxbHX",
        "outputId": "4d5121e0-1185-4b35-be63-9db4f6e9b569"
      },
      "source": [
        "y_19_19_df = scrape_250_pages(year_start = start_year[10], year_end = finish_year[10], link1 = link1, link2 = link2, link3 = link3)"
      ],
      "execution_count": null,
      "outputs": [
        {
          "output_type": "stream",
          "text": [
            "Number of movies retrieved: 5356\n"
          ],
          "name": "stdout"
        }
      ]
    },
    {
      "cell_type": "code",
      "metadata": {
        "colab": {
          "base_uri": "https://localhost:8080/"
        },
        "id": "0y2kz7d0xbAr",
        "outputId": "15892fac-4c27-453a-cd62-5ec1180a5f8f"
      },
      "source": [
        "len(y_19_19_df)"
      ],
      "execution_count": null,
      "outputs": [
        {
          "output_type": "execute_result",
          "data": {
            "text/plain": [
              "5356"
            ]
          },
          "metadata": {},
          "execution_count": 9
        }
      ]
    },
    {
      "cell_type": "code",
      "metadata": {
        "colab": {
          "base_uri": "https://localhost:8080/",
          "height": 206
        },
        "id": "YUc0N8yNxkxY",
        "outputId": "79cb07c1-d7a4-4a0d-9c44-1cf837a2d99a"
      },
      "source": [
        "y_19_19_df.head()"
      ],
      "execution_count": null,
      "outputs": [
        {
          "output_type": "execute_result",
          "data": {
            "text/html": [
              "<div>\n",
              "<style scoped>\n",
              "    .dataframe tbody tr th:only-of-type {\n",
              "        vertical-align: middle;\n",
              "    }\n",
              "\n",
              "    .dataframe tbody tr th {\n",
              "        vertical-align: top;\n",
              "    }\n",
              "\n",
              "    .dataframe thead th {\n",
              "        text-align: right;\n",
              "    }\n",
              "</style>\n",
              "<table border=\"1\" class=\"dataframe\">\n",
              "  <thead>\n",
              "    <tr style=\"text-align: right;\">\n",
              "      <th></th>\n",
              "      <th>title</th>\n",
              "      <th>imdbID</th>\n",
              "      <th>duration</th>\n",
              "      <th>genre</th>\n",
              "      <th>imdb_rating</th>\n",
              "      <th>metascore</th>\n",
              "      <th>synopsys</th>\n",
              "      <th>votes</th>\n",
              "      <th>gross</th>\n",
              "      <th>year</th>\n",
              "    </tr>\n",
              "  </thead>\n",
              "  <tbody>\n",
              "    <tr>\n",
              "      <th>0</th>\n",
              "      <td>Midsommar</td>\n",
              "      <td>tt8772262</td>\n",
              "      <td>148 min</td>\n",
              "      <td>\\nDrama, Horror, Mystery</td>\n",
              "      <td>7.1</td>\n",
              "      <td>72</td>\n",
              "      <td>\\nA couple travels to Scandinavia to visit a r...</td>\n",
              "      <td>246130</td>\n",
              "      <td>27,331,977</td>\n",
              "      <td>[(2019)]</td>\n",
              "    </tr>\n",
              "    <tr>\n",
              "      <th>1</th>\n",
              "      <td>Once Upon a Time... In Hollywood</td>\n",
              "      <td>tt7131622</td>\n",
              "      <td>161 min</td>\n",
              "      <td>\\nComedy, Drama</td>\n",
              "      <td>7.6</td>\n",
              "      <td>83</td>\n",
              "      <td>\\nA faded television actor and his stunt doubl...</td>\n",
              "      <td>624991</td>\n",
              "      <td>142,502,728</td>\n",
              "      <td>[(2019)]</td>\n",
              "    </tr>\n",
              "    <tr>\n",
              "      <th>2</th>\n",
              "      <td>Avengers: Endgame</td>\n",
              "      <td>tt4154796</td>\n",
              "      <td>181 min</td>\n",
              "      <td>\\nAction, Adventure, Drama</td>\n",
              "      <td>8.4</td>\n",
              "      <td>78</td>\n",
              "      <td>\\nAfter the devastating events of Avengers: In...</td>\n",
              "      <td>925917</td>\n",
              "      <td>858,373,000</td>\n",
              "      <td>[(2019)]</td>\n",
              "    </tr>\n",
              "    <tr>\n",
              "      <th>3</th>\n",
              "      <td>Joker</td>\n",
              "      <td>tt7286456</td>\n",
              "      <td>122 min</td>\n",
              "      <td>\\nCrime, Drama, Thriller</td>\n",
              "      <td>8.4</td>\n",
              "      <td>59</td>\n",
              "      <td>\\nIn Gotham City, mentally troubled comedian A...</td>\n",
              "      <td>1052123</td>\n",
              "      <td>335,451,311</td>\n",
              "      <td>[(2019)]</td>\n",
              "    </tr>\n",
              "    <tr>\n",
              "      <th>4</th>\n",
              "      <td>Knives Out</td>\n",
              "      <td>tt8946378</td>\n",
              "      <td>130 min</td>\n",
              "      <td>\\nComedy, Crime, Drama</td>\n",
              "      <td>7.9</td>\n",
              "      <td>82</td>\n",
              "      <td>\\nA detective investigates the death of a patr...</td>\n",
              "      <td>516601</td>\n",
              "      <td>165,359,751</td>\n",
              "      <td>[(2019)]</td>\n",
              "    </tr>\n",
              "  </tbody>\n",
              "</table>\n",
              "</div>"
            ],
            "text/plain": [
              "                              title     imdbID  ...        gross      year\n",
              "0                         Midsommar  tt8772262  ...   27,331,977  [(2019)]\n",
              "1  Once Upon a Time... In Hollywood  tt7131622  ...  142,502,728  [(2019)]\n",
              "2                 Avengers: Endgame  tt4154796  ...  858,373,000  [(2019)]\n",
              "3                             Joker  tt7286456  ...  335,451,311  [(2019)]\n",
              "4                        Knives Out  tt8946378  ...  165,359,751  [(2019)]\n",
              "\n",
              "[5 rows x 10 columns]"
            ]
          },
          "metadata": {},
          "execution_count": 10
        }
      ]
    },
    {
      "cell_type": "code",
      "metadata": {
        "id": "GEqupTaxxnIB"
      },
      "source": [
        "y_19_19_df.to_csv('y_19_19_df.csv') #save the subset\n",
        "\n",
        "!cp y_19_19_df.csv \"/content/drive/MyDrive/movies_scraped\""
      ],
      "execution_count": null,
      "outputs": []
    },
    {
      "cell_type": "markdown",
      "source": [
        "Uhy! Now I have collected information for movies over 20-year period!"
      ],
      "metadata": {
        "id": "pt_Sxth1_sm4"
      }
    },
    {
      "cell_type": "markdown",
      "metadata": {
        "id": "aJebLKSOYfpf"
      },
      "source": [
        "### **Merging the chuncks together**"
      ]
    },
    {
      "cell_type": "markdown",
      "source": [
        "Now that I have all the 20 years of the movie data, I need to put them in one dataframe. \n",
        "Another point for code optimization would have been to concatenate the newly-scraped data and the excisting (already scraped) one before saving every time I ran the scraping function. \n",
        "Since I did not think about this in advance, now I ended up with 11 dataframes that I need to put into one. "
      ],
      "metadata": {
        "id": "POJ46WLvtyIZ"
      }
    },
    {
      "cell_type": "code",
      "source": [
        "file_names = ['y_99_03_df', 'y_04_07_df', 'y_08_09_df', 'y_10_11_df', 'y_12_13_df', 'y_14_14_df', 'y_15_15_df', 'y_16_16_df', 'y_17_17_df', 'y_18_18_df', 'y_19_19_df']\n",
        "\n",
        "imdb_scraped = pd.DataFrame()\n",
        "for name in file_names:\n",
        "  full_name = '/content/drive/MyDrive/movies_scraped/' + name + '.csv'\n",
        "  loaded_df = pd.read_csv(full_name)\n",
        "  imdb_scraped = pd.concat([imdb_scraped, loaded_df]).reset_index(drop = True)\n"
      ],
      "metadata": {
        "id": "4KFGXAVUgOj8"
      },
      "execution_count": null,
      "outputs": []
    },
    {
      "cell_type": "code",
      "metadata": {
        "colab": {
          "base_uri": "https://localhost:8080/"
        },
        "id": "u1e-MKFCdAAz",
        "outputId": "0a46d5d3-acf7-4d27-c7b9-f94b6161c4f0"
      },
      "source": [
        "len(imdb_scraped )"
      ],
      "execution_count": null,
      "outputs": [
        {
          "output_type": "execute_result",
          "data": {
            "text/plain": [
              "75647"
            ]
          },
          "metadata": {},
          "execution_count": 4
        }
      ]
    },
    {
      "cell_type": "markdown",
      "source": [
        "Just a quick check to see if my barched approach did not result in some duplicates. It seems all is well and all the movie IDs are unique. "
      ],
      "metadata": {
        "id": "Fb8KF3qwuj1e"
      }
    },
    {
      "cell_type": "code",
      "metadata": {
        "colab": {
          "base_uri": "https://localhost:8080/"
        },
        "id": "WLmU7CykdSRR",
        "outputId": "205b6b05-677a-446d-b9c9-5ececb0fbd86"
      },
      "source": [
        "imdb_scraped.imdbID.is_unique"
      ],
      "execution_count": null,
      "outputs": [
        {
          "output_type": "execute_result",
          "data": {
            "text/plain": [
              "True"
            ]
          },
          "metadata": {},
          "execution_count": 5
        }
      ]
    },
    {
      "cell_type": "code",
      "metadata": {
        "colab": {
          "base_uri": "https://localhost:8080/",
          "height": 355
        },
        "id": "qoSR_5Ahhr6X",
        "outputId": "ae05adb9-a34b-455c-deea-82b493ec5c09"
      },
      "source": [
        "imdb_scraped.head()"
      ],
      "execution_count": null,
      "outputs": [
        {
          "output_type": "execute_result",
          "data": {
            "text/plain": [
              "   Unnamed: 0                                              title     imdbID  \\\n",
              "0           0              Harry Potter and the Sorcerer's Stone  tt0241527   \n",
              "1           1  The Lord of the Rings: The Fellowship of the Ring  tt0120737   \n",
              "2           2                                         The Matrix  tt0133093   \n",
              "3           3                                         Fight Club  tt0137523   \n",
              "4           4                                Catch Me If You Can  tt0264464   \n",
              "\n",
              "  duration                                     genre  imdb_rating  metascore  \\\n",
              "0  152 min  \\nAdventure, Family, Fantasy                      7.6       64.0   \n",
              "1  178 min    \\nAction, Adventure, Drama                      8.8       92.0   \n",
              "2  136 min              \\nAction, Sci-Fi                      8.7       73.0   \n",
              "3  139 min                       \\nDrama                      8.8       66.0   \n",
              "4  141 min     \\nBiography, Crime, Drama                      8.1       75.0   \n",
              "\n",
              "                                            synopsys    votes        gross  \\\n",
              "0  \\nAn orphaned boy enrolls in a school of wizar...   693017  317,575,550   \n",
              "1  \\nA meek Hobbit from the Shire and eight compa...  1721432  315,544,750   \n",
              "2  \\nWhen a beautiful stranger leads computer hac...  1741678  171,479,930   \n",
              "3  \\nAn insomniac office worker and a devil-may-c...  1928126   37,030,102   \n",
              "4  \\nBarely 21 yet, Frank is a skilled forger who...   877182  164,615,351   \n",
              "\n",
              "                                                year  \n",
              "0  <span class=\"lister-item-year text-muted unbol...  \n",
              "1  <span class=\"lister-item-year text-muted unbol...  \n",
              "2  <span class=\"lister-item-year text-muted unbol...  \n",
              "3  <span class=\"lister-item-year text-muted unbol...  \n",
              "4  <span class=\"lister-item-year text-muted unbol...  "
            ],
            "text/html": [
              "\n",
              "  <div id=\"df-8bc3cc1d-11d7-4b8b-b1d2-e0beaef696de\">\n",
              "    <div class=\"colab-df-container\">\n",
              "      <div>\n",
              "<style scoped>\n",
              "    .dataframe tbody tr th:only-of-type {\n",
              "        vertical-align: middle;\n",
              "    }\n",
              "\n",
              "    .dataframe tbody tr th {\n",
              "        vertical-align: top;\n",
              "    }\n",
              "\n",
              "    .dataframe thead th {\n",
              "        text-align: right;\n",
              "    }\n",
              "</style>\n",
              "<table border=\"1\" class=\"dataframe\">\n",
              "  <thead>\n",
              "    <tr style=\"text-align: right;\">\n",
              "      <th></th>\n",
              "      <th>Unnamed: 0</th>\n",
              "      <th>title</th>\n",
              "      <th>imdbID</th>\n",
              "      <th>duration</th>\n",
              "      <th>genre</th>\n",
              "      <th>imdb_rating</th>\n",
              "      <th>metascore</th>\n",
              "      <th>synopsys</th>\n",
              "      <th>votes</th>\n",
              "      <th>gross</th>\n",
              "      <th>year</th>\n",
              "    </tr>\n",
              "  </thead>\n",
              "  <tbody>\n",
              "    <tr>\n",
              "      <th>0</th>\n",
              "      <td>0</td>\n",
              "      <td>Harry Potter and the Sorcerer's Stone</td>\n",
              "      <td>tt0241527</td>\n",
              "      <td>152 min</td>\n",
              "      <td>\\nAdventure, Family, Fantasy</td>\n",
              "      <td>7.6</td>\n",
              "      <td>64.0</td>\n",
              "      <td>\\nAn orphaned boy enrolls in a school of wizar...</td>\n",
              "      <td>693017</td>\n",
              "      <td>317,575,550</td>\n",
              "      <td>&lt;span class=\"lister-item-year text-muted unbol...</td>\n",
              "    </tr>\n",
              "    <tr>\n",
              "      <th>1</th>\n",
              "      <td>1</td>\n",
              "      <td>The Lord of the Rings: The Fellowship of the Ring</td>\n",
              "      <td>tt0120737</td>\n",
              "      <td>178 min</td>\n",
              "      <td>\\nAction, Adventure, Drama</td>\n",
              "      <td>8.8</td>\n",
              "      <td>92.0</td>\n",
              "      <td>\\nA meek Hobbit from the Shire and eight compa...</td>\n",
              "      <td>1721432</td>\n",
              "      <td>315,544,750</td>\n",
              "      <td>&lt;span class=\"lister-item-year text-muted unbol...</td>\n",
              "    </tr>\n",
              "    <tr>\n",
              "      <th>2</th>\n",
              "      <td>2</td>\n",
              "      <td>The Matrix</td>\n",
              "      <td>tt0133093</td>\n",
              "      <td>136 min</td>\n",
              "      <td>\\nAction, Sci-Fi</td>\n",
              "      <td>8.7</td>\n",
              "      <td>73.0</td>\n",
              "      <td>\\nWhen a beautiful stranger leads computer hac...</td>\n",
              "      <td>1741678</td>\n",
              "      <td>171,479,930</td>\n",
              "      <td>&lt;span class=\"lister-item-year text-muted unbol...</td>\n",
              "    </tr>\n",
              "    <tr>\n",
              "      <th>3</th>\n",
              "      <td>3</td>\n",
              "      <td>Fight Club</td>\n",
              "      <td>tt0137523</td>\n",
              "      <td>139 min</td>\n",
              "      <td>\\nDrama</td>\n",
              "      <td>8.8</td>\n",
              "      <td>66.0</td>\n",
              "      <td>\\nAn insomniac office worker and a devil-may-c...</td>\n",
              "      <td>1928126</td>\n",
              "      <td>37,030,102</td>\n",
              "      <td>&lt;span class=\"lister-item-year text-muted unbol...</td>\n",
              "    </tr>\n",
              "    <tr>\n",
              "      <th>4</th>\n",
              "      <td>4</td>\n",
              "      <td>Catch Me If You Can</td>\n",
              "      <td>tt0264464</td>\n",
              "      <td>141 min</td>\n",
              "      <td>\\nBiography, Crime, Drama</td>\n",
              "      <td>8.1</td>\n",
              "      <td>75.0</td>\n",
              "      <td>\\nBarely 21 yet, Frank is a skilled forger who...</td>\n",
              "      <td>877182</td>\n",
              "      <td>164,615,351</td>\n",
              "      <td>&lt;span class=\"lister-item-year text-muted unbol...</td>\n",
              "    </tr>\n",
              "  </tbody>\n",
              "</table>\n",
              "</div>\n",
              "      <button class=\"colab-df-convert\" onclick=\"convertToInteractive('df-8bc3cc1d-11d7-4b8b-b1d2-e0beaef696de')\"\n",
              "              title=\"Convert this dataframe to an interactive table.\"\n",
              "              style=\"display:none;\">\n",
              "        \n",
              "  <svg xmlns=\"http://www.w3.org/2000/svg\" height=\"24px\"viewBox=\"0 0 24 24\"\n",
              "       width=\"24px\">\n",
              "    <path d=\"M0 0h24v24H0V0z\" fill=\"none\"/>\n",
              "    <path d=\"M18.56 5.44l.94 2.06.94-2.06 2.06-.94-2.06-.94-.94-2.06-.94 2.06-2.06.94zm-11 1L8.5 8.5l.94-2.06 2.06-.94-2.06-.94L8.5 2.5l-.94 2.06-2.06.94zm10 10l.94 2.06.94-2.06 2.06-.94-2.06-.94-.94-2.06-.94 2.06-2.06.94z\"/><path d=\"M17.41 7.96l-1.37-1.37c-.4-.4-.92-.59-1.43-.59-.52 0-1.04.2-1.43.59L10.3 9.45l-7.72 7.72c-.78.78-.78 2.05 0 2.83L4 21.41c.39.39.9.59 1.41.59.51 0 1.02-.2 1.41-.59l7.78-7.78 2.81-2.81c.8-.78.8-2.07 0-2.86zM5.41 20L4 18.59l7.72-7.72 1.47 1.35L5.41 20z\"/>\n",
              "  </svg>\n",
              "      </button>\n",
              "      \n",
              "  <style>\n",
              "    .colab-df-container {\n",
              "      display:flex;\n",
              "      flex-wrap:wrap;\n",
              "      gap: 12px;\n",
              "    }\n",
              "\n",
              "    .colab-df-convert {\n",
              "      background-color: #E8F0FE;\n",
              "      border: none;\n",
              "      border-radius: 50%;\n",
              "      cursor: pointer;\n",
              "      display: none;\n",
              "      fill: #1967D2;\n",
              "      height: 32px;\n",
              "      padding: 0 0 0 0;\n",
              "      width: 32px;\n",
              "    }\n",
              "\n",
              "    .colab-df-convert:hover {\n",
              "      background-color: #E2EBFA;\n",
              "      box-shadow: 0px 1px 2px rgba(60, 64, 67, 0.3), 0px 1px 3px 1px rgba(60, 64, 67, 0.15);\n",
              "      fill: #174EA6;\n",
              "    }\n",
              "\n",
              "    [theme=dark] .colab-df-convert {\n",
              "      background-color: #3B4455;\n",
              "      fill: #D2E3FC;\n",
              "    }\n",
              "\n",
              "    [theme=dark] .colab-df-convert:hover {\n",
              "      background-color: #434B5C;\n",
              "      box-shadow: 0px 1px 3px 1px rgba(0, 0, 0, 0.15);\n",
              "      filter: drop-shadow(0px 1px 2px rgba(0, 0, 0, 0.3));\n",
              "      fill: #FFFFFF;\n",
              "    }\n",
              "  </style>\n",
              "\n",
              "      <script>\n",
              "        const buttonEl =\n",
              "          document.querySelector('#df-8bc3cc1d-11d7-4b8b-b1d2-e0beaef696de button.colab-df-convert');\n",
              "        buttonEl.style.display =\n",
              "          google.colab.kernel.accessAllowed ? 'block' : 'none';\n",
              "\n",
              "        async function convertToInteractive(key) {\n",
              "          const element = document.querySelector('#df-8bc3cc1d-11d7-4b8b-b1d2-e0beaef696de');\n",
              "          const dataTable =\n",
              "            await google.colab.kernel.invokeFunction('convertToInteractive',\n",
              "                                                     [key], {});\n",
              "          if (!dataTable) return;\n",
              "\n",
              "          const docLinkHtml = 'Like what you see? Visit the ' +\n",
              "            '<a target=\"_blank\" href=https://colab.research.google.com/notebooks/data_table.ipynb>data table notebook</a>'\n",
              "            + ' to learn more about interactive tables.';\n",
              "          element.innerHTML = '';\n",
              "          dataTable['output_type'] = 'display_data';\n",
              "          await google.colab.output.renderOutput(dataTable, element);\n",
              "          const docLink = document.createElement('div');\n",
              "          docLink.innerHTML = docLinkHtml;\n",
              "          element.appendChild(docLink);\n",
              "        }\n",
              "      </script>\n",
              "    </div>\n",
              "  </div>\n",
              "  "
            ]
          },
          "metadata": {},
          "execution_count": 6
        }
      ]
    },
    {
      "cell_type": "markdown",
      "metadata": {
        "id": "w25Z1JBmCj6B"
      },
      "source": [
        "### **Cleaning**"
      ]
    },
    {
      "cell_type": "markdown",
      "source": [
        "Now I need to clean up the data a little bit. \n",
        "* I'm going to clean up and extract the **year**, because it seems that part of the code did not wokr well and I still have a chunk of html in my year column; \n",
        "* Drop the unnamed column that is really df's index before saving the csv;\n",
        "* Check and explore missing values, decide if it's worth keeping them;\n",
        "* Clean up the genre and create some dummies for it;\n",
        "* Check and allign data types so that they can be easily analyzable."
      ],
      "metadata": {
        "id": "Fol6jHchuuHW"
      }
    },
    {
      "cell_type": "markdown",
      "metadata": {
        "id": "IU1UK1-4ClzV"
      },
      "source": [
        "**Cleaning Year**"
      ]
    },
    {
      "cell_type": "markdown",
      "source": [
        "Using reguilar expression extracting 4 consequtive number from the chunk of hgtm code that is year, then stripping white spaces. "
      ],
      "metadata": {
        "id": "aSAvvSlvhReV"
      }
    },
    {
      "cell_type": "code",
      "metadata": {
        "id": "A07HkGLjBaTE"
      },
      "source": [
        "imdb_scraped['year'] = imdb_scraped.year.str.extract('(\\d{4})', expand = False).str.strip()"
      ],
      "execution_count": null,
      "outputs": []
    },
    {
      "cell_type": "markdown",
      "metadata": {
        "id": "6mqpenKlC17y"
      },
      "source": [
        "**Dropping index Column**"
      ]
    },
    {
      "cell_type": "code",
      "metadata": {
        "id": "X0PitvXKCq9g"
      },
      "source": [
        "imdb_scraped = imdb_scraped.drop(columns='Unnamed: 0')"
      ],
      "execution_count": null,
      "outputs": []
    },
    {
      "cell_type": "markdown",
      "metadata": {
        "id": "8HV7gA0tC_p3"
      },
      "source": [
        "**Exploring what I have up to now:**"
      ]
    },
    {
      "cell_type": "code",
      "metadata": {
        "colab": {
          "base_uri": "https://localhost:8080/"
        },
        "id": "hRKT1yuRDC8n",
        "outputId": "12d930a4-5f28-4df6-fbcb-bb7a494ab0a3"
      },
      "source": [
        "imdb_scraped.info()"
      ],
      "execution_count": null,
      "outputs": [
        {
          "output_type": "stream",
          "name": "stdout",
          "text": [
            "<class 'pandas.core.frame.DataFrame'>\n",
            "RangeIndex: 75647 entries, 0 to 75646\n",
            "Data columns (total 10 columns):\n",
            " #   Column       Non-Null Count  Dtype  \n",
            "---  ------       --------------  -----  \n",
            " 0   title        75647 non-null  object \n",
            " 1   imdbID       75647 non-null  object \n",
            " 2   duration     62437 non-null  object \n",
            " 3   genre        72241 non-null  object \n",
            " 4   imdb_rating  51444 non-null  float64\n",
            " 5   metascore    8924 non-null   float64\n",
            " 6   synopsys     75647 non-null  object \n",
            " 7   votes        51471 non-null  object \n",
            " 8   gross        7211 non-null   object \n",
            " 9   year         75557 non-null  object \n",
            "dtypes: float64(2), object(8)\n",
            "memory usage: 5.8+ MB\n"
          ]
        }
      ]
    },
    {
      "cell_type": "code",
      "metadata": {
        "colab": {
          "base_uri": "https://localhost:8080/"
        },
        "id": "kha_BR-uDpnU",
        "outputId": "597ef671-4d96-4e26-de9d-661f6f0030fe"
      },
      "source": [
        "imdb_scraped.isna().sum()"
      ],
      "execution_count": null,
      "outputs": [
        {
          "output_type": "execute_result",
          "data": {
            "text/plain": [
              "title              0\n",
              "imdbID             0\n",
              "duration       13210\n",
              "genre           3406\n",
              "imdb_rating    24203\n",
              "metascore      66723\n",
              "synopsys           0\n",
              "votes          24176\n",
              "gross          68436\n",
              "year              90\n",
              "dtype: int64"
            ]
          },
          "metadata": {},
          "execution_count": 11
        }
      ]
    },
    {
      "cell_type": "code",
      "metadata": {
        "colab": {
          "base_uri": "https://localhost:8080/"
        },
        "id": "_yTiIbBVDVZP",
        "outputId": "fa8841f6-4791-4bd9-bb7e-1bc8e793855c"
      },
      "source": [
        "imdb_scraped.isna().sum()/len(imdb_scraped)"
      ],
      "execution_count": null,
      "outputs": [
        {
          "output_type": "execute_result",
          "data": {
            "text/plain": [
              "title          0.000000\n",
              "imdbID         0.000000\n",
              "duration       0.174627\n",
              "genre          0.045025\n",
              "imdb_rating    0.319947\n",
              "metascore      0.882031\n",
              "synopsys       0.000000\n",
              "votes          0.319590\n",
              "gross          0.904676\n",
              "year           0.001190\n",
              "dtype: float64"
            ]
          },
          "metadata": {},
          "execution_count": 12
        }
      ]
    },
    {
      "cell_type": "code",
      "metadata": {
        "colab": {
          "base_uri": "https://localhost:8080/"
        },
        "id": "u103wZv8DiUK",
        "outputId": "b3f0d546-72ae-4835-8d69-cc10249b0abe"
      },
      "source": [
        "len(imdb_scraped) - imdb_scraped.isna().sum()"
      ],
      "execution_count": null,
      "outputs": [
        {
          "output_type": "execute_result",
          "data": {
            "text/plain": [
              "title          75647\n",
              "imdbID         75647\n",
              "duration       62437\n",
              "genre          72241\n",
              "imdb_rating    51444\n",
              "metascore       8924\n",
              "synopsys       75647\n",
              "votes          51471\n",
              "gross           7211\n",
              "year           75557\n",
              "dtype: int64"
            ]
          },
          "metadata": {},
          "execution_count": 13
        }
      ]
    },
    {
      "cell_type": "markdown",
      "metadata": {
        "id": "vuAMy1PRDrnM"
      },
      "source": [
        "**Important points:**\n",
        "* Only have 7211 movies with Gross\n",
        "* Only have 8924 movies with metascore\n",
        "* 24203 movies are missing IMDb rating - definitely drop those\n",
        "* 24176 number of movies do not have votes - seems close to the number of those without IMDB rating, will check again after deleting those if any left\n",
        "* 90 movies are missing year, but we know the range.\n",
        "* All movies have synopsys, title and IMDb ID\n",
        "* Votes, gross and year need to be converted into the appropriate formats\n",
        "* Duration - remove minutes and convert to appropriate format\n",
        "\n"
      ]
    },
    {
      "cell_type": "markdown",
      "metadata": {
        "id": "E5HpHDjOFaxt"
      },
      "source": [
        "**Drop movies with no IMDb Rating**"
      ]
    },
    {
      "cell_type": "code",
      "metadata": {
        "id": "xY_D_9nmFdQ3"
      },
      "source": [
        "imdb_rated = imdb_scraped.dropna(subset=['imdb_rating']).copy().reset_index(drop = True)"
      ],
      "execution_count": null,
      "outputs": []
    },
    {
      "cell_type": "code",
      "metadata": {
        "colab": {
          "base_uri": "https://localhost:8080/",
          "height": 206
        },
        "id": "3w206nSXGF0A",
        "outputId": "d6b04dce-a860-4c12-f110-8992b233db73"
      },
      "source": [
        "imdb_rated.head()"
      ],
      "execution_count": null,
      "outputs": [
        {
          "output_type": "execute_result",
          "data": {
            "text/plain": [
              "                                               title     imdbID duration  \\\n",
              "0              Harry Potter and the Sorcerer's Stone  tt0241527  152 min   \n",
              "1  The Lord of the Rings: The Fellowship of the Ring  tt0120737  178 min   \n",
              "2                                         The Matrix  tt0133093  136 min   \n",
              "3                                         Fight Club  tt0137523  139 min   \n",
              "4                                Catch Me If You Can  tt0264464  141 min   \n",
              "\n",
              "                                      genre  imdb_rating  metascore  \\\n",
              "0  \\nAdventure, Family, Fantasy                      7.6       64.0   \n",
              "1    \\nAction, Adventure, Drama                      8.8       92.0   \n",
              "2              \\nAction, Sci-Fi                      8.7       73.0   \n",
              "3                       \\nDrama                      8.8       66.0   \n",
              "4     \\nBiography, Crime, Drama                      8.1       75.0   \n",
              "\n",
              "                                            synopsys    votes        gross  \\\n",
              "0  \\nAn orphaned boy enrolls in a school of wizar...   693017  317,575,550   \n",
              "1  \\nA meek Hobbit from the Shire and eight compa...  1721432  315,544,750   \n",
              "2  \\nWhen a beautiful stranger leads computer hac...  1741678  171,479,930   \n",
              "3  \\nAn insomniac office worker and a devil-may-c...  1928126   37,030,102   \n",
              "4  \\nBarely 21 yet, Frank is a skilled forger who...   877182  164,615,351   \n",
              "\n",
              "   year  \n",
              "0  2001  \n",
              "1  2001  \n",
              "2  1999  \n",
              "3  1999  \n",
              "4  2002  "
            ],
            "text/html": [
              "\n",
              "  <div id=\"df-2e73592a-6c9c-429d-9bfc-19a401f853eb\">\n",
              "    <div class=\"colab-df-container\">\n",
              "      <div>\n",
              "<style scoped>\n",
              "    .dataframe tbody tr th:only-of-type {\n",
              "        vertical-align: middle;\n",
              "    }\n",
              "\n",
              "    .dataframe tbody tr th {\n",
              "        vertical-align: top;\n",
              "    }\n",
              "\n",
              "    .dataframe thead th {\n",
              "        text-align: right;\n",
              "    }\n",
              "</style>\n",
              "<table border=\"1\" class=\"dataframe\">\n",
              "  <thead>\n",
              "    <tr style=\"text-align: right;\">\n",
              "      <th></th>\n",
              "      <th>title</th>\n",
              "      <th>imdbID</th>\n",
              "      <th>duration</th>\n",
              "      <th>genre</th>\n",
              "      <th>imdb_rating</th>\n",
              "      <th>metascore</th>\n",
              "      <th>synopsys</th>\n",
              "      <th>votes</th>\n",
              "      <th>gross</th>\n",
              "      <th>year</th>\n",
              "    </tr>\n",
              "  </thead>\n",
              "  <tbody>\n",
              "    <tr>\n",
              "      <th>0</th>\n",
              "      <td>Harry Potter and the Sorcerer's Stone</td>\n",
              "      <td>tt0241527</td>\n",
              "      <td>152 min</td>\n",
              "      <td>\\nAdventure, Family, Fantasy</td>\n",
              "      <td>7.6</td>\n",
              "      <td>64.0</td>\n",
              "      <td>\\nAn orphaned boy enrolls in a school of wizar...</td>\n",
              "      <td>693017</td>\n",
              "      <td>317,575,550</td>\n",
              "      <td>2001</td>\n",
              "    </tr>\n",
              "    <tr>\n",
              "      <th>1</th>\n",
              "      <td>The Lord of the Rings: The Fellowship of the Ring</td>\n",
              "      <td>tt0120737</td>\n",
              "      <td>178 min</td>\n",
              "      <td>\\nAction, Adventure, Drama</td>\n",
              "      <td>8.8</td>\n",
              "      <td>92.0</td>\n",
              "      <td>\\nA meek Hobbit from the Shire and eight compa...</td>\n",
              "      <td>1721432</td>\n",
              "      <td>315,544,750</td>\n",
              "      <td>2001</td>\n",
              "    </tr>\n",
              "    <tr>\n",
              "      <th>2</th>\n",
              "      <td>The Matrix</td>\n",
              "      <td>tt0133093</td>\n",
              "      <td>136 min</td>\n",
              "      <td>\\nAction, Sci-Fi</td>\n",
              "      <td>8.7</td>\n",
              "      <td>73.0</td>\n",
              "      <td>\\nWhen a beautiful stranger leads computer hac...</td>\n",
              "      <td>1741678</td>\n",
              "      <td>171,479,930</td>\n",
              "      <td>1999</td>\n",
              "    </tr>\n",
              "    <tr>\n",
              "      <th>3</th>\n",
              "      <td>Fight Club</td>\n",
              "      <td>tt0137523</td>\n",
              "      <td>139 min</td>\n",
              "      <td>\\nDrama</td>\n",
              "      <td>8.8</td>\n",
              "      <td>66.0</td>\n",
              "      <td>\\nAn insomniac office worker and a devil-may-c...</td>\n",
              "      <td>1928126</td>\n",
              "      <td>37,030,102</td>\n",
              "      <td>1999</td>\n",
              "    </tr>\n",
              "    <tr>\n",
              "      <th>4</th>\n",
              "      <td>Catch Me If You Can</td>\n",
              "      <td>tt0264464</td>\n",
              "      <td>141 min</td>\n",
              "      <td>\\nBiography, Crime, Drama</td>\n",
              "      <td>8.1</td>\n",
              "      <td>75.0</td>\n",
              "      <td>\\nBarely 21 yet, Frank is a skilled forger who...</td>\n",
              "      <td>877182</td>\n",
              "      <td>164,615,351</td>\n",
              "      <td>2002</td>\n",
              "    </tr>\n",
              "  </tbody>\n",
              "</table>\n",
              "</div>\n",
              "      <button class=\"colab-df-convert\" onclick=\"convertToInteractive('df-2e73592a-6c9c-429d-9bfc-19a401f853eb')\"\n",
              "              title=\"Convert this dataframe to an interactive table.\"\n",
              "              style=\"display:none;\">\n",
              "        \n",
              "  <svg xmlns=\"http://www.w3.org/2000/svg\" height=\"24px\"viewBox=\"0 0 24 24\"\n",
              "       width=\"24px\">\n",
              "    <path d=\"M0 0h24v24H0V0z\" fill=\"none\"/>\n",
              "    <path d=\"M18.56 5.44l.94 2.06.94-2.06 2.06-.94-2.06-.94-.94-2.06-.94 2.06-2.06.94zm-11 1L8.5 8.5l.94-2.06 2.06-.94-2.06-.94L8.5 2.5l-.94 2.06-2.06.94zm10 10l.94 2.06.94-2.06 2.06-.94-2.06-.94-.94-2.06-.94 2.06-2.06.94z\"/><path d=\"M17.41 7.96l-1.37-1.37c-.4-.4-.92-.59-1.43-.59-.52 0-1.04.2-1.43.59L10.3 9.45l-7.72 7.72c-.78.78-.78 2.05 0 2.83L4 21.41c.39.39.9.59 1.41.59.51 0 1.02-.2 1.41-.59l7.78-7.78 2.81-2.81c.8-.78.8-2.07 0-2.86zM5.41 20L4 18.59l7.72-7.72 1.47 1.35L5.41 20z\"/>\n",
              "  </svg>\n",
              "      </button>\n",
              "      \n",
              "  <style>\n",
              "    .colab-df-container {\n",
              "      display:flex;\n",
              "      flex-wrap:wrap;\n",
              "      gap: 12px;\n",
              "    }\n",
              "\n",
              "    .colab-df-convert {\n",
              "      background-color: #E8F0FE;\n",
              "      border: none;\n",
              "      border-radius: 50%;\n",
              "      cursor: pointer;\n",
              "      display: none;\n",
              "      fill: #1967D2;\n",
              "      height: 32px;\n",
              "      padding: 0 0 0 0;\n",
              "      width: 32px;\n",
              "    }\n",
              "\n",
              "    .colab-df-convert:hover {\n",
              "      background-color: #E2EBFA;\n",
              "      box-shadow: 0px 1px 2px rgba(60, 64, 67, 0.3), 0px 1px 3px 1px rgba(60, 64, 67, 0.15);\n",
              "      fill: #174EA6;\n",
              "    }\n",
              "\n",
              "    [theme=dark] .colab-df-convert {\n",
              "      background-color: #3B4455;\n",
              "      fill: #D2E3FC;\n",
              "    }\n",
              "\n",
              "    [theme=dark] .colab-df-convert:hover {\n",
              "      background-color: #434B5C;\n",
              "      box-shadow: 0px 1px 3px 1px rgba(0, 0, 0, 0.15);\n",
              "      filter: drop-shadow(0px 1px 2px rgba(0, 0, 0, 0.3));\n",
              "      fill: #FFFFFF;\n",
              "    }\n",
              "  </style>\n",
              "\n",
              "      <script>\n",
              "        const buttonEl =\n",
              "          document.querySelector('#df-2e73592a-6c9c-429d-9bfc-19a401f853eb button.colab-df-convert');\n",
              "        buttonEl.style.display =\n",
              "          google.colab.kernel.accessAllowed ? 'block' : 'none';\n",
              "\n",
              "        async function convertToInteractive(key) {\n",
              "          const element = document.querySelector('#df-2e73592a-6c9c-429d-9bfc-19a401f853eb');\n",
              "          const dataTable =\n",
              "            await google.colab.kernel.invokeFunction('convertToInteractive',\n",
              "                                                     [key], {});\n",
              "          if (!dataTable) return;\n",
              "\n",
              "          const docLinkHtml = 'Like what you see? Visit the ' +\n",
              "            '<a target=\"_blank\" href=https://colab.research.google.com/notebooks/data_table.ipynb>data table notebook</a>'\n",
              "            + ' to learn more about interactive tables.';\n",
              "          element.innerHTML = '';\n",
              "          dataTable['output_type'] = 'display_data';\n",
              "          await google.colab.output.renderOutput(dataTable, element);\n",
              "          const docLink = document.createElement('div');\n",
              "          docLink.innerHTML = docLinkHtml;\n",
              "          element.appendChild(docLink);\n",
              "        }\n",
              "      </script>\n",
              "    </div>\n",
              "  </div>\n",
              "  "
            ]
          },
          "metadata": {},
          "execution_count": 15
        }
      ]
    },
    {
      "cell_type": "markdown",
      "metadata": {
        "id": "TK69mzsPHN93"
      },
      "source": [
        "**Checking some rare missing values**"
      ]
    },
    {
      "cell_type": "code",
      "metadata": {
        "colab": {
          "base_uri": "https://localhost:8080/"
        },
        "id": "6FYuMo1SGH5O",
        "outputId": "2142988c-9c07-41de-8fa3-a04a8f8adc84"
      },
      "source": [
        "imdb_rated.isna().sum()"
      ],
      "execution_count": null,
      "outputs": [
        {
          "output_type": "execute_result",
          "data": {
            "text/plain": [
              "title              0\n",
              "imdbID             0\n",
              "duration        3949\n",
              "genre            867\n",
              "imdb_rating        0\n",
              "metascore      42523\n",
              "synopsys           0\n",
              "votes              1\n",
              "gross          44233\n",
              "year               4\n",
              "dtype: int64"
            ]
          },
          "metadata": {},
          "execution_count": 16
        }
      ]
    },
    {
      "cell_type": "markdown",
      "source": [
        "After deleting movies without imdb rating, it seems tha there is only one movie with no votes data. After checking it seems that this movie actually has 8 votes. Not sure why those did not record, but since it's only one, I can add it manually. "
      ],
      "metadata": {
        "id": "pzQf6g-_h_-0"
      }
    },
    {
      "cell_type": "markdown",
      "metadata": {
        "id": "HfqbDgnbICEn"
      },
      "source": [
        "*Votes*"
      ]
    },
    {
      "cell_type": "code",
      "metadata": {
        "colab": {
          "base_uri": "https://localhost:8080/",
          "height": 81
        },
        "id": "LPBv52QXGPQN",
        "outputId": "5a0db54c-cd0c-4108-d9f2-4d0992f52682"
      },
      "source": [
        "imdb_rated[imdb_rated.votes.isna()] "
      ],
      "execution_count": null,
      "outputs": [
        {
          "output_type": "execute_result",
          "data": {
            "text/plain": [
              "                          title     imdbID duration                genre  \\\n",
              "23133  Believe: The Misfit Pawn  tt1972602   90 min  \\nDrama               \n",
              "\n",
              "       imdb_rating  metascore  \\\n",
              "23133          8.3        NaN   \n",
              "\n",
              "                                                synopsys votes gross  year  \n",
              "23133  \\n We award this movie five Doves, our best ra...   NaN   NaN  2011  "
            ],
            "text/html": [
              "\n",
              "  <div id=\"df-40a7ad91-3ee0-480b-980f-4c4f205a1885\">\n",
              "    <div class=\"colab-df-container\">\n",
              "      <div>\n",
              "<style scoped>\n",
              "    .dataframe tbody tr th:only-of-type {\n",
              "        vertical-align: middle;\n",
              "    }\n",
              "\n",
              "    .dataframe tbody tr th {\n",
              "        vertical-align: top;\n",
              "    }\n",
              "\n",
              "    .dataframe thead th {\n",
              "        text-align: right;\n",
              "    }\n",
              "</style>\n",
              "<table border=\"1\" class=\"dataframe\">\n",
              "  <thead>\n",
              "    <tr style=\"text-align: right;\">\n",
              "      <th></th>\n",
              "      <th>title</th>\n",
              "      <th>imdbID</th>\n",
              "      <th>duration</th>\n",
              "      <th>genre</th>\n",
              "      <th>imdb_rating</th>\n",
              "      <th>metascore</th>\n",
              "      <th>synopsys</th>\n",
              "      <th>votes</th>\n",
              "      <th>gross</th>\n",
              "      <th>year</th>\n",
              "    </tr>\n",
              "  </thead>\n",
              "  <tbody>\n",
              "    <tr>\n",
              "      <th>23133</th>\n",
              "      <td>Believe: The Misfit Pawn</td>\n",
              "      <td>tt1972602</td>\n",
              "      <td>90 min</td>\n",
              "      <td>\\nDrama</td>\n",
              "      <td>8.3</td>\n",
              "      <td>NaN</td>\n",
              "      <td>\\n We award this movie five Doves, our best ra...</td>\n",
              "      <td>NaN</td>\n",
              "      <td>NaN</td>\n",
              "      <td>2011</td>\n",
              "    </tr>\n",
              "  </tbody>\n",
              "</table>\n",
              "</div>\n",
              "      <button class=\"colab-df-convert\" onclick=\"convertToInteractive('df-40a7ad91-3ee0-480b-980f-4c4f205a1885')\"\n",
              "              title=\"Convert this dataframe to an interactive table.\"\n",
              "              style=\"display:none;\">\n",
              "        \n",
              "  <svg xmlns=\"http://www.w3.org/2000/svg\" height=\"24px\"viewBox=\"0 0 24 24\"\n",
              "       width=\"24px\">\n",
              "    <path d=\"M0 0h24v24H0V0z\" fill=\"none\"/>\n",
              "    <path d=\"M18.56 5.44l.94 2.06.94-2.06 2.06-.94-2.06-.94-.94-2.06-.94 2.06-2.06.94zm-11 1L8.5 8.5l.94-2.06 2.06-.94-2.06-.94L8.5 2.5l-.94 2.06-2.06.94zm10 10l.94 2.06.94-2.06 2.06-.94-2.06-.94-.94-2.06-.94 2.06-2.06.94z\"/><path d=\"M17.41 7.96l-1.37-1.37c-.4-.4-.92-.59-1.43-.59-.52 0-1.04.2-1.43.59L10.3 9.45l-7.72 7.72c-.78.78-.78 2.05 0 2.83L4 21.41c.39.39.9.59 1.41.59.51 0 1.02-.2 1.41-.59l7.78-7.78 2.81-2.81c.8-.78.8-2.07 0-2.86zM5.41 20L4 18.59l7.72-7.72 1.47 1.35L5.41 20z\"/>\n",
              "  </svg>\n",
              "      </button>\n",
              "      \n",
              "  <style>\n",
              "    .colab-df-container {\n",
              "      display:flex;\n",
              "      flex-wrap:wrap;\n",
              "      gap: 12px;\n",
              "    }\n",
              "\n",
              "    .colab-df-convert {\n",
              "      background-color: #E8F0FE;\n",
              "      border: none;\n",
              "      border-radius: 50%;\n",
              "      cursor: pointer;\n",
              "      display: none;\n",
              "      fill: #1967D2;\n",
              "      height: 32px;\n",
              "      padding: 0 0 0 0;\n",
              "      width: 32px;\n",
              "    }\n",
              "\n",
              "    .colab-df-convert:hover {\n",
              "      background-color: #E2EBFA;\n",
              "      box-shadow: 0px 1px 2px rgba(60, 64, 67, 0.3), 0px 1px 3px 1px rgba(60, 64, 67, 0.15);\n",
              "      fill: #174EA6;\n",
              "    }\n",
              "\n",
              "    [theme=dark] .colab-df-convert {\n",
              "      background-color: #3B4455;\n",
              "      fill: #D2E3FC;\n",
              "    }\n",
              "\n",
              "    [theme=dark] .colab-df-convert:hover {\n",
              "      background-color: #434B5C;\n",
              "      box-shadow: 0px 1px 3px 1px rgba(0, 0, 0, 0.15);\n",
              "      filter: drop-shadow(0px 1px 2px rgba(0, 0, 0, 0.3));\n",
              "      fill: #FFFFFF;\n",
              "    }\n",
              "  </style>\n",
              "\n",
              "      <script>\n",
              "        const buttonEl =\n",
              "          document.querySelector('#df-40a7ad91-3ee0-480b-980f-4c4f205a1885 button.colab-df-convert');\n",
              "        buttonEl.style.display =\n",
              "          google.colab.kernel.accessAllowed ? 'block' : 'none';\n",
              "\n",
              "        async function convertToInteractive(key) {\n",
              "          const element = document.querySelector('#df-40a7ad91-3ee0-480b-980f-4c4f205a1885');\n",
              "          const dataTable =\n",
              "            await google.colab.kernel.invokeFunction('convertToInteractive',\n",
              "                                                     [key], {});\n",
              "          if (!dataTable) return;\n",
              "\n",
              "          const docLinkHtml = 'Like what you see? Visit the ' +\n",
              "            '<a target=\"_blank\" href=https://colab.research.google.com/notebooks/data_table.ipynb>data table notebook</a>'\n",
              "            + ' to learn more about interactive tables.';\n",
              "          element.innerHTML = '';\n",
              "          dataTable['output_type'] = 'display_data';\n",
              "          await google.colab.output.renderOutput(dataTable, element);\n",
              "          const docLink = document.createElement('div');\n",
              "          docLink.innerHTML = docLinkHtml;\n",
              "          element.appendChild(docLink);\n",
              "        }\n",
              "      </script>\n",
              "    </div>\n",
              "  </div>\n",
              "  "
            ]
          },
          "metadata": {},
          "execution_count": 17
        }
      ]
    },
    {
      "cell_type": "code",
      "metadata": {
        "id": "RPlyYusDG3Tm"
      },
      "source": [
        "imdb_rated[['votes']] = imdb_rated[['votes']].fillna(8)"
      ],
      "execution_count": null,
      "outputs": []
    },
    {
      "cell_type": "markdown",
      "metadata": {
        "id": "MNQs572JIDwP"
      },
      "source": [
        "*Year*"
      ]
    },
    {
      "cell_type": "markdown",
      "source": [
        "4 movies do not have a year information. After manual check, the look a bit odd. Since it's only 4 and they are odd, will just drop them. "
      ],
      "metadata": {
        "id": "Zo_tZ8yUiWLD"
      }
    },
    {
      "cell_type": "code",
      "metadata": {
        "colab": {
          "base_uri": "https://localhost:8080/",
          "height": 175
        },
        "id": "EYnz1joSHKa5",
        "outputId": "c3edc172-cd67-4909-8566-0b7e55125f4f"
      },
      "source": [
        "imdb_rated[imdb_rated.year.isna()] # some odd movies. It would be easier to search plot movie name + year, so drop those"
      ],
      "execution_count": null,
      "outputs": [
        {
          "output_type": "execute_result",
          "data": {
            "text/plain": [
              "                  title     imdbID duration  \\\n",
              "28337     Tied in Blood  tt1027755   88 min   \n",
              "47873       Vanity Fear  tt7424940      NaN   \n",
              "48237  As Words Breathe  tt2368535   80 min   \n",
              "50306    Cool as Hell 2  tt6745192   90 min   \n",
              "\n",
              "                                      genre  imdb_rating  metascore  \\\n",
              "28337  \\nDrama, Horror, Mystery                      3.5        NaN   \n",
              "47873                  \\nHorror                      3.8        NaN   \n",
              "48237                   \\nDrama                      7.9        NaN   \n",
              "50306                  \\nComedy                      6.2        NaN   \n",
              "\n",
              "                                                synopsys votes gross year  \n",
              "28337  \\nGeorge, convinced a ghost killed his family,...   222   NaN  NaN  \n",
              "47873  \\nMike, a struggling actor from LA, craves fam...     6   NaN  NaN  \n",
              "48237  \\nAfter resigning her career path oriented ban...    19   NaN  NaN  \n",
              "50306  \\nAfter goofball Rich accidentally decapitates...    19   NaN  NaN  "
            ],
            "text/html": [
              "\n",
              "  <div id=\"df-56f27a46-a04e-4045-be13-e8aa940f643a\">\n",
              "    <div class=\"colab-df-container\">\n",
              "      <div>\n",
              "<style scoped>\n",
              "    .dataframe tbody tr th:only-of-type {\n",
              "        vertical-align: middle;\n",
              "    }\n",
              "\n",
              "    .dataframe tbody tr th {\n",
              "        vertical-align: top;\n",
              "    }\n",
              "\n",
              "    .dataframe thead th {\n",
              "        text-align: right;\n",
              "    }\n",
              "</style>\n",
              "<table border=\"1\" class=\"dataframe\">\n",
              "  <thead>\n",
              "    <tr style=\"text-align: right;\">\n",
              "      <th></th>\n",
              "      <th>title</th>\n",
              "      <th>imdbID</th>\n",
              "      <th>duration</th>\n",
              "      <th>genre</th>\n",
              "      <th>imdb_rating</th>\n",
              "      <th>metascore</th>\n",
              "      <th>synopsys</th>\n",
              "      <th>votes</th>\n",
              "      <th>gross</th>\n",
              "      <th>year</th>\n",
              "    </tr>\n",
              "  </thead>\n",
              "  <tbody>\n",
              "    <tr>\n",
              "      <th>28337</th>\n",
              "      <td>Tied in Blood</td>\n",
              "      <td>tt1027755</td>\n",
              "      <td>88 min</td>\n",
              "      <td>\\nDrama, Horror, Mystery</td>\n",
              "      <td>3.5</td>\n",
              "      <td>NaN</td>\n",
              "      <td>\\nGeorge, convinced a ghost killed his family,...</td>\n",
              "      <td>222</td>\n",
              "      <td>NaN</td>\n",
              "      <td>NaN</td>\n",
              "    </tr>\n",
              "    <tr>\n",
              "      <th>47873</th>\n",
              "      <td>Vanity Fear</td>\n",
              "      <td>tt7424940</td>\n",
              "      <td>NaN</td>\n",
              "      <td>\\nHorror</td>\n",
              "      <td>3.8</td>\n",
              "      <td>NaN</td>\n",
              "      <td>\\nMike, a struggling actor from LA, craves fam...</td>\n",
              "      <td>6</td>\n",
              "      <td>NaN</td>\n",
              "      <td>NaN</td>\n",
              "    </tr>\n",
              "    <tr>\n",
              "      <th>48237</th>\n",
              "      <td>As Words Breathe</td>\n",
              "      <td>tt2368535</td>\n",
              "      <td>80 min</td>\n",
              "      <td>\\nDrama</td>\n",
              "      <td>7.9</td>\n",
              "      <td>NaN</td>\n",
              "      <td>\\nAfter resigning her career path oriented ban...</td>\n",
              "      <td>19</td>\n",
              "      <td>NaN</td>\n",
              "      <td>NaN</td>\n",
              "    </tr>\n",
              "    <tr>\n",
              "      <th>50306</th>\n",
              "      <td>Cool as Hell 2</td>\n",
              "      <td>tt6745192</td>\n",
              "      <td>90 min</td>\n",
              "      <td>\\nComedy</td>\n",
              "      <td>6.2</td>\n",
              "      <td>NaN</td>\n",
              "      <td>\\nAfter goofball Rich accidentally decapitates...</td>\n",
              "      <td>19</td>\n",
              "      <td>NaN</td>\n",
              "      <td>NaN</td>\n",
              "    </tr>\n",
              "  </tbody>\n",
              "</table>\n",
              "</div>\n",
              "      <button class=\"colab-df-convert\" onclick=\"convertToInteractive('df-56f27a46-a04e-4045-be13-e8aa940f643a')\"\n",
              "              title=\"Convert this dataframe to an interactive table.\"\n",
              "              style=\"display:none;\">\n",
              "        \n",
              "  <svg xmlns=\"http://www.w3.org/2000/svg\" height=\"24px\"viewBox=\"0 0 24 24\"\n",
              "       width=\"24px\">\n",
              "    <path d=\"M0 0h24v24H0V0z\" fill=\"none\"/>\n",
              "    <path d=\"M18.56 5.44l.94 2.06.94-2.06 2.06-.94-2.06-.94-.94-2.06-.94 2.06-2.06.94zm-11 1L8.5 8.5l.94-2.06 2.06-.94-2.06-.94L8.5 2.5l-.94 2.06-2.06.94zm10 10l.94 2.06.94-2.06 2.06-.94-2.06-.94-.94-2.06-.94 2.06-2.06.94z\"/><path d=\"M17.41 7.96l-1.37-1.37c-.4-.4-.92-.59-1.43-.59-.52 0-1.04.2-1.43.59L10.3 9.45l-7.72 7.72c-.78.78-.78 2.05 0 2.83L4 21.41c.39.39.9.59 1.41.59.51 0 1.02-.2 1.41-.59l7.78-7.78 2.81-2.81c.8-.78.8-2.07 0-2.86zM5.41 20L4 18.59l7.72-7.72 1.47 1.35L5.41 20z\"/>\n",
              "  </svg>\n",
              "      </button>\n",
              "      \n",
              "  <style>\n",
              "    .colab-df-container {\n",
              "      display:flex;\n",
              "      flex-wrap:wrap;\n",
              "      gap: 12px;\n",
              "    }\n",
              "\n",
              "    .colab-df-convert {\n",
              "      background-color: #E8F0FE;\n",
              "      border: none;\n",
              "      border-radius: 50%;\n",
              "      cursor: pointer;\n",
              "      display: none;\n",
              "      fill: #1967D2;\n",
              "      height: 32px;\n",
              "      padding: 0 0 0 0;\n",
              "      width: 32px;\n",
              "    }\n",
              "\n",
              "    .colab-df-convert:hover {\n",
              "      background-color: #E2EBFA;\n",
              "      box-shadow: 0px 1px 2px rgba(60, 64, 67, 0.3), 0px 1px 3px 1px rgba(60, 64, 67, 0.15);\n",
              "      fill: #174EA6;\n",
              "    }\n",
              "\n",
              "    [theme=dark] .colab-df-convert {\n",
              "      background-color: #3B4455;\n",
              "      fill: #D2E3FC;\n",
              "    }\n",
              "\n",
              "    [theme=dark] .colab-df-convert:hover {\n",
              "      background-color: #434B5C;\n",
              "      box-shadow: 0px 1px 3px 1px rgba(0, 0, 0, 0.15);\n",
              "      filter: drop-shadow(0px 1px 2px rgba(0, 0, 0, 0.3));\n",
              "      fill: #FFFFFF;\n",
              "    }\n",
              "  </style>\n",
              "\n",
              "      <script>\n",
              "        const buttonEl =\n",
              "          document.querySelector('#df-56f27a46-a04e-4045-be13-e8aa940f643a button.colab-df-convert');\n",
              "        buttonEl.style.display =\n",
              "          google.colab.kernel.accessAllowed ? 'block' : 'none';\n",
              "\n",
              "        async function convertToInteractive(key) {\n",
              "          const element = document.querySelector('#df-56f27a46-a04e-4045-be13-e8aa940f643a');\n",
              "          const dataTable =\n",
              "            await google.colab.kernel.invokeFunction('convertToInteractive',\n",
              "                                                     [key], {});\n",
              "          if (!dataTable) return;\n",
              "\n",
              "          const docLinkHtml = 'Like what you see? Visit the ' +\n",
              "            '<a target=\"_blank\" href=https://colab.research.google.com/notebooks/data_table.ipynb>data table notebook</a>'\n",
              "            + ' to learn more about interactive tables.';\n",
              "          element.innerHTML = '';\n",
              "          dataTable['output_type'] = 'display_data';\n",
              "          await google.colab.output.renderOutput(dataTable, element);\n",
              "          const docLink = document.createElement('div');\n",
              "          docLink.innerHTML = docLinkHtml;\n",
              "          element.appendChild(docLink);\n",
              "        }\n",
              "      </script>\n",
              "    </div>\n",
              "  </div>\n",
              "  "
            ]
          },
          "metadata": {},
          "execution_count": 19
        }
      ]
    },
    {
      "cell_type": "code",
      "metadata": {
        "id": "pMcTkDqfHqQf"
      },
      "source": [
        "imdb_rated = imdb_rated.dropna(subset=['year']).reset_index(drop = True)"
      ],
      "execution_count": null,
      "outputs": []
    },
    {
      "cell_type": "markdown",
      "metadata": {
        "id": "YZkfSTLiIH6w"
      },
      "source": [
        "**Working with Genre**"
      ]
    },
    {
      "cell_type": "markdown",
      "source": [
        "Genre needs some work before turning it into dummies.\n",
        "* need to remove white spaces;\n",
        "* drop commas in case of multiple genre;\n",
        "* get info on all unique genres;\n",
        "* create a dummy variable for each genre."
      ],
      "metadata": {
        "id": "Li1Pkpi5jOSX"
      }
    },
    {
      "cell_type": "code",
      "metadata": {
        "id": "zQcN9F_1CARm"
      },
      "source": [
        "imdb_rated['genre'] = imdb_rated.genre.str.strip()# remove white spaces"
      ],
      "execution_count": null,
      "outputs": []
    },
    {
      "cell_type": "code",
      "metadata": {
        "id": "F03ITx2fJEgQ"
      },
      "source": [
        "imdb_rated['genre'] = imdb_rated.genre.str.replace(',', '') #remove comas (there is a space between too, so the words won't be collapsed together)"
      ],
      "execution_count": null,
      "outputs": []
    },
    {
      "cell_type": "code",
      "metadata": {
        "id": "P2Amb7YbIc6a"
      },
      "source": [
        "imdb_rated['list_genre'] = imdb_rated.genre.str.split() #make into lists"
      ],
      "execution_count": null,
      "outputs": []
    },
    {
      "cell_type": "code",
      "metadata": {
        "id": "_-52Bu9gJSDQ"
      },
      "source": [
        "genre_only = imdb_rated[['list_genre', 'imdb_rating']].copy() #sebset into a copy df"
      ],
      "execution_count": null,
      "outputs": []
    },
    {
      "cell_type": "markdown",
      "source": [
        "The following code:\n",
        "1. gets a list of lists for genres out of the data\n",
        "2. flattens the list\n",
        "3. gets unique genres and counts "
      ],
      "metadata": {
        "id": "bqdKF1_pkFLB"
      }
    },
    {
      "cell_type": "code",
      "source": [
        "genre_raw  = list(imdb_rated[imdb_rated.genre.notna()].list_genre) # need to drop NaNs first, because otherwise the for-loop crushes\n",
        "\n",
        "#getting the fpatlist of genres\n",
        "genre_flat = [] \n",
        "for sub in genre_raw:\n",
        "  for g in sub:\n",
        "    genre_flat.append(g)\n",
        "\n",
        "\n",
        "genre_flat = np.array(genre_flat)\n",
        "genre, count = np.unique(genre_flat, return_counts = True)\n",
        "\n",
        "genre_summary = pd.DataFrame({'genre': genre,\n",
        "                              'count': count})\n",
        "\n",
        "genre_summary = genre_summary.sort_values(by = ['count'], ascending = False)\n",
        "genre_summary"
      ],
      "metadata": {
        "colab": {
          "base_uri": "https://localhost:8080/",
          "height": 802
        },
        "id": "qFoa0ZMAnKDM",
        "outputId": "c5466766-a08f-457c-a33a-791861234921"
      },
      "execution_count": null,
      "outputs": [
        {
          "output_type": "execute_result",
          "data": {
            "text/plain": [
              "         genre  count\n",
              "6        Drama  25768\n",
              "4       Comedy  15545\n",
              "21    Thriller   8765\n",
              "11      Horror   8699\n",
              "0       Action   6718\n",
              "17     Romance   5932\n",
              "5        Crime   5067\n",
              "1    Adventure   3579\n",
              "14     Mystery   3288\n",
              "18      Sci-Fi   2632\n",
              "7       Family   2214\n",
              "8      Fantasy   2202\n",
              "2    Animation   1395\n",
              "3    Biography   1222\n",
              "12       Music   1127\n",
              "10     History    828\n",
              "19       Sport    644\n",
              "13     Musical    605\n",
              "22         War    537\n",
              "23     Western    361\n",
              "15        News     13\n",
              "16  Reality-TV      6\n",
              "20   Talk-Show      2\n",
              "9    Game-Show      1"
            ],
            "text/html": [
              "\n",
              "  <div id=\"df-67cb6901-7e0f-4cf4-904b-4dad564bef5f\">\n",
              "    <div class=\"colab-df-container\">\n",
              "      <div>\n",
              "<style scoped>\n",
              "    .dataframe tbody tr th:only-of-type {\n",
              "        vertical-align: middle;\n",
              "    }\n",
              "\n",
              "    .dataframe tbody tr th {\n",
              "        vertical-align: top;\n",
              "    }\n",
              "\n",
              "    .dataframe thead th {\n",
              "        text-align: right;\n",
              "    }\n",
              "</style>\n",
              "<table border=\"1\" class=\"dataframe\">\n",
              "  <thead>\n",
              "    <tr style=\"text-align: right;\">\n",
              "      <th></th>\n",
              "      <th>genre</th>\n",
              "      <th>count</th>\n",
              "    </tr>\n",
              "  </thead>\n",
              "  <tbody>\n",
              "    <tr>\n",
              "      <th>6</th>\n",
              "      <td>Drama</td>\n",
              "      <td>25768</td>\n",
              "    </tr>\n",
              "    <tr>\n",
              "      <th>4</th>\n",
              "      <td>Comedy</td>\n",
              "      <td>15545</td>\n",
              "    </tr>\n",
              "    <tr>\n",
              "      <th>21</th>\n",
              "      <td>Thriller</td>\n",
              "      <td>8765</td>\n",
              "    </tr>\n",
              "    <tr>\n",
              "      <th>11</th>\n",
              "      <td>Horror</td>\n",
              "      <td>8699</td>\n",
              "    </tr>\n",
              "    <tr>\n",
              "      <th>0</th>\n",
              "      <td>Action</td>\n",
              "      <td>6718</td>\n",
              "    </tr>\n",
              "    <tr>\n",
              "      <th>17</th>\n",
              "      <td>Romance</td>\n",
              "      <td>5932</td>\n",
              "    </tr>\n",
              "    <tr>\n",
              "      <th>5</th>\n",
              "      <td>Crime</td>\n",
              "      <td>5067</td>\n",
              "    </tr>\n",
              "    <tr>\n",
              "      <th>1</th>\n",
              "      <td>Adventure</td>\n",
              "      <td>3579</td>\n",
              "    </tr>\n",
              "    <tr>\n",
              "      <th>14</th>\n",
              "      <td>Mystery</td>\n",
              "      <td>3288</td>\n",
              "    </tr>\n",
              "    <tr>\n",
              "      <th>18</th>\n",
              "      <td>Sci-Fi</td>\n",
              "      <td>2632</td>\n",
              "    </tr>\n",
              "    <tr>\n",
              "      <th>7</th>\n",
              "      <td>Family</td>\n",
              "      <td>2214</td>\n",
              "    </tr>\n",
              "    <tr>\n",
              "      <th>8</th>\n",
              "      <td>Fantasy</td>\n",
              "      <td>2202</td>\n",
              "    </tr>\n",
              "    <tr>\n",
              "      <th>2</th>\n",
              "      <td>Animation</td>\n",
              "      <td>1395</td>\n",
              "    </tr>\n",
              "    <tr>\n",
              "      <th>3</th>\n",
              "      <td>Biography</td>\n",
              "      <td>1222</td>\n",
              "    </tr>\n",
              "    <tr>\n",
              "      <th>12</th>\n",
              "      <td>Music</td>\n",
              "      <td>1127</td>\n",
              "    </tr>\n",
              "    <tr>\n",
              "      <th>10</th>\n",
              "      <td>History</td>\n",
              "      <td>828</td>\n",
              "    </tr>\n",
              "    <tr>\n",
              "      <th>19</th>\n",
              "      <td>Sport</td>\n",
              "      <td>644</td>\n",
              "    </tr>\n",
              "    <tr>\n",
              "      <th>13</th>\n",
              "      <td>Musical</td>\n",
              "      <td>605</td>\n",
              "    </tr>\n",
              "    <tr>\n",
              "      <th>22</th>\n",
              "      <td>War</td>\n",
              "      <td>537</td>\n",
              "    </tr>\n",
              "    <tr>\n",
              "      <th>23</th>\n",
              "      <td>Western</td>\n",
              "      <td>361</td>\n",
              "    </tr>\n",
              "    <tr>\n",
              "      <th>15</th>\n",
              "      <td>News</td>\n",
              "      <td>13</td>\n",
              "    </tr>\n",
              "    <tr>\n",
              "      <th>16</th>\n",
              "      <td>Reality-TV</td>\n",
              "      <td>6</td>\n",
              "    </tr>\n",
              "    <tr>\n",
              "      <th>20</th>\n",
              "      <td>Talk-Show</td>\n",
              "      <td>2</td>\n",
              "    </tr>\n",
              "    <tr>\n",
              "      <th>9</th>\n",
              "      <td>Game-Show</td>\n",
              "      <td>1</td>\n",
              "    </tr>\n",
              "  </tbody>\n",
              "</table>\n",
              "</div>\n",
              "      <button class=\"colab-df-convert\" onclick=\"convertToInteractive('df-67cb6901-7e0f-4cf4-904b-4dad564bef5f')\"\n",
              "              title=\"Convert this dataframe to an interactive table.\"\n",
              "              style=\"display:none;\">\n",
              "        \n",
              "  <svg xmlns=\"http://www.w3.org/2000/svg\" height=\"24px\"viewBox=\"0 0 24 24\"\n",
              "       width=\"24px\">\n",
              "    <path d=\"M0 0h24v24H0V0z\" fill=\"none\"/>\n",
              "    <path d=\"M18.56 5.44l.94 2.06.94-2.06 2.06-.94-2.06-.94-.94-2.06-.94 2.06-2.06.94zm-11 1L8.5 8.5l.94-2.06 2.06-.94-2.06-.94L8.5 2.5l-.94 2.06-2.06.94zm10 10l.94 2.06.94-2.06 2.06-.94-2.06-.94-.94-2.06-.94 2.06-2.06.94z\"/><path d=\"M17.41 7.96l-1.37-1.37c-.4-.4-.92-.59-1.43-.59-.52 0-1.04.2-1.43.59L10.3 9.45l-7.72 7.72c-.78.78-.78 2.05 0 2.83L4 21.41c.39.39.9.59 1.41.59.51 0 1.02-.2 1.41-.59l7.78-7.78 2.81-2.81c.8-.78.8-2.07 0-2.86zM5.41 20L4 18.59l7.72-7.72 1.47 1.35L5.41 20z\"/>\n",
              "  </svg>\n",
              "      </button>\n",
              "      \n",
              "  <style>\n",
              "    .colab-df-container {\n",
              "      display:flex;\n",
              "      flex-wrap:wrap;\n",
              "      gap: 12px;\n",
              "    }\n",
              "\n",
              "    .colab-df-convert {\n",
              "      background-color: #E8F0FE;\n",
              "      border: none;\n",
              "      border-radius: 50%;\n",
              "      cursor: pointer;\n",
              "      display: none;\n",
              "      fill: #1967D2;\n",
              "      height: 32px;\n",
              "      padding: 0 0 0 0;\n",
              "      width: 32px;\n",
              "    }\n",
              "\n",
              "    .colab-df-convert:hover {\n",
              "      background-color: #E2EBFA;\n",
              "      box-shadow: 0px 1px 2px rgba(60, 64, 67, 0.3), 0px 1px 3px 1px rgba(60, 64, 67, 0.15);\n",
              "      fill: #174EA6;\n",
              "    }\n",
              "\n",
              "    [theme=dark] .colab-df-convert {\n",
              "      background-color: #3B4455;\n",
              "      fill: #D2E3FC;\n",
              "    }\n",
              "\n",
              "    [theme=dark] .colab-df-convert:hover {\n",
              "      background-color: #434B5C;\n",
              "      box-shadow: 0px 1px 3px 1px rgba(0, 0, 0, 0.15);\n",
              "      filter: drop-shadow(0px 1px 2px rgba(0, 0, 0, 0.3));\n",
              "      fill: #FFFFFF;\n",
              "    }\n",
              "  </style>\n",
              "\n",
              "      <script>\n",
              "        const buttonEl =\n",
              "          document.querySelector('#df-67cb6901-7e0f-4cf4-904b-4dad564bef5f button.colab-df-convert');\n",
              "        buttonEl.style.display =\n",
              "          google.colab.kernel.accessAllowed ? 'block' : 'none';\n",
              "\n",
              "        async function convertToInteractive(key) {\n",
              "          const element = document.querySelector('#df-67cb6901-7e0f-4cf4-904b-4dad564bef5f');\n",
              "          const dataTable =\n",
              "            await google.colab.kernel.invokeFunction('convertToInteractive',\n",
              "                                                     [key], {});\n",
              "          if (!dataTable) return;\n",
              "\n",
              "          const docLinkHtml = 'Like what you see? Visit the ' +\n",
              "            '<a target=\"_blank\" href=https://colab.research.google.com/notebooks/data_table.ipynb>data table notebook</a>'\n",
              "            + ' to learn more about interactive tables.';\n",
              "          element.innerHTML = '';\n",
              "          dataTable['output_type'] = 'display_data';\n",
              "          await google.colab.output.renderOutput(dataTable, element);\n",
              "          const docLink = document.createElement('div');\n",
              "          docLink.innerHTML = docLinkHtml;\n",
              "          element.appendChild(docLink);\n",
              "        }\n",
              "      </script>\n",
              "    </div>\n",
              "  </div>\n",
              "  "
            ]
          },
          "metadata": {},
          "execution_count": 49
        }
      ]
    },
    {
      "cell_type": "markdown",
      "source": [
        "The last 4 genres are very rare, so it's not worth to use them for creating a column. "
      ],
      "metadata": {
        "id": "uk5oMKsmo1wV"
      }
    },
    {
      "cell_type": "code",
      "metadata": {
        "colab": {
          "base_uri": "https://localhost:8080/"
        },
        "id": "P1prxJf1Nhrb",
        "outputId": "a8b94b15-5798-426c-8bb4-45753de01e5b"
      },
      "source": [
        "print(genre_summary.genre[:-4]) #those make into a column\n",
        "\n",
        "genres_key = list(genre_summary.genre[:-4])"
      ],
      "execution_count": null,
      "outputs": [
        {
          "output_type": "stream",
          "name": "stdout",
          "text": [
            "6         Drama\n",
            "4        Comedy\n",
            "21     Thriller\n",
            "11       Horror\n",
            "0        Action\n",
            "17      Romance\n",
            "5         Crime\n",
            "1     Adventure\n",
            "14      Mystery\n",
            "18       Sci-Fi\n",
            "7        Family\n",
            "8       Fantasy\n",
            "2     Animation\n",
            "3     Biography\n",
            "12        Music\n",
            "10      History\n",
            "19        Sport\n",
            "13      Musical\n",
            "22          War\n",
            "23      Western\n",
            "Name: genre, dtype: object\n"
          ]
        }
      ]
    },
    {
      "cell_type": "markdown",
      "source": [
        "Now will create a dummy variable for the each of the 20 genres. \n",
        "The code does the following:\n",
        "For each of the 20 genre, \n",
        "  1. create a list where the dummy would feed. \n",
        "  2. For each line in imdb_rated dataset first check if the genre is known.\n",
        "  3. If genre not known, fill with None\n",
        "  4. If the genre is known, check whether this movie is of the focal genre (another rason why list format for this is convinient, besides flattening and getting unique genres).  \n",
        "  5. If genre matches, record as 1, if not as 0. \n",
        "\n",
        "Once through all rows add the new dummy variable column to the dable named as genre and move to the next.   "
      ],
      "metadata": {
        "id": "sC7LkMsMpO_O"
      }
    },
    {
      "cell_type": "code",
      "metadata": {
        "id": "3Mx7erjYphLX"
      },
      "source": [
        "for gen in genres_key:\n",
        "  x = [] #feeding dummies this list before including it in df\n",
        "\n",
        "  for i in range(len(imdb_rated)):\n",
        "    if type(imdb_rated.list_genre[i]) == float: #if no genre info available\n",
        "      x.append(None)\n",
        "    else:  \n",
        "      if gen in imdb_rated.list_genre[i]: #if genre found\n",
        "        x.append(1) \n",
        "      else: #if genre not found\n",
        "        x.append(0)  \n",
        "\n",
        "  imdb_rated[gen] = x #add the dummy column in the df"
      ],
      "execution_count": null,
      "outputs": []
    },
    {
      "cell_type": "code",
      "metadata": {
        "colab": {
          "base_uri": "https://localhost:8080/",
          "height": 488
        },
        "id": "RyVQt2DRsAMo",
        "outputId": "bc1dfe7b-1d83-4f23-b405-1137133ef53d"
      },
      "source": [
        "imdb_rated.head()"
      ],
      "execution_count": null,
      "outputs": [
        {
          "output_type": "execute_result",
          "data": {
            "text/plain": [
              "                                               title     imdbID duration  \\\n",
              "0              Harry Potter and the Sorcerer's Stone  tt0241527  152 min   \n",
              "1  The Lord of the Rings: The Fellowship of the Ring  tt0120737  178 min   \n",
              "2                                         The Matrix  tt0133093  136 min   \n",
              "3                                         Fight Club  tt0137523  139 min   \n",
              "4                                Catch Me If You Can  tt0264464  141 min   \n",
              "\n",
              "                      genre  imdb_rating  metascore  \\\n",
              "0  Adventure Family Fantasy          7.6       64.0   \n",
              "1    Action Adventure Drama          8.8       92.0   \n",
              "2             Action Sci-Fi          8.7       73.0   \n",
              "3                     Drama          8.8       66.0   \n",
              "4     Biography Crime Drama          8.1       75.0   \n",
              "\n",
              "                                            synopsys    votes        gross  \\\n",
              "0  \\nAn orphaned boy enrolls in a school of wizar...   693017  317,575,550   \n",
              "1  \\nA meek Hobbit from the Shire and eight compa...  1721432  315,544,750   \n",
              "2  \\nWhen a beautiful stranger leads computer hac...  1741678  171,479,930   \n",
              "3  \\nAn insomniac office worker and a devil-may-c...  1928126   37,030,102   \n",
              "4  \\nBarely 21 yet, Frank is a skilled forger who...   877182  164,615,351   \n",
              "\n",
              "   year  ... Family  Fantasy  Animation  Biography  Music  History  Sport  \\\n",
              "0  2001  ...    1.0      1.0        0.0        0.0    0.0      0.0    0.0   \n",
              "1  2001  ...    0.0      0.0        0.0        0.0    0.0      0.0    0.0   \n",
              "2  1999  ...    0.0      0.0        0.0        0.0    0.0      0.0    0.0   \n",
              "3  1999  ...    0.0      0.0        0.0        0.0    0.0      0.0    0.0   \n",
              "4  2002  ...    0.0      0.0        0.0        1.0    0.0      0.0    0.0   \n",
              "\n",
              "   Musical  War  Western  \n",
              "0      0.0  0.0      0.0  \n",
              "1      0.0  0.0      0.0  \n",
              "2      0.0  0.0      0.0  \n",
              "3      0.0  0.0      0.0  \n",
              "4      0.0  0.0      0.0  \n",
              "\n",
              "[5 rows x 31 columns]"
            ],
            "text/html": [
              "\n",
              "  <div id=\"df-b92d85ea-295a-4eda-83a7-7d348afc9995\">\n",
              "    <div class=\"colab-df-container\">\n",
              "      <div>\n",
              "<style scoped>\n",
              "    .dataframe tbody tr th:only-of-type {\n",
              "        vertical-align: middle;\n",
              "    }\n",
              "\n",
              "    .dataframe tbody tr th {\n",
              "        vertical-align: top;\n",
              "    }\n",
              "\n",
              "    .dataframe thead th {\n",
              "        text-align: right;\n",
              "    }\n",
              "</style>\n",
              "<table border=\"1\" class=\"dataframe\">\n",
              "  <thead>\n",
              "    <tr style=\"text-align: right;\">\n",
              "      <th></th>\n",
              "      <th>title</th>\n",
              "      <th>imdbID</th>\n",
              "      <th>duration</th>\n",
              "      <th>genre</th>\n",
              "      <th>imdb_rating</th>\n",
              "      <th>metascore</th>\n",
              "      <th>synopsys</th>\n",
              "      <th>votes</th>\n",
              "      <th>gross</th>\n",
              "      <th>year</th>\n",
              "      <th>...</th>\n",
              "      <th>Family</th>\n",
              "      <th>Fantasy</th>\n",
              "      <th>Animation</th>\n",
              "      <th>Biography</th>\n",
              "      <th>Music</th>\n",
              "      <th>History</th>\n",
              "      <th>Sport</th>\n",
              "      <th>Musical</th>\n",
              "      <th>War</th>\n",
              "      <th>Western</th>\n",
              "    </tr>\n",
              "  </thead>\n",
              "  <tbody>\n",
              "    <tr>\n",
              "      <th>0</th>\n",
              "      <td>Harry Potter and the Sorcerer's Stone</td>\n",
              "      <td>tt0241527</td>\n",
              "      <td>152 min</td>\n",
              "      <td>Adventure Family Fantasy</td>\n",
              "      <td>7.6</td>\n",
              "      <td>64.0</td>\n",
              "      <td>\\nAn orphaned boy enrolls in a school of wizar...</td>\n",
              "      <td>693017</td>\n",
              "      <td>317,575,550</td>\n",
              "      <td>2001</td>\n",
              "      <td>...</td>\n",
              "      <td>1.0</td>\n",
              "      <td>1.0</td>\n",
              "      <td>0.0</td>\n",
              "      <td>0.0</td>\n",
              "      <td>0.0</td>\n",
              "      <td>0.0</td>\n",
              "      <td>0.0</td>\n",
              "      <td>0.0</td>\n",
              "      <td>0.0</td>\n",
              "      <td>0.0</td>\n",
              "    </tr>\n",
              "    <tr>\n",
              "      <th>1</th>\n",
              "      <td>The Lord of the Rings: The Fellowship of the Ring</td>\n",
              "      <td>tt0120737</td>\n",
              "      <td>178 min</td>\n",
              "      <td>Action Adventure Drama</td>\n",
              "      <td>8.8</td>\n",
              "      <td>92.0</td>\n",
              "      <td>\\nA meek Hobbit from the Shire and eight compa...</td>\n",
              "      <td>1721432</td>\n",
              "      <td>315,544,750</td>\n",
              "      <td>2001</td>\n",
              "      <td>...</td>\n",
              "      <td>0.0</td>\n",
              "      <td>0.0</td>\n",
              "      <td>0.0</td>\n",
              "      <td>0.0</td>\n",
              "      <td>0.0</td>\n",
              "      <td>0.0</td>\n",
              "      <td>0.0</td>\n",
              "      <td>0.0</td>\n",
              "      <td>0.0</td>\n",
              "      <td>0.0</td>\n",
              "    </tr>\n",
              "    <tr>\n",
              "      <th>2</th>\n",
              "      <td>The Matrix</td>\n",
              "      <td>tt0133093</td>\n",
              "      <td>136 min</td>\n",
              "      <td>Action Sci-Fi</td>\n",
              "      <td>8.7</td>\n",
              "      <td>73.0</td>\n",
              "      <td>\\nWhen a beautiful stranger leads computer hac...</td>\n",
              "      <td>1741678</td>\n",
              "      <td>171,479,930</td>\n",
              "      <td>1999</td>\n",
              "      <td>...</td>\n",
              "      <td>0.0</td>\n",
              "      <td>0.0</td>\n",
              "      <td>0.0</td>\n",
              "      <td>0.0</td>\n",
              "      <td>0.0</td>\n",
              "      <td>0.0</td>\n",
              "      <td>0.0</td>\n",
              "      <td>0.0</td>\n",
              "      <td>0.0</td>\n",
              "      <td>0.0</td>\n",
              "    </tr>\n",
              "    <tr>\n",
              "      <th>3</th>\n",
              "      <td>Fight Club</td>\n",
              "      <td>tt0137523</td>\n",
              "      <td>139 min</td>\n",
              "      <td>Drama</td>\n",
              "      <td>8.8</td>\n",
              "      <td>66.0</td>\n",
              "      <td>\\nAn insomniac office worker and a devil-may-c...</td>\n",
              "      <td>1928126</td>\n",
              "      <td>37,030,102</td>\n",
              "      <td>1999</td>\n",
              "      <td>...</td>\n",
              "      <td>0.0</td>\n",
              "      <td>0.0</td>\n",
              "      <td>0.0</td>\n",
              "      <td>0.0</td>\n",
              "      <td>0.0</td>\n",
              "      <td>0.0</td>\n",
              "      <td>0.0</td>\n",
              "      <td>0.0</td>\n",
              "      <td>0.0</td>\n",
              "      <td>0.0</td>\n",
              "    </tr>\n",
              "    <tr>\n",
              "      <th>4</th>\n",
              "      <td>Catch Me If You Can</td>\n",
              "      <td>tt0264464</td>\n",
              "      <td>141 min</td>\n",
              "      <td>Biography Crime Drama</td>\n",
              "      <td>8.1</td>\n",
              "      <td>75.0</td>\n",
              "      <td>\\nBarely 21 yet, Frank is a skilled forger who...</td>\n",
              "      <td>877182</td>\n",
              "      <td>164,615,351</td>\n",
              "      <td>2002</td>\n",
              "      <td>...</td>\n",
              "      <td>0.0</td>\n",
              "      <td>0.0</td>\n",
              "      <td>0.0</td>\n",
              "      <td>1.0</td>\n",
              "      <td>0.0</td>\n",
              "      <td>0.0</td>\n",
              "      <td>0.0</td>\n",
              "      <td>0.0</td>\n",
              "      <td>0.0</td>\n",
              "      <td>0.0</td>\n",
              "    </tr>\n",
              "  </tbody>\n",
              "</table>\n",
              "<p>5 rows × 31 columns</p>\n",
              "</div>\n",
              "      <button class=\"colab-df-convert\" onclick=\"convertToInteractive('df-b92d85ea-295a-4eda-83a7-7d348afc9995')\"\n",
              "              title=\"Convert this dataframe to an interactive table.\"\n",
              "              style=\"display:none;\">\n",
              "        \n",
              "  <svg xmlns=\"http://www.w3.org/2000/svg\" height=\"24px\"viewBox=\"0 0 24 24\"\n",
              "       width=\"24px\">\n",
              "    <path d=\"M0 0h24v24H0V0z\" fill=\"none\"/>\n",
              "    <path d=\"M18.56 5.44l.94 2.06.94-2.06 2.06-.94-2.06-.94-.94-2.06-.94 2.06-2.06.94zm-11 1L8.5 8.5l.94-2.06 2.06-.94-2.06-.94L8.5 2.5l-.94 2.06-2.06.94zm10 10l.94 2.06.94-2.06 2.06-.94-2.06-.94-.94-2.06-.94 2.06-2.06.94z\"/><path d=\"M17.41 7.96l-1.37-1.37c-.4-.4-.92-.59-1.43-.59-.52 0-1.04.2-1.43.59L10.3 9.45l-7.72 7.72c-.78.78-.78 2.05 0 2.83L4 21.41c.39.39.9.59 1.41.59.51 0 1.02-.2 1.41-.59l7.78-7.78 2.81-2.81c.8-.78.8-2.07 0-2.86zM5.41 20L4 18.59l7.72-7.72 1.47 1.35L5.41 20z\"/>\n",
              "  </svg>\n",
              "      </button>\n",
              "      \n",
              "  <style>\n",
              "    .colab-df-container {\n",
              "      display:flex;\n",
              "      flex-wrap:wrap;\n",
              "      gap: 12px;\n",
              "    }\n",
              "\n",
              "    .colab-df-convert {\n",
              "      background-color: #E8F0FE;\n",
              "      border: none;\n",
              "      border-radius: 50%;\n",
              "      cursor: pointer;\n",
              "      display: none;\n",
              "      fill: #1967D2;\n",
              "      height: 32px;\n",
              "      padding: 0 0 0 0;\n",
              "      width: 32px;\n",
              "    }\n",
              "\n",
              "    .colab-df-convert:hover {\n",
              "      background-color: #E2EBFA;\n",
              "      box-shadow: 0px 1px 2px rgba(60, 64, 67, 0.3), 0px 1px 3px 1px rgba(60, 64, 67, 0.15);\n",
              "      fill: #174EA6;\n",
              "    }\n",
              "\n",
              "    [theme=dark] .colab-df-convert {\n",
              "      background-color: #3B4455;\n",
              "      fill: #D2E3FC;\n",
              "    }\n",
              "\n",
              "    [theme=dark] .colab-df-convert:hover {\n",
              "      background-color: #434B5C;\n",
              "      box-shadow: 0px 1px 3px 1px rgba(0, 0, 0, 0.15);\n",
              "      filter: drop-shadow(0px 1px 2px rgba(0, 0, 0, 0.3));\n",
              "      fill: #FFFFFF;\n",
              "    }\n",
              "  </style>\n",
              "\n",
              "      <script>\n",
              "        const buttonEl =\n",
              "          document.querySelector('#df-b92d85ea-295a-4eda-83a7-7d348afc9995 button.colab-df-convert');\n",
              "        buttonEl.style.display =\n",
              "          google.colab.kernel.accessAllowed ? 'block' : 'none';\n",
              "\n",
              "        async function convertToInteractive(key) {\n",
              "          const element = document.querySelector('#df-b92d85ea-295a-4eda-83a7-7d348afc9995');\n",
              "          const dataTable =\n",
              "            await google.colab.kernel.invokeFunction('convertToInteractive',\n",
              "                                                     [key], {});\n",
              "          if (!dataTable) return;\n",
              "\n",
              "          const docLinkHtml = 'Like what you see? Visit the ' +\n",
              "            '<a target=\"_blank\" href=https://colab.research.google.com/notebooks/data_table.ipynb>data table notebook</a>'\n",
              "            + ' to learn more about interactive tables.';\n",
              "          element.innerHTML = '';\n",
              "          dataTable['output_type'] = 'display_data';\n",
              "          await google.colab.output.renderOutput(dataTable, element);\n",
              "          const docLink = document.createElement('div');\n",
              "          docLink.innerHTML = docLinkHtml;\n",
              "          element.appendChild(docLink);\n",
              "        }\n",
              "      </script>\n",
              "    </div>\n",
              "  </div>\n",
              "  "
            ]
          },
          "metadata": {},
          "execution_count": 54
        }
      ]
    },
    {
      "cell_type": "markdown",
      "metadata": {
        "id": "jAwsqAabvHZ5"
      },
      "source": [
        "**Aligning Data Formats**"
      ]
    },
    {
      "cell_type": "code",
      "metadata": {
        "colab": {
          "base_uri": "https://localhost:8080/"
        },
        "id": "_l1zZHRUuXnR",
        "outputId": "1b95480f-7106-4bdc-f96e-4bdc73a861af"
      },
      "source": [
        "imdb_rated.info()"
      ],
      "execution_count": null,
      "outputs": [
        {
          "output_type": "stream",
          "name": "stdout",
          "text": [
            "<class 'pandas.core.frame.DataFrame'>\n",
            "RangeIndex: 51440 entries, 0 to 51439\n",
            "Data columns (total 31 columns):\n",
            " #   Column       Non-Null Count  Dtype  \n",
            "---  ------       --------------  -----  \n",
            " 0   title        51440 non-null  object \n",
            " 1   imdbID       51440 non-null  object \n",
            " 2   duration     47492 non-null  object \n",
            " 3   genre        50573 non-null  object \n",
            " 4   imdb_rating  51440 non-null  float64\n",
            " 5   metascore    8921 non-null   float64\n",
            " 6   synopsys     51440 non-null  object \n",
            " 7   votes        51440 non-null  object \n",
            " 8   gross        7211 non-null   object \n",
            " 9   year         51440 non-null  object \n",
            " 10  list_genre   50573 non-null  object \n",
            " 11  Drama        50573 non-null  float64\n",
            " 12  Comedy       50573 non-null  float64\n",
            " 13  Thriller     50573 non-null  float64\n",
            " 14  Horror       50573 non-null  float64\n",
            " 15  Action       50573 non-null  float64\n",
            " 16  Romance      50573 non-null  float64\n",
            " 17  Crime        50573 non-null  float64\n",
            " 18  Adventure    50573 non-null  float64\n",
            " 19  Mystery      50573 non-null  float64\n",
            " 20  Sci-Fi       50573 non-null  float64\n",
            " 21  Family       50573 non-null  float64\n",
            " 22  Fantasy      50573 non-null  float64\n",
            " 23  Animation    50573 non-null  float64\n",
            " 24  Biography    50573 non-null  float64\n",
            " 25  Music        50573 non-null  float64\n",
            " 26  History      50573 non-null  float64\n",
            " 27  Sport        50573 non-null  float64\n",
            " 28  Musical      50573 non-null  float64\n",
            " 29  War          50573 non-null  float64\n",
            " 30  Western      50573 non-null  float64\n",
            "dtypes: float64(22), object(9)\n",
            "memory usage: 12.2+ MB\n"
          ]
        }
      ]
    },
    {
      "cell_type": "markdown",
      "source": [
        "Duration, votes, gross need to be turned into integers and year to date format for year. "
      ],
      "metadata": {
        "id": "YSm1ZLqquq_X"
      }
    },
    {
      "cell_type": "markdown",
      "metadata": {
        "id": "PYT5MARE2shI"
      },
      "source": [
        "*Duration*"
      ]
    },
    {
      "cell_type": "code",
      "metadata": {
        "id": "oG1U49WBvK5H"
      },
      "source": [
        "imdb_rated.duration = imdb_rated.duration.str.replace(' min', '')\n",
        "imdb_rated.duration = imdb_rated.duration.str.replace(',', '')\n",
        "imdb_rated.duration = imdb_rated.duration.fillna(np.nan) #convert NAs to numpy format\n",
        "imdb_rated.duration = imdb_rated.duration.astype(float) #so that it does not throw errors first\n",
        "imdb_rated.duration = imdb_rated.duration.astype('Int64')#convert to pandas integer format this important for NA (capital I)"
      ],
      "execution_count": null,
      "outputs": []
    },
    {
      "cell_type": "markdown",
      "metadata": {
        "id": "SK4u2Iab2uGE"
      },
      "source": [
        "*Votes*"
      ]
    },
    {
      "cell_type": "code",
      "metadata": {
        "id": "A9pLvsd3yul_"
      },
      "source": [
        "imdb_rated.votes = imdb_rated.votes.astype(float)\n",
        "imdb_rated.votes = imdb_rated.votes.astype('Int64')"
      ],
      "execution_count": null,
      "outputs": []
    },
    {
      "cell_type": "markdown",
      "metadata": {
        "id": "GX0U1VuB2vYA"
      },
      "source": [
        "*Gross*"
      ]
    },
    {
      "cell_type": "code",
      "metadata": {
        "id": "LRi6_mG22wmo"
      },
      "source": [
        "imdb_rated.gross = imdb_rated.gross.str.replace(',', '')\n",
        "imdb_rated.gross = imdb_rated.gross.fillna(np.nan)\n",
        "imdb_rated.gross = imdb_rated.gross.astype(float)\n",
        "imdb_rated.gross = imdb_rated.gross.astype('Int64')"
      ],
      "execution_count": null,
      "outputs": []
    },
    {
      "cell_type": "markdown",
      "metadata": {
        "id": "VJQiisYXDXlv"
      },
      "source": [
        "*Year*"
      ]
    },
    {
      "cell_type": "code",
      "metadata": {
        "id": "AMX4BW5BDZfH"
      },
      "source": [
        "imdb_rated.year = pd.to_datetime(imdb_rated.year, format = '%Y') # this will date all movies on 1st of january for the respective year\n",
        "imdb_rated.year = pd.DatetimeIndex(imdb_rated.year).year # this takes only year, but then makes it into integer, so not much use in playing with this format"
      ],
      "execution_count": null,
      "outputs": []
    },
    {
      "cell_type": "code",
      "metadata": {
        "colab": {
          "base_uri": "https://localhost:8080/",
          "height": 488
        },
        "id": "RLXYF7tn0c0B",
        "outputId": "eb423bcd-f9f8-46ea-f297-f453e0be93c0"
      },
      "source": [
        "imdb_rated.head()"
      ],
      "execution_count": null,
      "outputs": [
        {
          "output_type": "execute_result",
          "data": {
            "text/plain": [
              "                                               title     imdbID  duration  \\\n",
              "0              Harry Potter and the Sorcerer's Stone  tt0241527       152   \n",
              "1  The Lord of the Rings: The Fellowship of the Ring  tt0120737       178   \n",
              "2                                         The Matrix  tt0133093       136   \n",
              "3                                         Fight Club  tt0137523       139   \n",
              "4                                Catch Me If You Can  tt0264464       141   \n",
              "\n",
              "                      genre  imdb_rating  metascore  \\\n",
              "0  Adventure Family Fantasy          7.6       64.0   \n",
              "1    Action Adventure Drama          8.8       92.0   \n",
              "2             Action Sci-Fi          8.7       73.0   \n",
              "3                     Drama          8.8       66.0   \n",
              "4     Biography Crime Drama          8.1       75.0   \n",
              "\n",
              "                                            synopsys    votes      gross  \\\n",
              "0  \\nAn orphaned boy enrolls in a school of wizar...   693017  317575550   \n",
              "1  \\nA meek Hobbit from the Shire and eight compa...  1721432  315544750   \n",
              "2  \\nWhen a beautiful stranger leads computer hac...  1741678  171479930   \n",
              "3  \\nAn insomniac office worker and a devil-may-c...  1928126   37030102   \n",
              "4  \\nBarely 21 yet, Frank is a skilled forger who...   877182  164615351   \n",
              "\n",
              "   year  ... Family  Fantasy  Animation  Biography  Music  History  Sport  \\\n",
              "0  2001  ...    1.0      1.0        0.0        0.0    0.0      0.0    0.0   \n",
              "1  2001  ...    0.0      0.0        0.0        0.0    0.0      0.0    0.0   \n",
              "2  1999  ...    0.0      0.0        0.0        0.0    0.0      0.0    0.0   \n",
              "3  1999  ...    0.0      0.0        0.0        0.0    0.0      0.0    0.0   \n",
              "4  2002  ...    0.0      0.0        0.0        1.0    0.0      0.0    0.0   \n",
              "\n",
              "   Musical  War  Western  \n",
              "0      0.0  0.0      0.0  \n",
              "1      0.0  0.0      0.0  \n",
              "2      0.0  0.0      0.0  \n",
              "3      0.0  0.0      0.0  \n",
              "4      0.0  0.0      0.0  \n",
              "\n",
              "[5 rows x 31 columns]"
            ],
            "text/html": [
              "\n",
              "  <div id=\"df-75718e0a-67a9-445b-8cb1-ccae17b4d0fc\">\n",
              "    <div class=\"colab-df-container\">\n",
              "      <div>\n",
              "<style scoped>\n",
              "    .dataframe tbody tr th:only-of-type {\n",
              "        vertical-align: middle;\n",
              "    }\n",
              "\n",
              "    .dataframe tbody tr th {\n",
              "        vertical-align: top;\n",
              "    }\n",
              "\n",
              "    .dataframe thead th {\n",
              "        text-align: right;\n",
              "    }\n",
              "</style>\n",
              "<table border=\"1\" class=\"dataframe\">\n",
              "  <thead>\n",
              "    <tr style=\"text-align: right;\">\n",
              "      <th></th>\n",
              "      <th>title</th>\n",
              "      <th>imdbID</th>\n",
              "      <th>duration</th>\n",
              "      <th>genre</th>\n",
              "      <th>imdb_rating</th>\n",
              "      <th>metascore</th>\n",
              "      <th>synopsys</th>\n",
              "      <th>votes</th>\n",
              "      <th>gross</th>\n",
              "      <th>year</th>\n",
              "      <th>...</th>\n",
              "      <th>Family</th>\n",
              "      <th>Fantasy</th>\n",
              "      <th>Animation</th>\n",
              "      <th>Biography</th>\n",
              "      <th>Music</th>\n",
              "      <th>History</th>\n",
              "      <th>Sport</th>\n",
              "      <th>Musical</th>\n",
              "      <th>War</th>\n",
              "      <th>Western</th>\n",
              "    </tr>\n",
              "  </thead>\n",
              "  <tbody>\n",
              "    <tr>\n",
              "      <th>0</th>\n",
              "      <td>Harry Potter and the Sorcerer's Stone</td>\n",
              "      <td>tt0241527</td>\n",
              "      <td>152</td>\n",
              "      <td>Adventure Family Fantasy</td>\n",
              "      <td>7.6</td>\n",
              "      <td>64.0</td>\n",
              "      <td>\\nAn orphaned boy enrolls in a school of wizar...</td>\n",
              "      <td>693017</td>\n",
              "      <td>317575550</td>\n",
              "      <td>2001</td>\n",
              "      <td>...</td>\n",
              "      <td>1.0</td>\n",
              "      <td>1.0</td>\n",
              "      <td>0.0</td>\n",
              "      <td>0.0</td>\n",
              "      <td>0.0</td>\n",
              "      <td>0.0</td>\n",
              "      <td>0.0</td>\n",
              "      <td>0.0</td>\n",
              "      <td>0.0</td>\n",
              "      <td>0.0</td>\n",
              "    </tr>\n",
              "    <tr>\n",
              "      <th>1</th>\n",
              "      <td>The Lord of the Rings: The Fellowship of the Ring</td>\n",
              "      <td>tt0120737</td>\n",
              "      <td>178</td>\n",
              "      <td>Action Adventure Drama</td>\n",
              "      <td>8.8</td>\n",
              "      <td>92.0</td>\n",
              "      <td>\\nA meek Hobbit from the Shire and eight compa...</td>\n",
              "      <td>1721432</td>\n",
              "      <td>315544750</td>\n",
              "      <td>2001</td>\n",
              "      <td>...</td>\n",
              "      <td>0.0</td>\n",
              "      <td>0.0</td>\n",
              "      <td>0.0</td>\n",
              "      <td>0.0</td>\n",
              "      <td>0.0</td>\n",
              "      <td>0.0</td>\n",
              "      <td>0.0</td>\n",
              "      <td>0.0</td>\n",
              "      <td>0.0</td>\n",
              "      <td>0.0</td>\n",
              "    </tr>\n",
              "    <tr>\n",
              "      <th>2</th>\n",
              "      <td>The Matrix</td>\n",
              "      <td>tt0133093</td>\n",
              "      <td>136</td>\n",
              "      <td>Action Sci-Fi</td>\n",
              "      <td>8.7</td>\n",
              "      <td>73.0</td>\n",
              "      <td>\\nWhen a beautiful stranger leads computer hac...</td>\n",
              "      <td>1741678</td>\n",
              "      <td>171479930</td>\n",
              "      <td>1999</td>\n",
              "      <td>...</td>\n",
              "      <td>0.0</td>\n",
              "      <td>0.0</td>\n",
              "      <td>0.0</td>\n",
              "      <td>0.0</td>\n",
              "      <td>0.0</td>\n",
              "      <td>0.0</td>\n",
              "      <td>0.0</td>\n",
              "      <td>0.0</td>\n",
              "      <td>0.0</td>\n",
              "      <td>0.0</td>\n",
              "    </tr>\n",
              "    <tr>\n",
              "      <th>3</th>\n",
              "      <td>Fight Club</td>\n",
              "      <td>tt0137523</td>\n",
              "      <td>139</td>\n",
              "      <td>Drama</td>\n",
              "      <td>8.8</td>\n",
              "      <td>66.0</td>\n",
              "      <td>\\nAn insomniac office worker and a devil-may-c...</td>\n",
              "      <td>1928126</td>\n",
              "      <td>37030102</td>\n",
              "      <td>1999</td>\n",
              "      <td>...</td>\n",
              "      <td>0.0</td>\n",
              "      <td>0.0</td>\n",
              "      <td>0.0</td>\n",
              "      <td>0.0</td>\n",
              "      <td>0.0</td>\n",
              "      <td>0.0</td>\n",
              "      <td>0.0</td>\n",
              "      <td>0.0</td>\n",
              "      <td>0.0</td>\n",
              "      <td>0.0</td>\n",
              "    </tr>\n",
              "    <tr>\n",
              "      <th>4</th>\n",
              "      <td>Catch Me If You Can</td>\n",
              "      <td>tt0264464</td>\n",
              "      <td>141</td>\n",
              "      <td>Biography Crime Drama</td>\n",
              "      <td>8.1</td>\n",
              "      <td>75.0</td>\n",
              "      <td>\\nBarely 21 yet, Frank is a skilled forger who...</td>\n",
              "      <td>877182</td>\n",
              "      <td>164615351</td>\n",
              "      <td>2002</td>\n",
              "      <td>...</td>\n",
              "      <td>0.0</td>\n",
              "      <td>0.0</td>\n",
              "      <td>0.0</td>\n",
              "      <td>1.0</td>\n",
              "      <td>0.0</td>\n",
              "      <td>0.0</td>\n",
              "      <td>0.0</td>\n",
              "      <td>0.0</td>\n",
              "      <td>0.0</td>\n",
              "      <td>0.0</td>\n",
              "    </tr>\n",
              "  </tbody>\n",
              "</table>\n",
              "<p>5 rows × 31 columns</p>\n",
              "</div>\n",
              "      <button class=\"colab-df-convert\" onclick=\"convertToInteractive('df-75718e0a-67a9-445b-8cb1-ccae17b4d0fc')\"\n",
              "              title=\"Convert this dataframe to an interactive table.\"\n",
              "              style=\"display:none;\">\n",
              "        \n",
              "  <svg xmlns=\"http://www.w3.org/2000/svg\" height=\"24px\"viewBox=\"0 0 24 24\"\n",
              "       width=\"24px\">\n",
              "    <path d=\"M0 0h24v24H0V0z\" fill=\"none\"/>\n",
              "    <path d=\"M18.56 5.44l.94 2.06.94-2.06 2.06-.94-2.06-.94-.94-2.06-.94 2.06-2.06.94zm-11 1L8.5 8.5l.94-2.06 2.06-.94-2.06-.94L8.5 2.5l-.94 2.06-2.06.94zm10 10l.94 2.06.94-2.06 2.06-.94-2.06-.94-.94-2.06-.94 2.06-2.06.94z\"/><path d=\"M17.41 7.96l-1.37-1.37c-.4-.4-.92-.59-1.43-.59-.52 0-1.04.2-1.43.59L10.3 9.45l-7.72 7.72c-.78.78-.78 2.05 0 2.83L4 21.41c.39.39.9.59 1.41.59.51 0 1.02-.2 1.41-.59l7.78-7.78 2.81-2.81c.8-.78.8-2.07 0-2.86zM5.41 20L4 18.59l7.72-7.72 1.47 1.35L5.41 20z\"/>\n",
              "  </svg>\n",
              "      </button>\n",
              "      \n",
              "  <style>\n",
              "    .colab-df-container {\n",
              "      display:flex;\n",
              "      flex-wrap:wrap;\n",
              "      gap: 12px;\n",
              "    }\n",
              "\n",
              "    .colab-df-convert {\n",
              "      background-color: #E8F0FE;\n",
              "      border: none;\n",
              "      border-radius: 50%;\n",
              "      cursor: pointer;\n",
              "      display: none;\n",
              "      fill: #1967D2;\n",
              "      height: 32px;\n",
              "      padding: 0 0 0 0;\n",
              "      width: 32px;\n",
              "    }\n",
              "\n",
              "    .colab-df-convert:hover {\n",
              "      background-color: #E2EBFA;\n",
              "      box-shadow: 0px 1px 2px rgba(60, 64, 67, 0.3), 0px 1px 3px 1px rgba(60, 64, 67, 0.15);\n",
              "      fill: #174EA6;\n",
              "    }\n",
              "\n",
              "    [theme=dark] .colab-df-convert {\n",
              "      background-color: #3B4455;\n",
              "      fill: #D2E3FC;\n",
              "    }\n",
              "\n",
              "    [theme=dark] .colab-df-convert:hover {\n",
              "      background-color: #434B5C;\n",
              "      box-shadow: 0px 1px 3px 1px rgba(0, 0, 0, 0.15);\n",
              "      filter: drop-shadow(0px 1px 2px rgba(0, 0, 0, 0.3));\n",
              "      fill: #FFFFFF;\n",
              "    }\n",
              "  </style>\n",
              "\n",
              "      <script>\n",
              "        const buttonEl =\n",
              "          document.querySelector('#df-75718e0a-67a9-445b-8cb1-ccae17b4d0fc button.colab-df-convert');\n",
              "        buttonEl.style.display =\n",
              "          google.colab.kernel.accessAllowed ? 'block' : 'none';\n",
              "\n",
              "        async function convertToInteractive(key) {\n",
              "          const element = document.querySelector('#df-75718e0a-67a9-445b-8cb1-ccae17b4d0fc');\n",
              "          const dataTable =\n",
              "            await google.colab.kernel.invokeFunction('convertToInteractive',\n",
              "                                                     [key], {});\n",
              "          if (!dataTable) return;\n",
              "\n",
              "          const docLinkHtml = 'Like what you see? Visit the ' +\n",
              "            '<a target=\"_blank\" href=https://colab.research.google.com/notebooks/data_table.ipynb>data table notebook</a>'\n",
              "            + ' to learn more about interactive tables.';\n",
              "          element.innerHTML = '';\n",
              "          dataTable['output_type'] = 'display_data';\n",
              "          await google.colab.output.renderOutput(dataTable, element);\n",
              "          const docLink = document.createElement('div');\n",
              "          docLink.innerHTML = docLinkHtml;\n",
              "          element.appendChild(docLink);\n",
              "        }\n",
              "      </script>\n",
              "    </div>\n",
              "  </div>\n",
              "  "
            ]
          },
          "metadata": {},
          "execution_count": 77
        }
      ]
    },
    {
      "cell_type": "code",
      "metadata": {
        "colab": {
          "base_uri": "https://localhost:8080/"
        },
        "id": "JHcA684a2bHR",
        "outputId": "2fbbad6f-04a9-428c-afe5-01161f0eda83"
      },
      "source": [
        "imdb_rated.info()"
      ],
      "execution_count": null,
      "outputs": [
        {
          "output_type": "stream",
          "name": "stdout",
          "text": [
            "<class 'pandas.core.frame.DataFrame'>\n",
            "RangeIndex: 51440 entries, 0 to 51439\n",
            "Data columns (total 31 columns):\n",
            " #   Column       Non-Null Count  Dtype  \n",
            "---  ------       --------------  -----  \n",
            " 0   title        51440 non-null  object \n",
            " 1   imdbID       51440 non-null  object \n",
            " 2   duration     47492 non-null  Int64  \n",
            " 3   genre        50573 non-null  object \n",
            " 4   imdb_rating  51440 non-null  float64\n",
            " 5   metascore    8921 non-null   float64\n",
            " 6   synopsys     51440 non-null  object \n",
            " 7   votes        51440 non-null  Int64  \n",
            " 8   gross        7211 non-null   Int64  \n",
            " 9   year         51440 non-null  int64  \n",
            " 10  list_genre   50573 non-null  object \n",
            " 11  Drama        50573 non-null  float64\n",
            " 12  Comedy       50573 non-null  float64\n",
            " 13  Thriller     50573 non-null  float64\n",
            " 14  Horror       50573 non-null  float64\n",
            " 15  Action       50573 non-null  float64\n",
            " 16  Romance      50573 non-null  float64\n",
            " 17  Crime        50573 non-null  float64\n",
            " 18  Adventure    50573 non-null  float64\n",
            " 19  Mystery      50573 non-null  float64\n",
            " 20  Sci-Fi       50573 non-null  float64\n",
            " 21  Family       50573 non-null  float64\n",
            " 22  Fantasy      50573 non-null  float64\n",
            " 23  Animation    50573 non-null  float64\n",
            " 24  Biography    50573 non-null  float64\n",
            " 25  Music        50573 non-null  float64\n",
            " 26  History      50573 non-null  float64\n",
            " 27  Sport        50573 non-null  float64\n",
            " 28  Musical      50573 non-null  float64\n",
            " 29  War          50573 non-null  float64\n",
            " 30  Western      50573 non-null  float64\n",
            "dtypes: Int64(3), float64(22), int64(1), object(5)\n",
            "memory usage: 12.3+ MB\n"
          ]
        }
      ]
    },
    {
      "cell_type": "code",
      "metadata": {
        "id": "RF0KY-_FEK5m",
        "outputId": "71a1833a-5cfa-4f35-c2ed-568630656aa9",
        "colab": {
          "base_uri": "https://localhost:8080/"
        }
      },
      "source": [
        "len(imdb_rated)"
      ],
      "execution_count": null,
      "outputs": [
        {
          "output_type": "execute_result",
          "data": {
            "text/plain": [
              "51440"
            ]
          },
          "metadata": {},
          "execution_count": 68
        }
      ]
    },
    {
      "cell_type": "markdown",
      "source": [
        "Now ended up with 51440 movies in the final dataset. "
      ],
      "metadata": {
        "id": "VANJVKWMvUzK"
      }
    },
    {
      "cell_type": "code",
      "metadata": {
        "id": "b6hAXBu7EBnx"
      },
      "source": [
        "imdb_rated.to_csv('imdb_merged.csv') #save the clean set\n",
        "\n",
        "!cp imdb_merged.csv \"/content/drive/MyDrive/movies_scraped\""
      ],
      "execution_count": null,
      "outputs": []
    },
    {
      "cell_type": "markdown",
      "source": [
        "The scraping is part of a bigger project idea on exploring perception of creativity in mass creative products (well, movies). See another notebook for a brief exploration of the data collected here during scraping. "
      ],
      "metadata": {
        "id": "JMdEwOjdzykp"
      }
    }
  ]
}